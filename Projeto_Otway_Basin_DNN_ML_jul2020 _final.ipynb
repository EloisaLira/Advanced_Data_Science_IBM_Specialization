{
 "cells": [
  {
   "cell_type": "markdown",
   "metadata": {},
   "source": [
    "# Project Asset Submission\n",
    "*****\n",
    "\n",
    "\n",
    "### Eloisa Moreira de Lira\n",
    "### Geologist Bach and Reservoir Geophysist\n",
    "eloisalira@gmail.com"
   ]
  },
  {
   "cell_type": "markdown",
   "metadata": {},
   "source": [
    "**This assigmnet is destinated to conclude the IBM Advanced Data Science Specialization. All these informations came from free datasets referenced bellow. THIS RESERCH HAVE ONLY EDUCATIONAL PURPOSE.**"
   ]
  },
  {
   "cell_type": "code",
   "execution_count": null,
   "metadata": {},
   "outputs": [],
   "source": []
  },
  {
   "cell_type": "markdown",
   "metadata": {},
   "source": [
    "### Geological Overview\n",
    "**********"
   ]
  },
  {
   "cell_type": "markdown",
   "metadata": {},
   "source": [
    "The Otway Basin is a north-west to south-east striking, divergent margin, rift and drift basin. It is approximately 500km long from Cape Jaffa in South Australia to north-west Tasmania and forms part of the 4 000km long Jurassic-Cretaceous Australian Southern Rift System.[1]"
   ]
  },
  {
   "cell_type": "markdown",
   "metadata": {},
   "source": [
    "The basin dates from the late Jurassic to late Cretaceous periods and formed by multi-stage rifting during the breakup of Gondwana and the separation of the Antarctic and Australian plates. The basin contains a significant amount of natural gas and is a current source of commercial extraction.[5]"
   ]
  },
  {
   "cell_type": "markdown",
   "metadata": {},
   "source": [
    "## Summary Facts"
   ]
  },
  {
   "cell_type": "code",
   "execution_count": 1,
   "metadata": {},
   "outputs": [
    {
     "name": "stdout",
     "output_type": "stream",
     "text": [
      "\n",
      "Usage:   \n",
      "  /home/familia/anaconda3/bin/python -m pip install [options] <requirement specifier> [package-index-options] ...\n",
      "  /home/familia/anaconda3/bin/python -m pip install [options] -r <requirements file> [package-index-options] ...\n",
      "  /home/familia/anaconda3/bin/python -m pip install [options] [-e] <vcs project url> ...\n",
      "  /home/familia/anaconda3/bin/python -m pip install [options] [-e] <local project path> ...\n",
      "  /home/familia/anaconda3/bin/python -m pip install [options] <archive url/path> ...\n",
      "\n",
      "no such option: --yes\n",
      "Note: you may need to restart the kernel to use updated packages.\n"
     ]
    }
   ],
   "source": [
    "%pip install -c conda-forge geopy --yes "
   ]
  },
  {
   "cell_type": "code",
   "execution_count": 2,
   "metadata": {},
   "outputs": [
    {
     "name": "stdout",
     "output_type": "stream",
     "text": [
      "\n",
      "Usage:   \n",
      "  /home/familia/anaconda3/bin/python -m pip install [options] <requirement specifier> [package-index-options] ...\n",
      "  /home/familia/anaconda3/bin/python -m pip install [options] -r <requirements file> [package-index-options] ...\n",
      "  /home/familia/anaconda3/bin/python -m pip install [options] [-e] <vcs project url> ...\n",
      "  /home/familia/anaconda3/bin/python -m pip install [options] [-e] <local project path> ...\n",
      "  /home/familia/anaconda3/bin/python -m pip install [options] <archive url/path> ...\n",
      "\n",
      "no such option: --yes\n",
      "Note: you may need to restart the kernel to use updated packages.\n"
     ]
    },
    {
     "data": {
      "text/html": [
       "<div style=\"width:100%;\"><div style=\"position:relative;width:100%;height:0;padding-bottom:60%;\"><iframe src=\"about:blank\" style=\"position:absolute;width:100%;height:100%;left:0;top:0;border:none !important;\" data-html=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 onload=\"this.contentDocument.open();this.contentDocument.write(atob(this.getAttribute('data-html')));this.contentDocument.close();\" allowfullscreen webkitallowfullscreen mozallowfullscreen></iframe></div></div>"
      ],
      "text/plain": [
       "<folium.folium.Map at 0x7f92f7165518>"
      ]
     },
     "execution_count": 2,
     "metadata": {},
     "output_type": "execute_result"
    }
   ],
   "source": [
    "%pip install -c conda-forge folium=0.5.0 --yes\n",
    "import folium # plotting library\n",
    "from geopy.geocoders import Nominatim # module to convert an address into latitude and longitude values\n",
    "\n",
    "S_australia=folium.Map(location= [-38, 141], zoom_start=4, tiles='Stamen Terrain') #from Google Maps\n",
    "\n",
    "folium.Marker(\n",
    "    location=[-38, 141],\n",
    "    popup='Otway Basin',\n",
    "    icon=folium.Icon(color='Red')\n",
    ").add_to(S_australia)\n",
    "\n",
    "S_australia"
   ]
  },
  {
   "cell_type": "markdown",
   "metadata": {},
   "source": [
    "|Summary\t\t                        |                                                   |\n",
    "|-----------------------------------\t|-------------------------------------------------\t|\n",
    "| Age                               \t| Jurassic - Late Cretaceous                      \t|\n",
    "| Onshore Exploration Well Density  \t| 1 well per 121 km2                              \t|\n",
    "| Onshore success ratio             \t| 12,5%                                           \t|\n",
    "| Offshore exploration well Density \t| 1 well per 5,000 km2                            \t|\n",
    "| Depth to target zone              \t| 1000-4000+ m                                    \t|\n",
    "| Thickness                         \t| >9 km                                           \t|\n",
    "| First commercial discovery        \t| 1987 (Katnook 1) 1967 CO2 (Caroline 1)          \t|\n",
    "| Identified reserves               \t| 78.1 PJ (74 x 1012 Btu) sales gas (in 6 fields) \t|\n",
    "\n",
    "  \n",
    "|                                Source data[4]                                               |\n",
    "|---------------------------------------------------------------------------------------------|"
   ]
  },
  {
   "cell_type": "markdown",
   "metadata": {},
   "source": [
    "\n",
    "\n",
    "![Otway Basin 2 ](https://www.ga.gov.au/__data/assets/image/0013/13045/9167-65.jpg)\n",
    "\n",
    "**Location of Basin in yellow-greenish.**"
   ]
  },
  {
   "cell_type": "markdown",
   "metadata": {},
   "source": [
    "The Late Jurassic-Cenozoic Otway Basin is a large, northwest trending on/offshore basin on the southern Australian passive margin. Exploration is mature onshore and immature offshore, with >200 wells in South Australia, Victoria and Tasmania. Commercial gas discoveries include industrial grade CO2. No commercial oil discoveries have been identified.\n",
    "\n",
    "The basin formed by multi-stage rift-sag and inversion phases. Late Jurassic to Early Cretaceous rifting resulted in the east-west trending Inner Otway Basin. Late Cretaceous rifting, culminating in continental breakup in the Maastrichtian, produced northwest-southeast trending depocentres beneath the outer shelf and slope. Multiple phases of compression in the Cretaceous-Recent resulted in inversion and wrenching of pre-existing structures.\n",
    "\n",
    "The basin contains five major depocentres, the mainly onshore Inner Otway Basin, the offshore Morum, Nelson and Hunter Sub-basins and eastern Torquay Sub-basin. The Latest Jurassic-Early Cretaceous Otway Supergroup comprises up to 8km of continental and fluvio-lacustrine sediments that accumulated in grabens and half-grabens of the first rifting event. Coastal-plain, deltaic and marine sediments of the Late Cretaceous Sherbrook Group are up to 5km thick. The Paleocene-middle Eocene Wangerrip Group sediments were deposited in coastal plain, deltaic and inner shelf settings and are separated from the open marine, mixed carbonates/siliciclastics of the Eocene-Miocene Nirrandra and Heytesbury groups, by a major unconformity.\n",
    "\n",
    "The main exploration targets in the Otway Basin are the Waarre Sandstone at the base of the Sherbrook Group and sandstones of the Pretty Hill Formation and Katnook Sandstone/Windermere Sandstone Member in the Early Cretaceous section. The main source rocks occur in the Early Cretaceous section. Regional and intraformational seals exist in the Pretty Hill, Laira, Eumeralla and Flaxman formations, the Belfast, Skull Creek and Pember mudstones and mudstones and marls of the Wangerrip, Nirrandra and Heytesbury groups. Play types include faulted anticlines, large anticlinal features and tilted fault blocks.[1]"
   ]
  },
  {
   "cell_type": "markdown",
   "metadata": {},
   "source": [
    "\n",
    "\n",
    "![Stratigraphic Chart](https://www.ga.gov.au/__data/assets/image/0016/13048/GA18588.jpg)\n",
    "\n",
    "#### Stratigraphic and Basin Event Chart of the Otway Basin"
   ]
  },
  {
   "cell_type": "markdown",
   "metadata": {},
   "source": [
    "### Structural Elements"
   ]
  },
  {
   "cell_type": "markdown",
   "metadata": {},
   "source": [
    "The basin includes five significant depocenters. The Inner Otway Basin, Torquay Sub-basin, Morum Sub-basin, Nelson Sub-basin, and Hunter Sub-basin formed as a result of two major, basin-wide rifting phases. At the onset of major north-south rifting in the late Jurassic several east-west trending extensional depocenters developed in the onshore part of the basin to define the Inner Otway Basin. Renewed rifting in the late Cretaceous was driven by a change in crustal extension style from north-south to northeast-southwest resulting in the structurally different, northwest-southeast trending Torquay, Morum, Nelson, and Hunter Sub-basins in the mid- and off-shore. Following each rifting episode the basin underwent compressional phases resulting in the inversion and wrenching of pre-existing structures.[2]"
   ]
  },
  {
   "cell_type": "markdown",
   "metadata": {},
   "source": [
    "![Structural](https://www.ga.gov.au/__data/assets/image/0014/13046/GA7391.gif)"
   ]
  },
  {
   "cell_type": "code",
   "execution_count": null,
   "metadata": {},
   "outputs": [],
   "source": []
  },
  {
   "cell_type": "markdown",
   "metadata": {},
   "source": [
    "### Loading Wells"
   ]
  },
  {
   "cell_type": "markdown",
   "metadata": {},
   "source": [
    "Reference links from download"
   ]
  },
  {
   "cell_type": "markdown",
   "metadata": {},
   "source": [
    "https://sarigbasis.pir.sa.gov.au/WebtopEw/ws/samref/sarig1/wcir/Record;jsessionid=E0E64FB23D26AC838007680E46C88B18\n"
   ]
  },
  {
   "cell_type": "markdown",
   "metadata": {},
   "source": [
    "## Project's Use Case"
   ]
  },
  {
   "cell_type": "markdown",
   "metadata": {},
   "source": [
    "In the oil and gas development and exploration industry, geophysical logging is the most important technology to collect data for detailed description, evaluation, and management of oil and gas reservoirs.\n",
    "However, due, to drilling conditions,  instrument fault, differences in logging conditions, data loss due to improper storage, and the concern of explorations costs, inevitably there will be incomplete logs or even missing logs.\n",
    "\n",
    "Nowadays there are many researchers who attempt to reveal the non-linear relationships among different good logs to deal with this multivariate task like machine learning models, linear regression, and neural networks.\n",
    "This project aimed to use deep neural networks in partnership with Machine Learning techniques to predict missing log data as the same method used in stock markets and medicine behavior.\n",
    "\n",
    "To discover this lack of data it's mister to use **Supervisionated Methods represented by Regression algorithms** and strategies to predict the Velocity data.\n",
    "\n",
    "\n",
    "Supervised learning is where you have input and output variable and then use an algorithm to learn the mapping function from the input to go to output. The aim is to implement the mapping function as close as possible to predict the training data through test data. To reach this the algorithm works as a teacher supervising the process."
   ]
  },
  {
   "cell_type": "markdown",
   "metadata": {},
   "source": [
    "#### Steps\n",
    "\n",
    "1. Reading File\n",
    "2. Data Inspection\n",
    "3. Column Selection\n",
    "4. Missing Data\n",
    "5. Dropping Rows\n",
    "6. Statistics\n",
    "7. Filtering\n",
    "8. Adding Column\n",
    "9. Indexing\n",
    "10. Plotting"
   ]
  },
  {
   "cell_type": "markdown",
   "metadata": {},
   "source": [
    "### instalando bibliotecas e dependencias"
   ]
  },
  {
   "cell_type": "code",
   "execution_count": 3,
   "metadata": {},
   "outputs": [],
   "source": [
    "#pip install --upgrade pip\n",
    "# to update pip"
   ]
  },
  {
   "cell_type": "code",
   "execution_count": 434,
   "metadata": {},
   "outputs": [
    {
     "name": "stdout",
     "output_type": "stream",
     "text": [
      "Requirement already satisfied: lasio in /home/familia/anaconda3/lib/python3.7/site-packages (0.25.1)\n",
      "Requirement already satisfied: numpy in /home/familia/anaconda3/lib/python3.7/site-packages (from lasio) (1.16.2)\n",
      "Note: you may need to restart the kernel to use updated packages.\n",
      "\u001b[31mERROR: Could not open requirements file: [Errno 2] No such file or directory: 'optional-packages.txt'\u001b[0m\n",
      "Note: you may need to restart the kernel to use updated packages.\n",
      "Requirement already up-to-date: lasio in /home/familia/anaconda3/lib/python3.7/site-packages (0.25.1)\n",
      "Requirement already satisfied, skipping upgrade: numpy in /home/familia/anaconda3/lib/python3.7/site-packages (from lasio) (1.16.2)\n",
      "Note: you may need to restart the kernel to use updated packages.\n"
     ]
    }
   ],
   "source": [
    "%pip install lasio\n",
    "%pip install -r optional-packages.txt\n",
    "%pip install --upgrade lasio\n",
    "import matplotlib.pyplot as plt\n",
    "from numpy import mean, std\n"
   ]
  },
  {
   "cell_type": "code",
   "execution_count": 5,
   "metadata": {},
   "outputs": [
    {
     "name": "stdout",
     "output_type": "stream",
     "text": [
      "Requirement already satisfied: welly in /home/familia/anaconda3/lib/python3.7/site-packages (0.4.6)\n",
      "Requirement already satisfied: striplog in /home/familia/anaconda3/lib/python3.7/site-packages (from welly) (0.8.5)\n",
      "Requirement already satisfied: tqdm in /home/familia/anaconda3/lib/python3.7/site-packages (from welly) (4.31.1)\n",
      "Requirement already satisfied: matplotlib in /home/familia/anaconda3/lib/python3.7/site-packages (from welly) (2.2.2)\n",
      "Requirement already satisfied: lasio in /home/familia/anaconda3/lib/python3.7/site-packages (from welly) (0.25.1)\n",
      "Requirement already satisfied: numpy in /home/familia/anaconda3/lib/python3.7/site-packages (from welly) (1.16.2)\n",
      "Requirement already satisfied: scipy in /home/familia/anaconda3/lib/python3.7/site-packages (from welly) (1.2.1)\n",
      "Requirement already satisfied: cycler>=0.10 in /home/familia/anaconda3/lib/python3.7/site-packages (from matplotlib->welly) (0.10.0)\n",
      "Requirement already satisfied: pyparsing!=2.0.4,!=2.1.2,!=2.1.6,>=2.0.1 in /home/familia/anaconda3/lib/python3.7/site-packages (from matplotlib->welly) (2.3.1)\n",
      "Requirement already satisfied: python-dateutil>=2.1 in /home/familia/anaconda3/lib/python3.7/site-packages (from matplotlib->welly) (2.8.0)\n",
      "Requirement already satisfied: pytz in /home/familia/anaconda3/lib/python3.7/site-packages (from matplotlib->welly) (2018.9)\n",
      "Requirement already satisfied: six>=1.10 in /home/familia/anaconda3/lib/python3.7/site-packages (from matplotlib->welly) (1.12.0)\n",
      "Requirement already satisfied: kiwisolver>=1.0.1 in /home/familia/anaconda3/lib/python3.7/site-packages (from matplotlib->welly) (1.0.1)\n",
      "Requirement already satisfied: setuptools in /home/familia/anaconda3/lib/python3.7/site-packages (from kiwisolver>=1.0.1->matplotlib->welly) (49.1.0)\n",
      "Note: you may need to restart the kernel to use updated packages.\n"
     ]
    }
   ],
   "source": [
    "%pip install welly"
   ]
  },
  {
   "cell_type": "code",
   "execution_count": 6,
   "metadata": {},
   "outputs": [
    {
     "name": "stdout",
     "output_type": "stream",
     "text": [
      "installed\n"
     ]
    }
   ],
   "source": [
    "import pandas as pd\n",
    "import numpy as np\n",
    "import seaborn as sns\n",
    "import matplotlib.pyplot as plt\n",
    "import lasio\n",
    "import sys\n",
    "%matplotlib inline\n",
    "\n",
    "print(\"installed\")"
   ]
  },
  {
   "cell_type": "code",
   "execution_count": 7,
   "metadata": {},
   "outputs": [],
   "source": [
    "# WELLS OF Otway FIELD\n",
    "\n",
    "P1=lasio.read(\"/home/familia/Desktop/Pioneer_Field_LAS/Untitled Folder/OtwayBasin/Balnaves 001/Balnaves1.las\")\n",
    "\n",
    "P2=lasio.read(\"/home/familia/Desktop/Pioneer_Field_LAS/Untitled Folder/OtwayBasin/Viewbank 001/Viewbank 1.las\")\n",
    "\n",
    "P3=lasio.read(\"/home/familia/Desktop/Pioneer_Field_LAS/Untitled Folder/OtwayBasin/Wynn 002/Wynn 2.las\")      \n",
    "\n",
    "P4=lasio.read(\"/home/familia/Desktop/Pioneer_Field_LAS/Untitled Folder/OtwayBasin/McNamara Park 001/McNamara Park 1.las\")\n",
    "\n",
    "P5=lasio.read(\"/home/familia/Desktop/Pioneer_Field_LAS/Untitled Folder/OtwayBasin/Northumberland 002/Northumberland 2.las\")\n",
    "\n",
    "P6=lasio.read(\"/home/familia/Desktop/Pioneer_Field_LAS/Untitled Folder/OtwayBasin/Banyula 001/Banyula 1.las\")\n",
    "\n",
    "P7=lasio.read(\"/home/familia/Desktop/Pioneer_Field_LAS/Untitled Folder/OtwayBasin/Bool Lagoon 001/Bool Lagoon 1.las\")\n",
    "\n",
    "P8=lasio.read(\"/home/familia/Desktop/Pioneer_Field_LAS/Untitled Folder/OtwayBasin/Reedy Creek 001/Reedy Creek 1.las\")\n",
    "\n",
    "P9=lasio.read(\"/home/familia/Desktop/Pioneer_Field_LAS/Untitled Folder/OtwayBasin/Patrick 001/Patrick 1.las\")\n",
    "\n",
    "P10=lasio.read(\"/home/familia/Desktop/Pioneer_Field_LAS/Untitled Folder/OtwayBasin/Camelback 001/Camelback 1.las\")\n",
    "\n",
    "P11=lasio.read(\"/home/familia/Desktop/Pioneer_Field_LAS/Untitled Folder/OtwayBasin/Lake Hawdon 001/Lake Hawdon 1.las\")\n",
    "\n",
    "P12=lasio.read(\"/home/familia/Desktop/Pioneer_Field_LAS/Untitled Folder/OtwayBasin/Crankshaft 001/Crankshaft 1.las\")\n",
    "\n",
    "P13=lasio.read(\"/home/familia/Desktop/Pioneer_Field_LAS/Untitled Folder/OtwayBasin/Laira 001/Laira 1.las\")\n",
    "\n",
    "P14=lasio.read(\"/home/familia/Desktop/Pioneer_Field_LAS/Untitled Folder/OtwayBasin/Killanoola Southeast 001/Killanoola Southeast 1.las\")\n",
    "\n",
    "P15=lasio.read(\"/home/familia/Desktop/Pioneer_Field_LAS/Untitled Folder/OtwayBasin/Katnook 004/Katnook 4.las\")\n",
    "\n",
    "P16=lasio.read(\"/home/familia/Desktop/Pioneer_Field_LAS/Untitled Folder/OtwayBasin/Jacaranda Ridge 001/Jacaranda Ridge 1.las\")\n",
    "\n",
    "P17=lasio.read(\"/home/familia/Desktop/Pioneer_Field_LAS/Untitled Folder/OtwayBasin/Patrick 001/Patrick 1.las\")\n",
    "\n",
    "P18=lasio.read(\"/home/familia/Desktop/Pioneer_Field_LAS/Untitled Folder/OtwayBasin/Cowrie 001/Cowrie 1.las\")\n",
    "\n",
    "P19=lasio.read(\"/home/familia/Desktop/Pioneer_Field_LAS/Untitled Folder/OtwayBasin/Hollick 001/Hollick 1.las\")\n",
    "\n",
    "P20=lasio.read(\"/home/familia/Desktop/Pioneer_Field_LAS/Untitled Folder/OtwayBasin/Bungaloo 001/Bungaloo 1.las\")"
   ]
  },
  {
   "cell_type": "code",
   "execution_count": 8,
   "metadata": {},
   "outputs": [
    {
     "data": {
      "text/plain": [
       "[CurveItem(mnemonic=DEPTH, unit=M, value=, descr=Depth, original_mnemonic=DEPTH, data.shape=(19672,)),\n",
       " CurveItem(mnemonic=CALI, unit=in, value=, descr=Caliper         CAL Edited, patrick_1_dll.dlis, original_mnemonic=CALI, data.shape=(19672,)),\n",
       " CurveItem(mnemonic=DRHO, unit=g/cm3, value=, descr=DensityCorr     ZCOR Edited, patrick_1_dll.dlis, original_mnemonic=DRHO, data.shape=(19672,)),\n",
       " CurveItem(mnemonic=DT, unit=us/ft, value=, descr=Sonic           DT24 Edited, patrick_1_dll.dlis, original_mnemonic=DT, data.shape=(19672,)),\n",
       " CurveItem(mnemonic=GR, unit=gAPI, value=, descr=GammaRay        GR , patrick_1_dll.dlis, original_mnemonic=GR, data.shape=(19672,)),\n",
       " CurveItem(mnemonic=NPHI, unit=dec, value=, descr=Neutron         CNC Edited, patrick_1_dll.dlis, original_mnemonic=NPHI, data.shape=(19672,)),\n",
       " CurveItem(mnemonic=PEF, unit=b/e, value=, descr=PhotoelectricF  PE Edited, patrick_1_dll.dlis, original_mnemonic=PEF, data.shape=(19672,)),\n",
       " CurveItem(mnemonic=RDEP, unit=ohmm, value=, descr=DeepRes         RD Edited, patrick_1_dll.dlis, original_mnemonic=RDEP, data.shape=(19672,)),\n",
       " CurveItem(mnemonic=RHOB, unit=g/cm3, value=, descr=Density         ZDNC Edited, patrick_1_dll.dlis, original_mnemonic=RHOB, data.shape=(19672,)),\n",
       " CurveItem(mnemonic=RMED, unit=ohmm, value=, descr=MedRes          RS Edited, patrick_1_dll.dlis, original_mnemonic=RMED, data.shape=(19672,)),\n",
       " CurveItem(mnemonic=RMIC, unit=ohmm, value=, descr=MicroRes        RMLL Edited, patrick_1_dll.dlis, original_mnemonic=RMIC, data.shape=(19672,)),\n",
       " CurveItem(mnemonic=SP, unit=mV, value=, descr=SponPot         SPSBDH Edited, patrick_1_dll.dlis, original_mnemonic=SP, data.shape=(19672,))]"
      ]
     },
     "execution_count": 8,
     "metadata": {},
     "output_type": "execute_result"
    }
   ],
   "source": [
    "#LET'S THE SEE LOG CURVES\n",
    "P17.curves\n"
   ]
  },
  {
   "cell_type": "code",
   "execution_count": 9,
   "metadata": {},
   "outputs": [],
   "source": [
    "#P17.write(sys.stdout)"
   ]
  },
  {
   "cell_type": "markdown",
   "metadata": {},
   "source": [
    "### Now transforming to pandas dataframe"
   ]
  },
  {
   "cell_type": "code",
   "execution_count": 10,
   "metadata": {},
   "outputs": [
    {
     "data": {
      "text/html": [
       "<div>\n",
       "<style scoped>\n",
       "    .dataframe tbody tr th:only-of-type {\n",
       "        vertical-align: middle;\n",
       "    }\n",
       "\n",
       "    .dataframe tbody tr th {\n",
       "        vertical-align: top;\n",
       "    }\n",
       "\n",
       "    .dataframe thead th {\n",
       "        text-align: right;\n",
       "    }\n",
       "</style>\n",
       "<table border=\"1\" class=\"dataframe\">\n",
       "  <thead>\n",
       "    <tr style=\"text-align: right;\">\n",
       "      <th></th>\n",
       "      <th>x</th>\n",
       "      <th>y</th>\n",
       "      <th>name</th>\n",
       "      <th>real name</th>\n",
       "    </tr>\n",
       "  </thead>\n",
       "  <tbody>\n",
       "    <tr>\n",
       "      <th>0</th>\n",
       "      <td>473859.92</td>\n",
       "      <td>5855457.54</td>\n",
       "      <td>P1</td>\n",
       "      <td>Balnaves 1</td>\n",
       "    </tr>\n",
       "    <tr>\n",
       "      <th>1</th>\n",
       "      <td>478652.81</td>\n",
       "      <td>5869002.58</td>\n",
       "      <td>P2</td>\n",
       "      <td>Viewbank 1</td>\n",
       "    </tr>\n",
       "    <tr>\n",
       "      <th>2</th>\n",
       "      <td>489424.08</td>\n",
       "      <td>5859481.37</td>\n",
       "      <td>P3</td>\n",
       "      <td>Wynn 2</td>\n",
       "    </tr>\n",
       "    <tr>\n",
       "      <th>3</th>\n",
       "      <td>466607.57</td>\n",
       "      <td>5813084.45</td>\n",
       "      <td>P4</td>\n",
       "      <td>McNamara Park 1</td>\n",
       "    </tr>\n",
       "    <tr>\n",
       "      <th>4</th>\n",
       "      <td>470961.25</td>\n",
       "      <td>5789741.44</td>\n",
       "      <td>P5</td>\n",
       "      <td>Northumberland 2</td>\n",
       "    </tr>\n",
       "  </tbody>\n",
       "</table>\n",
       "</div>"
      ],
      "text/plain": [
       "           x           y name         real name\n",
       "0  473859.92  5855457.54   P1        Balnaves 1\n",
       "1  478652.81  5869002.58   P2        Viewbank 1\n",
       "2  489424.08  5859481.37   P3            Wynn 2\n",
       "3  466607.57  5813084.45   P4   McNamara Park 1\n",
       "4  470961.25  5789741.44   P5  Northumberland 2"
      ]
     },
     "execution_count": 10,
     "metadata": {},
     "output_type": "execute_result"
    }
   ],
   "source": [
    "### teste com alguns pocos para colocar no folium com as localizações\n",
    "\n",
    "poco=pd.DataFrame()\n",
    "poco['x']=[473859.92,478652.81,489424.08,466607.57,470961.25,453653.71,467468.47]\n",
    "poco['y']=[5855457.54,5869002.58,5859481.37,5813084.45,5789741.44,5865409.47,5888985.98]\n",
    "poco['name']=['P1','P2','P3','P4','P5','P6','P7']\n",
    "poco['real name']=['Balnaves 1','Viewbank 1','Wynn 2','McNamara Park 1','Northumberland 2','Banyula 001','Bool Lagoon 1']\n",
    "poco.head()"
   ]
  },
  {
   "cell_type": "code",
   "execution_count": 11,
   "metadata": {},
   "outputs": [
    {
     "ename": "TypeError",
     "evalue": "__init__() got an unexpected keyword argument 'poupup'",
     "output_type": "error",
     "traceback": [
      "\u001b[0;31m---------------------------------------------------------------------------\u001b[0m",
      "\u001b[0;31mTypeError\u001b[0m                                 Traceback (most recent call last)",
      "\u001b[0;32m<ipython-input-11-e0cee80870c7>\u001b[0m in \u001b[0;36m<module>\u001b[0;34m\u001b[0m\n\u001b[1;32m      7\u001b[0m ).add_to(S_australia)\n\u001b[1;32m      8\u001b[0m \u001b[0;34m\u001b[0m\u001b[0m\n\u001b[0;32m----> 9\u001b[0;31m \u001b[0mfolium\u001b[0m\u001b[0;34m.\u001b[0m\u001b[0mMarker\u001b[0m\u001b[0;34m(\u001b[0m\u001b[0mlocation\u001b[0m\u001b[0;34m=\u001b[0m\u001b[0;34m[\u001b[0m\u001b[0mpoco\u001b[0m\u001b[0;34m[\u001b[0m\u001b[0;34m'x'\u001b[0m\u001b[0;34m]\u001b[0m\u001b[0;34m,\u001b[0m \u001b[0mpoco\u001b[0m\u001b[0;34m[\u001b[0m\u001b[0;34m'y'\u001b[0m\u001b[0;34m]\u001b[0m\u001b[0;34m]\u001b[0m\u001b[0;34m,\u001b[0m \u001b[0mpoupup\u001b[0m\u001b[0;34m=\u001b[0m\u001b[0mpoco\u001b[0m\u001b[0;34m[\u001b[0m\u001b[0;34m'name'\u001b[0m\u001b[0;34m]\u001b[0m\u001b[0;34m,\u001b[0m \u001b[0micon\u001b[0m\u001b[0;34m=\u001b[0m\u001b[0mfolium\u001b[0m\u001b[0;34m.\u001b[0m\u001b[0mIcon\u001b[0m\u001b[0;34m(\u001b[0m\u001b[0mcolor\u001b[0m\u001b[0;34m=\u001b[0m\u001b[0;34m'green'\u001b[0m\u001b[0;34m)\u001b[0m \u001b[0;34m)\u001b[0m\u001b[0;34m.\u001b[0m\u001b[0madd_to\u001b[0m\u001b[0;34m(\u001b[0m\u001b[0mS_australia\u001b[0m\u001b[0;34m)\u001b[0m\u001b[0;34m\u001b[0m\u001b[0;34m\u001b[0m\u001b[0m\n\u001b[0m\u001b[1;32m     10\u001b[0m \u001b[0;34m\u001b[0m\u001b[0m\n\u001b[1;32m     11\u001b[0m \u001b[0mS_australia\u001b[0m\u001b[0;34m\u001b[0m\u001b[0;34m\u001b[0m\u001b[0m\n",
      "\u001b[0;31mTypeError\u001b[0m: __init__() got an unexpected keyword argument 'poupup'"
     ]
    }
   ],
   "source": [
    "S_australia=folium.Map(location= [-38, 141], zoom_start=4, tiles='Stamen Terrain') #from Google Maps\n",
    "\n",
    "folium.Marker(\n",
    "    location=[-38, 141],\n",
    "    popup='Otway Basin',\n",
    "    icon=folium.Icon(color='Red')\n",
    ").add_to(S_australia)\n",
    "\n",
    "folium.Marker(location=[poco['x'], poco['y']], poupup=poco['name'], icon=folium.Icon(color='green') ).add_to(S_australia)\n",
    "\n",
    "S_australia"
   ]
  },
  {
   "cell_type": "code",
   "execution_count": 12,
   "metadata": {},
   "outputs": [],
   "source": [
    "P1=P1.df()\n",
    "P1['Well']='P1'\n",
    "\n",
    "P2=P2.df()\n",
    "P2['Well']='P2'\n",
    "\n",
    "P3=P3.df()\n",
    "P3['Well']='P3'\n",
    "\n",
    "P4=P4.df()\n",
    "P4['Well']='P4'\n",
    "\n",
    "P5=P5.df()\n",
    "P5['Well']='P5'\n",
    "\n",
    "P6=P6.df()\n",
    "P6['Well']='P6'\n",
    "\n",
    "\n",
    "P7=P7.df()\n",
    "P7['Well']='P7'\n",
    "\n",
    "\n",
    "P8=P8.df()\n",
    "P8['Well']='P8'\n",
    "\n",
    "\n",
    "P9=P9.df()\n",
    "P9['Well']='P9'\n",
    "\n",
    "\n",
    "P10=P10.df()\n",
    "P10['Well']='P10'\n",
    "\n",
    "\n",
    "P11=P11.df()\n",
    "P11['Well']='P11'\n",
    "\n",
    "\n",
    "P12=P12.df()\n",
    "P12['Well']='P12'\n",
    "\n",
    "\n",
    "P13=P13.df()\n",
    "P13['Well']='P13'\n",
    "\n",
    "\n",
    "P14=P14.df()\n",
    "P14['Well']='P14'\n",
    "\n",
    "\n",
    "P15=P15.df()\n",
    "P15['Well']='P15'\n",
    "\n",
    "\n",
    "P16=P16.df()\n",
    "P16['Well']='P16'\n",
    "\n",
    "\n",
    "P17=P17.df()\n",
    "P17['Well']='P17'\n",
    "\n",
    "P18=P18.df()\n",
    "P18['Well']='P18'\n",
    "\n",
    "\n",
    "P19=P19.df()\n",
    "P19['Well']='P19'\n",
    "\n",
    "\n",
    "P20=P20.df()\n",
    "P20['Well']='P20'\n",
    "\n"
   ]
  },
  {
   "cell_type": "code",
   "execution_count": 13,
   "metadata": {},
   "outputs": [
    {
     "name": "stdout",
     "output_type": "stream",
     "text": [
      "P1 Index(['CALI', 'DRHO', 'DT', 'GR', 'MINV', 'MNOR', 'NPHI', 'PEF', 'RDEP',\n",
      "       'RHOB', 'RMED', 'RMIC', 'SP', 'Well'],\n",
      "      dtype='object')\n",
      "P2 Index(['CALI', 'DRHO', 'DT', 'GR', 'NPHI', 'PEF', 'RDEP', 'RHOB', 'RMED',\n",
      "       'RMIC', 'SP', 'Well'],\n",
      "      dtype='object')\n",
      "P3 Index(['CALI', 'DRHO', 'DT', 'GR', 'NPHI', 'PEF', 'RDEP', 'RHOB', 'RMED',\n",
      "       'RMIC', 'SP', 'Well'],\n",
      "      dtype='object')\n",
      "P4 Index(['CALI', 'DRHO', 'DT', 'GR', 'NPHI', 'PEF', 'RDEP', 'RHOB', 'RMED',\n",
      "       'RMIC', 'SP', 'Well'],\n",
      "      dtype='object')\n"
     ]
    }
   ],
   "source": [
    "#print columns\n",
    "print('P1', P1.columns)\n",
    "print('P2',P2.columns)\n",
    "print('P3',P2.columns)\n",
    "print('P4',P2.columns)"
   ]
  },
  {
   "cell_type": "markdown",
   "metadata": {},
   "source": [
    " #pocos com os perfis ja bem setados\n",
    "    \n",
    "    \n",
    "    CALI','DT','GR','NPHI','RHOB','SP','Well\n"
   ]
  },
  {
   "cell_type": "code",
   "execution_count": 14,
   "metadata": {},
   "outputs": [],
   "source": [
    "P1_trat=P1[['CALI','DT','GR','NPHI','RHOB','SP','Well']]\n",
    "P2_trat=P2[['CALI','DT','GR','NPHI','RHOB','SP','Well']]\n",
    "P3_trat=P3[['CALI','DT','GR','NPHI','RHOB','SP','Well']]\n",
    "P4_trat=P4[['CALI','DT','GR','NPHI','RHOB','SP','Well']]\n",
    "P5_trat=P5[['CALI','DT','GR','NPHI','RHOB','SP','Well']]\n",
    "P6_trat=P6[['CALI','DT','GR','NPHI','RHOB','SP','Well']]"
   ]
  },
  {
   "cell_type": "code",
   "execution_count": 15,
   "metadata": {},
   "outputs": [],
   "source": [
    "P7_trat=P7[['CALI','DT','GR','NPHI','RHOB','SP','Well']]\n",
    "P8_trat=P8[['CALI','DT','GR','NPHI','RHOB','SP','Well']]\n",
    "P9_trat=P9[['CALI','DT','GR','NPHI','RHOB','SP','Well']]\n",
    "P10_trat=P10[['CALI','DT','GR','NPHI','RHOB','SP','Well']]"
   ]
  },
  {
   "cell_type": "code",
   "execution_count": 16,
   "metadata": {},
   "outputs": [],
   "source": [
    "P11_trat=P11[['CALI','DT','GR','NPHI','RHOB','SP','Well']]\n",
    "P12_trat=P12[['CALI','DT','GR','NPHI','RHOB','SP','Well']]\n",
    "P13_trat=P13[['CALI','DT','GR','NPHI','RHOB','SP','Well']]\n",
    "P14_trat=P14[['CALI','DT','GR','NPHI','RHOB','SP','Well']]\n",
    "P15_trat=P15[['CALI','DT','GR','NPHI','RHOB','SP','Well']]\n",
    "P16_trat=P16[['CALI','DT','GR','NPHI','RHOB','SP','Well']]\n",
    "P17_trat=P17[['CALI','DT','GR','NPHI','RHOB','SP','Well']]\n",
    "P18_trat=P18[['CALI','DT','GR','NPHI','RHOB','SP','Well']]\n",
    "P19_trat=P19[['CALI','DT','GR','NPHI','RHOB','SP','Well']]\n",
    "P20_trat=P20[['CALI','DT','GR','NPHI','RHOB','SP','Well']]"
   ]
  },
  {
   "cell_type": "markdown",
   "metadata": {},
   "source": [
    "### Merging all dataframes"
   ]
  },
  {
   "cell_type": "code",
   "execution_count": 17,
   "metadata": {},
   "outputs": [
    {
     "data": {
      "text/html": [
       "<div>\n",
       "<style scoped>\n",
       "    .dataframe tbody tr th:only-of-type {\n",
       "        vertical-align: middle;\n",
       "    }\n",
       "\n",
       "    .dataframe tbody tr th {\n",
       "        vertical-align: top;\n",
       "    }\n",
       "\n",
       "    .dataframe thead th {\n",
       "        text-align: right;\n",
       "    }\n",
       "</style>\n",
       "<table border=\"1\" class=\"dataframe\">\n",
       "  <thead>\n",
       "    <tr style=\"text-align: right;\">\n",
       "      <th></th>\n",
       "      <th>CALI</th>\n",
       "      <th>DT</th>\n",
       "      <th>GR</th>\n",
       "      <th>NPHI</th>\n",
       "      <th>RHOB</th>\n",
       "      <th>SP</th>\n",
       "      <th>Well</th>\n",
       "    </tr>\n",
       "    <tr>\n",
       "      <th>DEPTH</th>\n",
       "      <th></th>\n",
       "      <th></th>\n",
       "      <th></th>\n",
       "      <th></th>\n",
       "      <th></th>\n",
       "      <th></th>\n",
       "      <th></th>\n",
       "    </tr>\n",
       "  </thead>\n",
       "  <tbody>\n",
       "    <tr>\n",
       "      <th>3718.7124</th>\n",
       "      <td>NaN</td>\n",
       "      <td>NaN</td>\n",
       "      <td>NaN</td>\n",
       "      <td>NaN</td>\n",
       "      <td>NaN</td>\n",
       "      <td>NaN</td>\n",
       "      <td>P20</td>\n",
       "    </tr>\n",
       "    <tr>\n",
       "      <th>3718.8648</th>\n",
       "      <td>NaN</td>\n",
       "      <td>NaN</td>\n",
       "      <td>NaN</td>\n",
       "      <td>NaN</td>\n",
       "      <td>NaN</td>\n",
       "      <td>NaN</td>\n",
       "      <td>P20</td>\n",
       "    </tr>\n",
       "    <tr>\n",
       "      <th>3719.0172</th>\n",
       "      <td>NaN</td>\n",
       "      <td>NaN</td>\n",
       "      <td>NaN</td>\n",
       "      <td>NaN</td>\n",
       "      <td>NaN</td>\n",
       "      <td>NaN</td>\n",
       "      <td>P20</td>\n",
       "    </tr>\n",
       "    <tr>\n",
       "      <th>3719.1696</th>\n",
       "      <td>NaN</td>\n",
       "      <td>NaN</td>\n",
       "      <td>NaN</td>\n",
       "      <td>NaN</td>\n",
       "      <td>NaN</td>\n",
       "      <td>NaN</td>\n",
       "      <td>P20</td>\n",
       "    </tr>\n",
       "    <tr>\n",
       "      <th>3719.3220</th>\n",
       "      <td>NaN</td>\n",
       "      <td>NaN</td>\n",
       "      <td>NaN</td>\n",
       "      <td>NaN</td>\n",
       "      <td>NaN</td>\n",
       "      <td>NaN</td>\n",
       "      <td>P20</td>\n",
       "    </tr>\n",
       "    <tr>\n",
       "      <th>3719.4744</th>\n",
       "      <td>NaN</td>\n",
       "      <td>NaN</td>\n",
       "      <td>NaN</td>\n",
       "      <td>NaN</td>\n",
       "      <td>NaN</td>\n",
       "      <td>NaN</td>\n",
       "      <td>P20</td>\n",
       "    </tr>\n",
       "    <tr>\n",
       "      <th>3719.6268</th>\n",
       "      <td>NaN</td>\n",
       "      <td>NaN</td>\n",
       "      <td>NaN</td>\n",
       "      <td>NaN</td>\n",
       "      <td>NaN</td>\n",
       "      <td>NaN</td>\n",
       "      <td>P20</td>\n",
       "    </tr>\n",
       "    <tr>\n",
       "      <th>3719.7792</th>\n",
       "      <td>NaN</td>\n",
       "      <td>NaN</td>\n",
       "      <td>NaN</td>\n",
       "      <td>NaN</td>\n",
       "      <td>NaN</td>\n",
       "      <td>NaN</td>\n",
       "      <td>P20</td>\n",
       "    </tr>\n",
       "    <tr>\n",
       "      <th>3719.9316</th>\n",
       "      <td>NaN</td>\n",
       "      <td>NaN</td>\n",
       "      <td>NaN</td>\n",
       "      <td>NaN</td>\n",
       "      <td>NaN</td>\n",
       "      <td>NaN</td>\n",
       "      <td>P20</td>\n",
       "    </tr>\n",
       "    <tr>\n",
       "      <th>3720.0840</th>\n",
       "      <td>NaN</td>\n",
       "      <td>NaN</td>\n",
       "      <td>NaN</td>\n",
       "      <td>NaN</td>\n",
       "      <td>NaN</td>\n",
       "      <td>NaN</td>\n",
       "      <td>P20</td>\n",
       "    </tr>\n",
       "  </tbody>\n",
       "</table>\n",
       "</div>"
      ],
      "text/plain": [
       "           CALI  DT  GR  NPHI  RHOB  SP Well\n",
       "DEPTH                                       \n",
       "3718.7124   NaN NaN NaN   NaN   NaN NaN  P20\n",
       "3718.8648   NaN NaN NaN   NaN   NaN NaN  P20\n",
       "3719.0172   NaN NaN NaN   NaN   NaN NaN  P20\n",
       "3719.1696   NaN NaN NaN   NaN   NaN NaN  P20\n",
       "3719.3220   NaN NaN NaN   NaN   NaN NaN  P20\n",
       "3719.4744   NaN NaN NaN   NaN   NaN NaN  P20\n",
       "3719.6268   NaN NaN NaN   NaN   NaN NaN  P20\n",
       "3719.7792   NaN NaN NaN   NaN   NaN NaN  P20\n",
       "3719.9316   NaN NaN NaN   NaN   NaN NaN  P20\n",
       "3720.0840   NaN NaN NaN   NaN   NaN NaN  P20"
      ]
     },
     "execution_count": 17,
     "metadata": {},
     "output_type": "execute_result"
    }
   ],
   "source": [
    "result1 = P1_trat.append([P2_trat, P3_trat,P4_trat,P5_trat])\n",
    "result2=result1.append([P6_trat,P7_trat,P8_trat,P9_trat])\n",
    "result3=result2.append([P10_trat,P11_trat,P12_trat, P13_trat])\n",
    "result4=result3.append([P14_trat,P15_trat,P16_trat,P17_trat])\n",
    "all_wells=result4.append([P18_trat,P19_trat,P20_trat,])     \n",
    "\n",
    "all_wells.tail(10)"
   ]
  },
  {
   "cell_type": "markdown",
   "metadata": {},
   "source": [
    "### Missing values\n",
    "Very common in LAS files because depth of interest may vary for specific measurements. Printed values of -999.2500 in LAS files means null value. Missing values are not common in the middle part of the dataset. Usually, it happens in the head or tail of a file. isna function returns True if the location has a null value, otherwise, it will be False. We may add up these boolean values using sum() function as below:"
   ]
  },
  {
   "cell_type": "code",
   "execution_count": 18,
   "metadata": {},
   "outputs": [
    {
     "data": {
      "text/plain": [
       "CALI    36.958291\n",
       "DT      36.927083\n",
       "GR       3.184975\n",
       "NPHI    71.428280\n",
       "RHOB    67.316518\n",
       "SP      43.625026\n",
       "Well     0.000000\n",
       "dtype: float64"
      ]
     },
     "execution_count": 18,
     "metadata": {},
     "output_type": "execute_result"
    }
   ],
   "source": [
    "#Counting all Nan values(percentage) in each well log\n",
    "\n",
    "(all_wells.isna().sum())/(all_wells.count())*100\n",
    "#in percentage : missing values"
   ]
  },
  {
   "cell_type": "markdown",
   "metadata": {},
   "source": [
    "Let’s suppose that we want to preserve GR, DT, and RHOB as important logs in the data set. So, to get rid of missing values we can drop rows that one of those logs is missed in that row."
   ]
  },
  {
   "cell_type": "markdown",
   "metadata": {},
   "source": [
    "### Dropping Rows"
   ]
  },
  {
   "cell_type": "markdown",
   "metadata": {},
   "source": [
    "This line of code will drop all rows that one (or more) of the subset logs (‘GR’, ‘DT’,...) has a null value."
   ]
  },
  {
   "cell_type": "code",
   "execution_count": 19,
   "metadata": {},
   "outputs": [
    {
     "name": "stdout",
     "output_type": "stream",
     "text": [
      "(191865, 7)\n"
     ]
    }
   ],
   "source": [
    "all_wells_dropped = all_wells.dropna(subset=['CALI','DT','GR','NPHI','RHOB','SP','Well'],axis=0, how='any')\n",
    "print(all_wells_dropped.shape)"
   ]
  },
  {
   "cell_type": "code",
   "execution_count": 20,
   "metadata": {},
   "outputs": [
    {
     "data": {
      "text/html": [
       "<div>\n",
       "<style scoped>\n",
       "    .dataframe tbody tr th:only-of-type {\n",
       "        vertical-align: middle;\n",
       "    }\n",
       "\n",
       "    .dataframe tbody tr th {\n",
       "        vertical-align: top;\n",
       "    }\n",
       "\n",
       "    .dataframe thead th {\n",
       "        text-align: right;\n",
       "    }\n",
       "</style>\n",
       "<table border=\"1\" class=\"dataframe\">\n",
       "  <thead>\n",
       "    <tr style=\"text-align: right;\">\n",
       "      <th></th>\n",
       "      <th>CALI</th>\n",
       "      <th>DT</th>\n",
       "      <th>GR</th>\n",
       "      <th>NPHI</th>\n",
       "      <th>RHOB</th>\n",
       "      <th>SP</th>\n",
       "      <th>Well</th>\n",
       "    </tr>\n",
       "    <tr>\n",
       "      <th>DEPTH</th>\n",
       "      <th></th>\n",
       "      <th></th>\n",
       "      <th></th>\n",
       "      <th></th>\n",
       "      <th></th>\n",
       "      <th></th>\n",
       "      <th></th>\n",
       "    </tr>\n",
       "  </thead>\n",
       "  <tbody>\n",
       "    <tr>\n",
       "      <th>851.6112</th>\n",
       "      <td>8.8599</td>\n",
       "      <td>115.3353</td>\n",
       "      <td>66.0591</td>\n",
       "      <td>0.5551</td>\n",
       "      <td>2.2586</td>\n",
       "      <td>-99.8125</td>\n",
       "      <td>P1</td>\n",
       "    </tr>\n",
       "    <tr>\n",
       "      <th>851.7636</th>\n",
       "      <td>8.8489</td>\n",
       "      <td>118.5482</td>\n",
       "      <td>66.7357</td>\n",
       "      <td>0.5014</td>\n",
       "      <td>2.0471</td>\n",
       "      <td>-103.3750</td>\n",
       "      <td>P1</td>\n",
       "    </tr>\n",
       "    <tr>\n",
       "      <th>851.9160</th>\n",
       "      <td>8.8146</td>\n",
       "      <td>143.1087</td>\n",
       "      <td>67.0684</td>\n",
       "      <td>0.5040</td>\n",
       "      <td>1.9178</td>\n",
       "      <td>-105.2708</td>\n",
       "      <td>P1</td>\n",
       "    </tr>\n",
       "    <tr>\n",
       "      <th>852.0684</th>\n",
       "      <td>8.7822</td>\n",
       "      <td>158.4017</td>\n",
       "      <td>71.1451</td>\n",
       "      <td>0.5186</td>\n",
       "      <td>1.8760</td>\n",
       "      <td>-106.6667</td>\n",
       "      <td>P1</td>\n",
       "    </tr>\n",
       "    <tr>\n",
       "      <th>852.2208</th>\n",
       "      <td>8.7705</td>\n",
       "      <td>155.4720</td>\n",
       "      <td>74.0663</td>\n",
       "      <td>0.4715</td>\n",
       "      <td>1.7915</td>\n",
       "      <td>-107.2083</td>\n",
       "      <td>P1</td>\n",
       "    </tr>\n",
       "  </tbody>\n",
       "</table>\n",
       "</div>"
      ],
      "text/plain": [
       "            CALI        DT       GR    NPHI    RHOB        SP Well\n",
       "DEPTH                                                             \n",
       "851.6112  8.8599  115.3353  66.0591  0.5551  2.2586  -99.8125   P1\n",
       "851.7636  8.8489  118.5482  66.7357  0.5014  2.0471 -103.3750   P1\n",
       "851.9160  8.8146  143.1087  67.0684  0.5040  1.9178 -105.2708   P1\n",
       "852.0684  8.7822  158.4017  71.1451  0.5186  1.8760 -106.6667   P1\n",
       "852.2208  8.7705  155.4720  74.0663  0.4715  1.7915 -107.2083   P1"
      ]
     },
     "execution_count": 20,
     "metadata": {},
     "output_type": "execute_result"
    }
   ],
   "source": [
    "all_wells_dropped.head()"
   ]
  },
  {
   "cell_type": "markdown",
   "metadata": {},
   "source": [
    "### Statistics"
   ]
  },
  {
   "cell_type": "markdown",
   "metadata": {},
   "source": [
    "Run describe command to see data statistics. This can be helpful to see the data range and outliers."
   ]
  },
  {
   "cell_type": "code",
   "execution_count": 21,
   "metadata": {
    "scrolled": true
   },
   "outputs": [
    {
     "data": {
      "text/html": [
       "<div>\n",
       "<style scoped>\n",
       "    .dataframe tbody tr th:only-of-type {\n",
       "        vertical-align: middle;\n",
       "    }\n",
       "\n",
       "    .dataframe tbody tr th {\n",
       "        vertical-align: top;\n",
       "    }\n",
       "\n",
       "    .dataframe thead th {\n",
       "        text-align: right;\n",
       "    }\n",
       "</style>\n",
       "<table border=\"1\" class=\"dataframe\">\n",
       "  <thead>\n",
       "    <tr style=\"text-align: right;\">\n",
       "      <th></th>\n",
       "      <th>CALI</th>\n",
       "      <th>DT</th>\n",
       "      <th>GR</th>\n",
       "      <th>NPHI</th>\n",
       "      <th>RHOB</th>\n",
       "      <th>SP</th>\n",
       "    </tr>\n",
       "  </thead>\n",
       "  <tbody>\n",
       "    <tr>\n",
       "      <th>count</th>\n",
       "      <td>191865.000000</td>\n",
       "      <td>191865.000000</td>\n",
       "      <td>191865.000000</td>\n",
       "      <td>191865.000000</td>\n",
       "      <td>191865.000000</td>\n",
       "      <td>191865.000000</td>\n",
       "    </tr>\n",
       "    <tr>\n",
       "      <th>mean</th>\n",
       "      <td>8.840084</td>\n",
       "      <td>91.954288</td>\n",
       "      <td>103.619532</td>\n",
       "      <td>0.249341</td>\n",
       "      <td>2.380250</td>\n",
       "      <td>25.703158</td>\n",
       "    </tr>\n",
       "    <tr>\n",
       "      <th>std</th>\n",
       "      <td>1.273156</td>\n",
       "      <td>17.998064</td>\n",
       "      <td>27.052153</td>\n",
       "      <td>0.106976</td>\n",
       "      <td>0.182021</td>\n",
       "      <td>82.941955</td>\n",
       "    </tr>\n",
       "    <tr>\n",
       "      <th>min</th>\n",
       "      <td>0.000000</td>\n",
       "      <td>0.000000</td>\n",
       "      <td>0.000000</td>\n",
       "      <td>-0.005500</td>\n",
       "      <td>0.000000</td>\n",
       "      <td>-135.375000</td>\n",
       "    </tr>\n",
       "    <tr>\n",
       "      <th>25%</th>\n",
       "      <td>8.326600</td>\n",
       "      <td>79.558300</td>\n",
       "      <td>87.507300</td>\n",
       "      <td>0.195200</td>\n",
       "      <td>2.280400</td>\n",
       "      <td>-26.375000</td>\n",
       "    </tr>\n",
       "    <tr>\n",
       "      <th>50%</th>\n",
       "      <td>8.689100</td>\n",
       "      <td>87.727900</td>\n",
       "      <td>104.627400</td>\n",
       "      <td>0.256500</td>\n",
       "      <td>2.411900</td>\n",
       "      <td>6.317700</td>\n",
       "    </tr>\n",
       "    <tr>\n",
       "      <th>75%</th>\n",
       "      <td>9.250000</td>\n",
       "      <td>100.484100</td>\n",
       "      <td>122.433600</td>\n",
       "      <td>0.316900</td>\n",
       "      <td>2.511900</td>\n",
       "      <td>74.461500</td>\n",
       "    </tr>\n",
       "    <tr>\n",
       "      <th>max</th>\n",
       "      <td>23.612400</td>\n",
       "      <td>1183.000000</td>\n",
       "      <td>261.568600</td>\n",
       "      <td>0.871500</td>\n",
       "      <td>3.192400</td>\n",
       "      <td>4528.000000</td>\n",
       "    </tr>\n",
       "  </tbody>\n",
       "</table>\n",
       "</div>"
      ],
      "text/plain": [
       "                CALI             DT             GR           NPHI  \\\n",
       "count  191865.000000  191865.000000  191865.000000  191865.000000   \n",
       "mean        8.840084      91.954288     103.619532       0.249341   \n",
       "std         1.273156      17.998064      27.052153       0.106976   \n",
       "min         0.000000       0.000000       0.000000      -0.005500   \n",
       "25%         8.326600      79.558300      87.507300       0.195200   \n",
       "50%         8.689100      87.727900     104.627400       0.256500   \n",
       "75%         9.250000     100.484100     122.433600       0.316900   \n",
       "max        23.612400    1183.000000     261.568600       0.871500   \n",
       "\n",
       "                RHOB             SP  \n",
       "count  191865.000000  191865.000000  \n",
       "mean        2.380250      25.703158  \n",
       "std         0.182021      82.941955  \n",
       "min         0.000000    -135.375000  \n",
       "25%         2.280400     -26.375000  \n",
       "50%         2.411900       6.317700  \n",
       "75%         2.511900      74.461500  \n",
       "max         3.192400    4528.000000  "
      ]
     },
     "execution_count": 21,
     "metadata": {},
     "output_type": "execute_result"
    }
   ],
   "source": [
    "all_wells_dropped.describe()"
   ]
  },
  {
   "cell_type": "markdown",
   "metadata": {},
   "source": [
    "**It's important to understand that there are many spurious values meanwhile well logging. To avoid that all the values will be filtered acording the ranges. Consult the referencce [5] to understant the values.**"
   ]
  },
  {
   "cell_type": "code",
   "execution_count": 22,
   "metadata": {},
   "outputs": [],
   "source": [
    "all_wells_dropped= all_wells_dropped[(all_wells_dropped.NPHI > 0) & (all_wells_dropped.NPHI  <= 60)]\n",
    "all_wells_dropped= all_wells_dropped[(all_wells_dropped.SP > -160)&(all_wells_dropped.GR <= 40)]\n",
    "all_wells_dropped= all_wells_dropped[(all_wells_dropped.GR > 0) & (all_wells_dropped.GR  <= 200)]\n",
    "all_wells_dropped= all_wells_dropped[(all_wells_dropped.RHOB> 1) & (all_wells_dropped.RHOB<= 3)]\n",
    "all_wells_dropped= all_wells_dropped[(all_wells_dropped.DT > 0) & (all_wells_dropped.DT <= 140)]"
   ]
  },
  {
   "cell_type": "markdown",
   "metadata": {},
   "source": [
    "### Reindex the depth"
   ]
  },
  {
   "cell_type": "markdown",
   "metadata": {},
   "source": [
    "__Lasio__ converts the depth column as an index when we read the LAS file. We can call depth as a new column for plotting aim and reindex dataset."
   ]
  },
  {
   "cell_type": "code",
   "execution_count": 23,
   "metadata": {},
   "outputs": [],
   "source": [
    "all_wells_dropped = all_wells_dropped.rename_axis('Depth').reset_index()"
   ]
  },
  {
   "cell_type": "code",
   "execution_count": 24,
   "metadata": {},
   "outputs": [
    {
     "data": {
      "text/html": [
       "<div>\n",
       "<style scoped>\n",
       "    .dataframe tbody tr th:only-of-type {\n",
       "        vertical-align: middle;\n",
       "    }\n",
       "\n",
       "    .dataframe tbody tr th {\n",
       "        vertical-align: top;\n",
       "    }\n",
       "\n",
       "    .dataframe thead th {\n",
       "        text-align: right;\n",
       "    }\n",
       "</style>\n",
       "<table border=\"1\" class=\"dataframe\">\n",
       "  <thead>\n",
       "    <tr style=\"text-align: right;\">\n",
       "      <th></th>\n",
       "      <th>Depth</th>\n",
       "      <th>CALI</th>\n",
       "      <th>DT</th>\n",
       "      <th>GR</th>\n",
       "      <th>NPHI</th>\n",
       "      <th>RHOB</th>\n",
       "      <th>SP</th>\n",
       "      <th>Well</th>\n",
       "    </tr>\n",
       "  </thead>\n",
       "  <tbody>\n",
       "    <tr>\n",
       "      <th>0</th>\n",
       "      <td>1943.1000</td>\n",
       "      <td>8.2527</td>\n",
       "      <td>78.5189</td>\n",
       "      <td>38.6367</td>\n",
       "      <td>0.0913</td>\n",
       "      <td>2.4194</td>\n",
       "      <td>-72.5208</td>\n",
       "      <td>P1</td>\n",
       "    </tr>\n",
       "    <tr>\n",
       "      <th>1</th>\n",
       "      <td>1943.2524</td>\n",
       "      <td>8.2281</td>\n",
       "      <td>80.5339</td>\n",
       "      <td>38.6938</td>\n",
       "      <td>0.1143</td>\n",
       "      <td>2.3749</td>\n",
       "      <td>-71.9375</td>\n",
       "      <td>P1</td>\n",
       "    </tr>\n",
       "    <tr>\n",
       "      <th>2</th>\n",
       "      <td>1943.4048</td>\n",
       "      <td>8.2048</td>\n",
       "      <td>81.0742</td>\n",
       "      <td>38.4738</td>\n",
       "      <td>0.1363</td>\n",
       "      <td>2.3463</td>\n",
       "      <td>-71.5417</td>\n",
       "      <td>P1</td>\n",
       "    </tr>\n",
       "    <tr>\n",
       "      <th>3</th>\n",
       "      <td>1943.5572</td>\n",
       "      <td>8.2054</td>\n",
       "      <td>79.7949</td>\n",
       "      <td>38.8205</td>\n",
       "      <td>0.1543</td>\n",
       "      <td>2.3396</td>\n",
       "      <td>-70.8958</td>\n",
       "      <td>P1</td>\n",
       "    </tr>\n",
       "    <tr>\n",
       "      <th>4</th>\n",
       "      <td>1976.0184</td>\n",
       "      <td>8.6701</td>\n",
       "      <td>81.7513</td>\n",
       "      <td>39.8795</td>\n",
       "      <td>0.1612</td>\n",
       "      <td>2.3118</td>\n",
       "      <td>-68.1667</td>\n",
       "      <td>P1</td>\n",
       "    </tr>\n",
       "  </tbody>\n",
       "</table>\n",
       "</div>"
      ],
      "text/plain": [
       "       Depth    CALI       DT       GR    NPHI    RHOB       SP Well\n",
       "0  1943.1000  8.2527  78.5189  38.6367  0.0913  2.4194 -72.5208   P1\n",
       "1  1943.2524  8.2281  80.5339  38.6938  0.1143  2.3749 -71.9375   P1\n",
       "2  1943.4048  8.2048  81.0742  38.4738  0.1363  2.3463 -71.5417   P1\n",
       "3  1943.5572  8.2054  79.7949  38.8205  0.1543  2.3396 -70.8958   P1\n",
       "4  1976.0184  8.6701  81.7513  39.8795  0.1612  2.3118 -68.1667   P1"
      ]
     },
     "execution_count": 24,
     "metadata": {},
     "output_type": "execute_result"
    }
   ],
   "source": [
    "all_wells_dropped.head() #a normalização perderá o index da profundidade. Já foi previamente testado"
   ]
  },
  {
   "cell_type": "markdown",
   "metadata": {},
   "source": [
    "### Normalizing data"
   ]
  },
  {
   "cell_type": "markdown",
   "metadata": {},
   "source": [
    "Using the library preprocessing from Scikit learn. \n",
    "The feature to be predicted do not need normalization."
   ]
  },
  {
   "cell_type": "code",
   "execution_count": 25,
   "metadata": {},
   "outputs": [],
   "source": [
    "from sklearn.preprocessing import MinMaxScaler\n",
    "from sklearn import preprocessing"
   ]
  },
  {
   "cell_type": "code",
   "execution_count": 26,
   "metadata": {},
   "outputs": [
    {
     "name": "stdout",
     "output_type": "stream",
     "text": [
      "[[ 1.9431000e+03  8.2527000e+00  7.8518900e+01 ...  9.1300000e-02\n",
      "   2.4194000e+00 -7.2520800e+01]\n",
      " [ 1.9432524e+03  8.2281000e+00  8.0533900e+01 ...  1.1430000e-01\n",
      "   2.3749000e+00 -7.1937500e+01]\n",
      " [ 1.9434048e+03  8.2048000e+00  8.1074200e+01 ...  1.3630000e-01\n",
      "   2.3463000e+00 -7.1541700e+01]\n",
      " ...\n",
      " [ 2.7688032e+03  8.4204000e+00  7.3505900e+01 ...  9.9000000e-02\n",
      "   2.4209000e+00  1.8536580e+02]\n",
      " [ 2.7689556e+03  8.4247000e+00  7.2961500e+01 ...  9.6900000e-02\n",
      "   2.4395000e+00  1.8454340e+02]\n",
      " [ 2.7691080e+03  8.4290000e+00  7.3252700e+01 ...  9.4800000e-02\n",
      "   2.4588000e+00  1.8372110e+02]]\n"
     ]
    }
   ],
   "source": [
    "# Selecting some columns for one new dataframe\n",
    "\n",
    "all_wells_dropped_norm=all_wells_dropped[['Depth','CALI','DT','GR','NPHI','RHOB','SP']].values \n",
    "print(all_wells_dropped_norm)"
   ]
  },
  {
   "cell_type": "code",
   "execution_count": 27,
   "metadata": {},
   "outputs": [
    {
     "data": {
      "text/html": [
       "<div>\n",
       "<style scoped>\n",
       "    .dataframe tbody tr th:only-of-type {\n",
       "        vertical-align: middle;\n",
       "    }\n",
       "\n",
       "    .dataframe tbody tr th {\n",
       "        vertical-align: top;\n",
       "    }\n",
       "\n",
       "    .dataframe thead th {\n",
       "        text-align: right;\n",
       "    }\n",
       "</style>\n",
       "<table border=\"1\" class=\"dataframe\">\n",
       "  <thead>\n",
       "    <tr style=\"text-align: right;\">\n",
       "      <th></th>\n",
       "      <th>0</th>\n",
       "      <th>1</th>\n",
       "      <th>2</th>\n",
       "      <th>3</th>\n",
       "      <th>4</th>\n",
       "      <th>5</th>\n",
       "      <th>6</th>\n",
       "    </tr>\n",
       "  </thead>\n",
       "  <tbody>\n",
       "    <tr>\n",
       "      <th>count</th>\n",
       "      <td>3444.000000</td>\n",
       "      <td>3444.000000</td>\n",
       "      <td>3444.000000</td>\n",
       "      <td>3444.000000</td>\n",
       "      <td>3444.000000</td>\n",
       "      <td>3444.000000</td>\n",
       "      <td>3444.000000</td>\n",
       "    </tr>\n",
       "    <tr>\n",
       "      <th>mean</th>\n",
       "      <td>0.476081</td>\n",
       "      <td>0.736003</td>\n",
       "      <td>0.369222</td>\n",
       "      <td>0.863473</td>\n",
       "      <td>0.464425</td>\n",
       "      <td>0.464050</td>\n",
       "      <td>0.297240</td>\n",
       "    </tr>\n",
       "    <tr>\n",
       "      <th>std</th>\n",
       "      <td>0.337500</td>\n",
       "      <td>0.045821</td>\n",
       "      <td>0.209320</td>\n",
       "      <td>0.097230</td>\n",
       "      <td>0.189823</td>\n",
       "      <td>0.177941</td>\n",
       "      <td>0.166483</td>\n",
       "    </tr>\n",
       "    <tr>\n",
       "      <th>min</th>\n",
       "      <td>0.000000</td>\n",
       "      <td>0.000000</td>\n",
       "      <td>0.000000</td>\n",
       "      <td>0.000000</td>\n",
       "      <td>0.000000</td>\n",
       "      <td>0.000000</td>\n",
       "      <td>0.000000</td>\n",
       "    </tr>\n",
       "    <tr>\n",
       "      <th>25%</th>\n",
       "      <td>0.173936</td>\n",
       "      <td>0.712806</td>\n",
       "      <td>0.191951</td>\n",
       "      <td>0.796945</td>\n",
       "      <td>0.298846</td>\n",
       "      <td>0.333592</td>\n",
       "      <td>0.159186</td>\n",
       "    </tr>\n",
       "    <tr>\n",
       "      <th>50%</th>\n",
       "      <td>0.416260</td>\n",
       "      <td>0.723878</td>\n",
       "      <td>0.323835</td>\n",
       "      <td>0.879756</td>\n",
       "      <td>0.460733</td>\n",
       "      <td>0.465634</td>\n",
       "      <td>0.194901</td>\n",
       "    </tr>\n",
       "    <tr>\n",
       "      <th>75%</th>\n",
       "      <td>0.802341</td>\n",
       "      <td>0.743355</td>\n",
       "      <td>0.481600</td>\n",
       "      <td>0.941208</td>\n",
       "      <td>0.610543</td>\n",
       "      <td>0.607923</td>\n",
       "      <td>0.414901</td>\n",
       "    </tr>\n",
       "    <tr>\n",
       "      <th>max</th>\n",
       "      <td>1.000000</td>\n",
       "      <td>1.000000</td>\n",
       "      <td>1.000000</td>\n",
       "      <td>1.000000</td>\n",
       "      <td>1.000000</td>\n",
       "      <td>1.000000</td>\n",
       "      <td>1.000000</td>\n",
       "    </tr>\n",
       "  </tbody>\n",
       "</table>\n",
       "</div>"
      ],
      "text/plain": [
       "                 0            1            2            3            4  \\\n",
       "count  3444.000000  3444.000000  3444.000000  3444.000000  3444.000000   \n",
       "mean      0.476081     0.736003     0.369222     0.863473     0.464425   \n",
       "std       0.337500     0.045821     0.209320     0.097230     0.189823   \n",
       "min       0.000000     0.000000     0.000000     0.000000     0.000000   \n",
       "25%       0.173936     0.712806     0.191951     0.796945     0.298846   \n",
       "50%       0.416260     0.723878     0.323835     0.879756     0.460733   \n",
       "75%       0.802341     0.743355     0.481600     0.941208     0.610543   \n",
       "max       1.000000     1.000000     1.000000     1.000000     1.000000   \n",
       "\n",
       "                 5            6  \n",
       "count  3444.000000  3444.000000  \n",
       "mean      0.464050     0.297240  \n",
       "std       0.177941     0.166483  \n",
       "min       0.000000     0.000000  \n",
       "25%       0.333592     0.159186  \n",
       "50%       0.465634     0.194901  \n",
       "75%       0.607923     0.414901  \n",
       "max       1.000000     1.000000  "
      ]
     },
     "execution_count": 27,
     "metadata": {},
     "output_type": "execute_result"
    }
   ],
   "source": [
    "#Let's normalize\n",
    "\n",
    "min_max_scaler = preprocessing.MinMaxScaler()\n",
    "pocos_scaled = min_max_scaler.fit_transform(all_wells_dropped_norm)\n",
    "all_wells_dropped_normalizado=pd.DataFrame(pocos_scaled)\n",
    "all_wells_dropped_normalizado.describe()"
   ]
  },
  {
   "cell_type": "code",
   "execution_count": 28,
   "metadata": {},
   "outputs": [],
   "source": [
    "#Remembering that Depth,CALI,DT,GR,NPHI,RHOB,SP were normalizaded:\n",
    "all_wells_dropped_normalizado.rename(columns={0:'DEPTH',1:'CALI',2:'DT',3:'GR',4:'NPHI',5:'RHOB',6:'SP'},inplace=True)\n",
    "\n",
    "#BRINGING BACK THE wELL INFORMATION\n",
    "poco=all_wells_dropped['Well']\n",
    "all_wells_dropped_normalizado['Well']=poco\n"
   ]
  },
  {
   "cell_type": "markdown",
   "metadata": {},
   "source": [
    "### One Hot Encode technique "
   ]
  },
  {
   "cell_type": "markdown",
   "metadata": {},
   "source": [
    "To lead with categorical data 'wells' its necessary to adopt this tool. It involves representing categorical with a binary vector that has one element for each unique label and marking the class label with a 1 and 0. The main benefit is not weighting a value improperly."
   ]
  },
  {
   "cell_type": "code",
   "execution_count": 29,
   "metadata": {},
   "outputs": [
    {
     "name": "stdout",
     "output_type": "stream",
     "text": [
      "      DEPTH      CALI        DT        GR      NPHI      RHOB        SP  \\\n",
      "0  0.494325  0.705311  0.275014  0.965801  0.214184  0.590563  0.000000   \n",
      "1  0.494381  0.703208  0.302060  0.967234  0.268920  0.527887  0.002004   \n",
      "2  0.494438  0.701217  0.309312  0.961715  0.321276  0.487606  0.003363   \n",
      "3  0.494495  0.701268  0.292141  0.970412  0.364112  0.478169  0.005582   \n",
      "4  0.506583  0.740984  0.318400  0.996977  0.380533  0.439014  0.014956   \n",
      "\n",
      "   Well_P1  Well_P10  Well_P12  Well_P13  Well_P14  Well_P15  Well_P16  \\\n",
      "0        1         0         0         0         0         0         0   \n",
      "1        1         0         0         0         0         0         0   \n",
      "2        1         0         0         0         0         0         0   \n",
      "3        1         0         0         0         0         0         0   \n",
      "4        1         0         0         0         0         0         0   \n",
      "\n",
      "   Well_P2  Well_P20  Well_P4  Well_P5  Well_P6  \n",
      "0        0         0        0        0        0  \n",
      "1        0         0        0        0        0  \n",
      "2        0         0        0        0        0  \n",
      "3        0         0        0        0        0  \n",
      "4        0         0        0        0        0  \n"
     ]
    }
   ],
   "source": [
    "#This technique will implemented in Wells column.\n",
    "\n",
    "all_wells_dropped_norm_oneHot=all_wells_dropped_normalizado.copy()\n",
    "\n",
    "all_wells_dropped_norm_oneHot=pd.get_dummies(all_wells_dropped_norm_oneHot, columns=['Well'])\n",
    "\n",
    "print(all_wells_dropped_norm_oneHot.head())"
   ]
  },
  {
   "cell_type": "markdown",
   "metadata": {},
   "source": [
    "**Before to start to normalize the others columns let's analyse the columns distributions aiming see some the outliers.**"
   ]
  },
  {
   "cell_type": "code",
   "execution_count": 30,
   "metadata": {},
   "outputs": [
    {
     "data": {
      "image/png": "[encoded data removed]",
      "text/plain": [
       "<Figure size 576x432 with 1 Axes>"
      ]
     },
     "metadata": {
      "needs_background": "light"
     },
     "output_type": "display_data"
    }
   ],
   "source": [
    "ax = all_wells_dropped_norm_oneHot['DT'].transpose() #para plotar tem que fazer a transposta\n",
    "\n",
    "## to get fill color\n",
    "bp=ax.plot(kind='box', patch_artist=True,figsize=(8, 6))\n",
    "\n",
    "#fig, ax = plt.subplots(figsize=(10, 6))\n",
    "#fig.canvas.set_window_title('A Boxplot Example')\n",
    "#plt.subplots_adjust(left=0.075, right=0.95, top=0.9, bottom=0.25)\n",
    "\n",
    "plt.title('Frequência do DT')\n",
    "plt.ylabel('Velocidade DT')\n",
    "\n",
    "#plt.setp(bp['whiskers'], color='#1b9e77'\n",
    "#plt.setp(bp['flier'], color='#e7298a', alpha=0.5)\n",
    "#plt.setp(bp['box'],color='#7570b3',linewidth=7)\n",
    "#plt.setp(bp['caps'],color='#7570b3', linewidth=2)\n",
    "#plt.setp(bp['medians'],color='#b2df8a', linewidth=2)\n",
    "plt.savefig('FREQ_DT_vs_VElocidades_outliers.png')\n",
    "plt.show()\n"
   ]
  },
  {
   "cell_type": "code",
   "execution_count": 42,
   "metadata": {},
   "outputs": [
    {
     "data": {
      "image/png": "[encoded data removed]",
      "text/plain": [
       "<Figure size 792x576 with 9 Axes>"
      ]
     },
     "metadata": {
      "needs_background": "light"
     },
     "output_type": "display_data"
    }
   ],
   "source": [
    "data = all_wells_dropped_norm_oneHot[['DT','GR','NPHI','RHOB','SP','CALI','DEPTH']]\n",
    "data.hist(bins=30,figsize=(11,8))\n",
    "plt.savefig('Distribuicoes_logs.png')\n",
    "plt.show()\n"
   ]
  },
  {
   "cell_type": "code",
   "execution_count": 43,
   "metadata": {},
   "outputs": [
    {
     "data": {
      "image/png": "[encoded data removed]",
      "text/plain": [
       "<Figure size 432x288 with 1 Axes>"
      ]
     },
     "metadata": {
      "needs_background": "light"
     },
     "output_type": "display_data"
    },
    {
     "data": {
      "image/png": "[encoded data removed]",
      "text/plain": [
       "<Figure size 432x288 with 1 Axes>"
      ]
     },
     "metadata": {
      "needs_background": "light"
     },
     "output_type": "display_data"
    },
    {
     "data": {
      "image/png": "[encoded data removed]",
      "text/plain": [
       "<Figure size 432x288 with 1 Axes>"
      ]
     },
     "metadata": {
      "needs_background": "light"
     },
     "output_type": "display_data"
    }
   ],
   "source": [
    "plt.scatter(data.DT,data.GR, color='blue')\n",
    "plt.xlabel(\"DT\")\n",
    "plt.ylabel(\"GR\")\n",
    "plt.show()\n",
    "\n",
    "plt.scatter(data.DT,data.NPHI, color='green')\n",
    "plt.xlabel(\"DT\")\n",
    "plt.ylabel(\"NPHI\")\n",
    "plt.show()\n",
    "plt.scatter(data.DT,data.RHOB, color='yellow')\n",
    "plt.xlabel(\"DT\")\n",
    "plt.ylabel(\"RHOB\")\n",
    "plt.savefig('Distrib_vs_DT.png')\n",
    "\n",
    "plt.show()"
   ]
  },
  {
   "cell_type": "markdown",
   "metadata": {},
   "source": [
    "### Resultados da Normalização"
   ]
  },
  {
   "cell_type": "code",
   "execution_count": 33,
   "metadata": {},
   "outputs": [
    {
     "data": {
      "text/html": [
       "<div>\n",
       "<style scoped>\n",
       "    .dataframe tbody tr th:only-of-type {\n",
       "        vertical-align: middle;\n",
       "    }\n",
       "\n",
       "    .dataframe tbody tr th {\n",
       "        vertical-align: top;\n",
       "    }\n",
       "\n",
       "    .dataframe thead th {\n",
       "        text-align: right;\n",
       "    }\n",
       "</style>\n",
       "<table border=\"1\" class=\"dataframe\">\n",
       "  <thead>\n",
       "    <tr style=\"text-align: right;\">\n",
       "      <th></th>\n",
       "      <th>DEPTH</th>\n",
       "      <th>CALI</th>\n",
       "      <th>DT</th>\n",
       "      <th>GR</th>\n",
       "      <th>NPHI</th>\n",
       "      <th>RHOB</th>\n",
       "      <th>SP</th>\n",
       "      <th>Well_P1</th>\n",
       "      <th>Well_P10</th>\n",
       "      <th>Well_P12</th>\n",
       "      <th>Well_P13</th>\n",
       "      <th>Well_P14</th>\n",
       "      <th>Well_P15</th>\n",
       "      <th>Well_P16</th>\n",
       "      <th>Well_P2</th>\n",
       "      <th>Well_P20</th>\n",
       "      <th>Well_P4</th>\n",
       "      <th>Well_P5</th>\n",
       "      <th>Well_P6</th>\n",
       "    </tr>\n",
       "  </thead>\n",
       "  <tbody>\n",
       "    <tr>\n",
       "      <th>0</th>\n",
       "      <td>0.494325</td>\n",
       "      <td>0.705311</td>\n",
       "      <td>0.275014</td>\n",
       "      <td>0.965801</td>\n",
       "      <td>0.214184</td>\n",
       "      <td>0.590563</td>\n",
       "      <td>0.000000</td>\n",
       "      <td>1</td>\n",
       "      <td>0</td>\n",
       "      <td>0</td>\n",
       "      <td>0</td>\n",
       "      <td>0</td>\n",
       "      <td>0</td>\n",
       "      <td>0</td>\n",
       "      <td>0</td>\n",
       "      <td>0</td>\n",
       "      <td>0</td>\n",
       "      <td>0</td>\n",
       "      <td>0</td>\n",
       "    </tr>\n",
       "    <tr>\n",
       "      <th>1</th>\n",
       "      <td>0.494381</td>\n",
       "      <td>0.703208</td>\n",
       "      <td>0.302060</td>\n",
       "      <td>0.967234</td>\n",
       "      <td>0.268920</td>\n",
       "      <td>0.527887</td>\n",
       "      <td>0.002004</td>\n",
       "      <td>1</td>\n",
       "      <td>0</td>\n",
       "      <td>0</td>\n",
       "      <td>0</td>\n",
       "      <td>0</td>\n",
       "      <td>0</td>\n",
       "      <td>0</td>\n",
       "      <td>0</td>\n",
       "      <td>0</td>\n",
       "      <td>0</td>\n",
       "      <td>0</td>\n",
       "      <td>0</td>\n",
       "    </tr>\n",
       "    <tr>\n",
       "      <th>2</th>\n",
       "      <td>0.494438</td>\n",
       "      <td>0.701217</td>\n",
       "      <td>0.309312</td>\n",
       "      <td>0.961715</td>\n",
       "      <td>0.321276</td>\n",
       "      <td>0.487606</td>\n",
       "      <td>0.003363</td>\n",
       "      <td>1</td>\n",
       "      <td>0</td>\n",
       "      <td>0</td>\n",
       "      <td>0</td>\n",
       "      <td>0</td>\n",
       "      <td>0</td>\n",
       "      <td>0</td>\n",
       "      <td>0</td>\n",
       "      <td>0</td>\n",
       "      <td>0</td>\n",
       "      <td>0</td>\n",
       "      <td>0</td>\n",
       "    </tr>\n",
       "    <tr>\n",
       "      <th>3</th>\n",
       "      <td>0.494495</td>\n",
       "      <td>0.701268</td>\n",
       "      <td>0.292141</td>\n",
       "      <td>0.970412</td>\n",
       "      <td>0.364112</td>\n",
       "      <td>0.478169</td>\n",
       "      <td>0.005582</td>\n",
       "      <td>1</td>\n",
       "      <td>0</td>\n",
       "      <td>0</td>\n",
       "      <td>0</td>\n",
       "      <td>0</td>\n",
       "      <td>0</td>\n",
       "      <td>0</td>\n",
       "      <td>0</td>\n",
       "      <td>0</td>\n",
       "      <td>0</td>\n",
       "      <td>0</td>\n",
       "      <td>0</td>\n",
       "    </tr>\n",
       "    <tr>\n",
       "      <th>4</th>\n",
       "      <td>0.506583</td>\n",
       "      <td>0.740984</td>\n",
       "      <td>0.318400</td>\n",
       "      <td>0.996977</td>\n",
       "      <td>0.380533</td>\n",
       "      <td>0.439014</td>\n",
       "      <td>0.014956</td>\n",
       "      <td>1</td>\n",
       "      <td>0</td>\n",
       "      <td>0</td>\n",
       "      <td>0</td>\n",
       "      <td>0</td>\n",
       "      <td>0</td>\n",
       "      <td>0</td>\n",
       "      <td>0</td>\n",
       "      <td>0</td>\n",
       "      <td>0</td>\n",
       "      <td>0</td>\n",
       "      <td>0</td>\n",
       "    </tr>\n",
       "  </tbody>\n",
       "</table>\n",
       "</div>"
      ],
      "text/plain": [
       "      DEPTH      CALI        DT        GR      NPHI      RHOB        SP  \\\n",
       "0  0.494325  0.705311  0.275014  0.965801  0.214184  0.590563  0.000000   \n",
       "1  0.494381  0.703208  0.302060  0.967234  0.268920  0.527887  0.002004   \n",
       "2  0.494438  0.701217  0.309312  0.961715  0.321276  0.487606  0.003363   \n",
       "3  0.494495  0.701268  0.292141  0.970412  0.364112  0.478169  0.005582   \n",
       "4  0.506583  0.740984  0.318400  0.996977  0.380533  0.439014  0.014956   \n",
       "\n",
       "   Well_P1  Well_P10  Well_P12  Well_P13  Well_P14  Well_P15  Well_P16  \\\n",
       "0        1         0         0         0         0         0         0   \n",
       "1        1         0         0         0         0         0         0   \n",
       "2        1         0         0         0         0         0         0   \n",
       "3        1         0         0         0         0         0         0   \n",
       "4        1         0         0         0         0         0         0   \n",
       "\n",
       "   Well_P2  Well_P20  Well_P4  Well_P5  Well_P6  \n",
       "0        0         0        0        0        0  \n",
       "1        0         0        0        0        0  \n",
       "2        0         0        0        0        0  \n",
       "3        0         0        0        0        0  \n",
       "4        0         0        0        0        0  "
      ]
     },
     "execution_count": 33,
     "metadata": {},
     "output_type": "execute_result"
    }
   ],
   "source": [
    "all_wells_dropped_norm_oneHot.head()"
   ]
  },
  {
   "cell_type": "markdown",
   "metadata": {},
   "source": [
    "### Train and Split the data"
   ]
  },
  {
   "cell_type": "markdown",
   "metadata": {},
   "source": [
    "Let’s split this data into labels and features. Now, what’s that? Using features, we predict labels. I mean using features (the data we use to predict labels), we predict labels (the data we want to predict).DT is a label to predict sonic P in y; we use the drop() function to take all other data in x. Then, we split the data."
   ]
  },
  {
   "cell_type": "markdown",
   "metadata": {},
   "source": [
    "Out of Sample Accuracy is the percentage of correct predictions that the model makes on data that that the model has NOT been trained on. Doing a train and test on the same dataset will most likely have low out-of-sample accuracy, due to the likelihood of being over-fit.\n",
    "\n",
    "It is important that our models have a high, out-of-sample accuracy, because the purpose of any model, of course, is to make correct predictions on unknown data. So how can we improve out-of-sample accuracy? One way is to use an evaluation approach called Train/Test Split. Train/Test Split involves splitting the dataset into training and testing sets respectively, which are mutually exclusive. After which, you train with the training set and test with the testing set.\n",
    "\n",
    "This will provide a more accurate evaluation on out-of-sample accuracy because the testing dataset is not part of the dataset that have been used to train the data. It is more realistic for real world problems."
   ]
  },
  {
   "cell_type": "code",
   "execution_count": 34,
   "metadata": {},
   "outputs": [],
   "source": [
    "from sklearn.model_selection import train_test_split\n",
    "from sklearn.model_selection import cross_val_score\n",
    "from sklearn.model_selection import cross_val_predict\n",
    "\n",
    "y=all_wells_dropped_norm_oneHot['DT'] #feature of prediction\n",
    "X=all_wells_dropped_norm_oneHot.drop(['DT'],axis=1)\n"
   ]
  },
  {
   "cell_type": "code",
   "execution_count": 35,
   "metadata": {},
   "outputs": [
    {
     "name": "stdout",
     "output_type": "stream",
     "text": [
      "Train set: (2410, 18) (2410,)\n",
      "Test set: (1034, 18) (1034,)\n"
     ]
    }
   ],
   "source": [
    "# test data sera de 20%\n",
    "X_train,X_test,y_train,y_test = train_test_split(X,y,test_size = 0.3, random_state=0)\n",
    "print ('Train set:', X_train.shape,  y_train.shape)\n",
    "print ('Test set:', X_test.shape,  y_test.shape)\n",
    "#random_state simply sets a seed to the random generator, so that your train-test splits are always deterministic. If you don't set a seed, it is different each time."
   ]
  },
  {
   "cell_type": "code",
   "execution_count": 36,
   "metadata": {},
   "outputs": [
    {
     "data": {
      "text/html": [
       "<div>\n",
       "<style scoped>\n",
       "    .dataframe tbody tr th:only-of-type {\n",
       "        vertical-align: middle;\n",
       "    }\n",
       "\n",
       "    .dataframe tbody tr th {\n",
       "        vertical-align: top;\n",
       "    }\n",
       "\n",
       "    .dataframe thead th {\n",
       "        text-align: right;\n",
       "    }\n",
       "</style>\n",
       "<table border=\"1\" class=\"dataframe\">\n",
       "  <thead>\n",
       "    <tr style=\"text-align: right;\">\n",
       "      <th></th>\n",
       "      <th>DEPTH</th>\n",
       "      <th>CALI</th>\n",
       "      <th>DT</th>\n",
       "      <th>GR</th>\n",
       "      <th>NPHI</th>\n",
       "      <th>RHOB</th>\n",
       "      <th>SP</th>\n",
       "      <th>Well_P1</th>\n",
       "      <th>Well_P10</th>\n",
       "      <th>Well_P12</th>\n",
       "      <th>Well_P13</th>\n",
       "      <th>Well_P14</th>\n",
       "      <th>Well_P15</th>\n",
       "      <th>Well_P16</th>\n",
       "      <th>Well_P2</th>\n",
       "      <th>Well_P20</th>\n",
       "      <th>Well_P4</th>\n",
       "      <th>Well_P5</th>\n",
       "      <th>Well_P6</th>\n",
       "    </tr>\n",
       "  </thead>\n",
       "  <tbody>\n",
       "    <tr>\n",
       "      <th>0</th>\n",
       "      <td>0.494325</td>\n",
       "      <td>0.705311</td>\n",
       "      <td>0.275014</td>\n",
       "      <td>0.965801</td>\n",
       "      <td>0.214184</td>\n",
       "      <td>0.590563</td>\n",
       "      <td>0.000000</td>\n",
       "      <td>1</td>\n",
       "      <td>0</td>\n",
       "      <td>0</td>\n",
       "      <td>0</td>\n",
       "      <td>0</td>\n",
       "      <td>0</td>\n",
       "      <td>0</td>\n",
       "      <td>0</td>\n",
       "      <td>0</td>\n",
       "      <td>0</td>\n",
       "      <td>0</td>\n",
       "      <td>0</td>\n",
       "    </tr>\n",
       "    <tr>\n",
       "      <th>1</th>\n",
       "      <td>0.494381</td>\n",
       "      <td>0.703208</td>\n",
       "      <td>0.302060</td>\n",
       "      <td>0.967234</td>\n",
       "      <td>0.268920</td>\n",
       "      <td>0.527887</td>\n",
       "      <td>0.002004</td>\n",
       "      <td>1</td>\n",
       "      <td>0</td>\n",
       "      <td>0</td>\n",
       "      <td>0</td>\n",
       "      <td>0</td>\n",
       "      <td>0</td>\n",
       "      <td>0</td>\n",
       "      <td>0</td>\n",
       "      <td>0</td>\n",
       "      <td>0</td>\n",
       "      <td>0</td>\n",
       "      <td>0</td>\n",
       "    </tr>\n",
       "    <tr>\n",
       "      <th>2</th>\n",
       "      <td>0.494438</td>\n",
       "      <td>0.701217</td>\n",
       "      <td>0.309312</td>\n",
       "      <td>0.961715</td>\n",
       "      <td>0.321276</td>\n",
       "      <td>0.487606</td>\n",
       "      <td>0.003363</td>\n",
       "      <td>1</td>\n",
       "      <td>0</td>\n",
       "      <td>0</td>\n",
       "      <td>0</td>\n",
       "      <td>0</td>\n",
       "      <td>0</td>\n",
       "      <td>0</td>\n",
       "      <td>0</td>\n",
       "      <td>0</td>\n",
       "      <td>0</td>\n",
       "      <td>0</td>\n",
       "      <td>0</td>\n",
       "    </tr>\n",
       "    <tr>\n",
       "      <th>3</th>\n",
       "      <td>0.494495</td>\n",
       "      <td>0.701268</td>\n",
       "      <td>0.292141</td>\n",
       "      <td>0.970412</td>\n",
       "      <td>0.364112</td>\n",
       "      <td>0.478169</td>\n",
       "      <td>0.005582</td>\n",
       "      <td>1</td>\n",
       "      <td>0</td>\n",
       "      <td>0</td>\n",
       "      <td>0</td>\n",
       "      <td>0</td>\n",
       "      <td>0</td>\n",
       "      <td>0</td>\n",
       "      <td>0</td>\n",
       "      <td>0</td>\n",
       "      <td>0</td>\n",
       "      <td>0</td>\n",
       "      <td>0</td>\n",
       "    </tr>\n",
       "    <tr>\n",
       "      <th>4</th>\n",
       "      <td>0.506583</td>\n",
       "      <td>0.740984</td>\n",
       "      <td>0.318400</td>\n",
       "      <td>0.996977</td>\n",
       "      <td>0.380533</td>\n",
       "      <td>0.439014</td>\n",
       "      <td>0.014956</td>\n",
       "      <td>1</td>\n",
       "      <td>0</td>\n",
       "      <td>0</td>\n",
       "      <td>0</td>\n",
       "      <td>0</td>\n",
       "      <td>0</td>\n",
       "      <td>0</td>\n",
       "      <td>0</td>\n",
       "      <td>0</td>\n",
       "      <td>0</td>\n",
       "      <td>0</td>\n",
       "      <td>0</td>\n",
       "    </tr>\n",
       "  </tbody>\n",
       "</table>\n",
       "</div>"
      ],
      "text/plain": [
       "      DEPTH      CALI        DT        GR      NPHI      RHOB        SP  \\\n",
       "0  0.494325  0.705311  0.275014  0.965801  0.214184  0.590563  0.000000   \n",
       "1  0.494381  0.703208  0.302060  0.967234  0.268920  0.527887  0.002004   \n",
       "2  0.494438  0.701217  0.309312  0.961715  0.321276  0.487606  0.003363   \n",
       "3  0.494495  0.701268  0.292141  0.970412  0.364112  0.478169  0.005582   \n",
       "4  0.506583  0.740984  0.318400  0.996977  0.380533  0.439014  0.014956   \n",
       "\n",
       "   Well_P1  Well_P10  Well_P12  Well_P13  Well_P14  Well_P15  Well_P16  \\\n",
       "0        1         0         0         0         0         0         0   \n",
       "1        1         0         0         0         0         0         0   \n",
       "2        1         0         0         0         0         0         0   \n",
       "3        1         0         0         0         0         0         0   \n",
       "4        1         0         0         0         0         0         0   \n",
       "\n",
       "   Well_P2  Well_P20  Well_P4  Well_P5  Well_P6  \n",
       "0        0         0        0        0        0  \n",
       "1        0         0        0        0        0  \n",
       "2        0         0        0        0        0  \n",
       "3        0         0        0        0        0  \n",
       "4        0         0        0        0        0  "
      ]
     },
     "execution_count": 36,
     "metadata": {},
     "output_type": "execute_result"
    }
   ],
   "source": [
    "all_wells_dropped_norm_oneHot.head()"
   ]
  },
  {
   "cell_type": "markdown",
   "metadata": {},
   "source": [
    "## Plotting of Train and Test Set in Python"
   ]
  },
  {
   "cell_type": "code",
   "execution_count": 38,
   "metadata": {},
   "outputs": [],
   "source": [
    "import scipy\n",
    "from sklearn.linear_model import LinearRegression as lm\n",
    "from scipy.optimize import least_squares, curve_fit\n",
    "from sklearn.metrics import mean_squared_error\n",
    "from sklearn.metrics import r2_score\n",
    "\n",
    "model=lm().fit(X_train,y_train)#calling regression function name\n",
    "\n",
    "predictions=model.predict(X_test) #and regression >> comand fit to the model\n",
    "\n",
    "test_y_hat = model.predict(X_test)"
   ]
  },
  {
   "cell_type": "code",
   "execution_count": 39,
   "metadata": {},
   "outputs": [
    {
     "name": "stdout",
     "output_type": "stream",
     "text": [
      "Coefficients:  [-0.4071212  -0.386966   -0.00157201  0.34184458 -0.49357357  0.31140209\n",
      "  0.08982554 -0.13757402 -0.20498625  0.15290305 -0.29391599  0.11032244\n",
      "  0.15203776  0.18739709 -0.09976575 -0.03556749  0.04828138  0.03104223]\n",
      "Intercept:  0.8219130017308149\n"
     ]
    }
   ],
   "source": [
    "# The coefficients\n",
    "print ('Coefficients: ', model.coef_)\n",
    "\n",
    "print ('Intercept: ', model.intercept_)"
   ]
  },
  {
   "cell_type": "markdown",
   "metadata": {},
   "source": [
    "#### Evaluation\n",
    "we compare the actual values and predicted values to calculate the accuracy of a regression model. Evaluation metrics provide a key role in the development of a model, as it provides insight to areas that require improvement.\n",
    "\n",
    "There are different model evaluation metrics, lets use MSE here to calculate the accuracy of our model based on the test set: \n",
    "<ul>\n",
    "    <li> Mean absolute error: It is the mean of the absolute value of the errors. This is the easiest of the metrics to understand since it’s just average error.</li>    \n",
    "    <li> Mean Squared Error (MSE): Mean Squared Error (MSE) is the mean of the squared error. It’s more popular than Mean absolute error because the focus is geared more towards large errors. This is due to the squared term exponentially increasing larger errors in comparison to smaller ones.</li>    \n",
    "    <li> Root Mean Squared Error (RMSE): This is the square root of the Mean Square Error. </li>\n",
    "    <li> R-squared is not error, but is a popular metric for accuracy of your model. It represents how close the data are to the fitted regression line. The higher the R-squared, the better the model fits your data. Best possible score is 1.0 and it can be negative (because the model can be arbitrarily worse).</li>\n",
    "</ul>"
   ]
  },
  {
   "cell_type": "markdown",
   "metadata": {},
   "source": [
    "__Explained variance regression score:__  \n",
    "If $\\hat{y}$ is the estimated target output, y the corresponding (correct) target output, and Var is Variance, the square of the standard deviation, then the explained variance is estimated as follow:\n",
    "\n",
    "$\\texttt{explainedVariance}(y, \\hat{y}) = 1 - \\frac{Var\\{ y - \\hat{y}\\}}{Var\\{y\\}}$  \n",
    "The best possible score is 1.0, lower values are worse because indicates noisy data."
   ]
  },
  {
   "cell_type": "code",
   "execution_count": 40,
   "metadata": {},
   "outputs": [
    {
     "name": "stdout",
     "output_type": "stream",
     "text": [
      "Mean absolute error: 0.06\n",
      "R2-score: 0.86\n",
      "Residual sum of squares (MSE): 0.01\n",
      "Variance score: 0.89\n"
     ]
    }
   ],
   "source": [
    "#Evaluation\n",
    "print(\"Mean absolute error: %.2f\" % np.mean(np.absolute(test_y_hat - y_test)))\n",
    "\n",
    "print(\"R2-score: %.2f\" % r2_score(test_y_hat , y_test) )\n",
    "\n",
    "print(\"Residual sum of squares (MSE): %.2f\" % np.mean((test_y_hat - y_test) ** 2))\n",
    "\n",
    "# Explained variance score: 1 is perfect prediction\n",
    "print('Variance score: %.2f' % model.score(X_train, y_train))"
   ]
  },
  {
   "cell_type": "markdown",
   "metadata": {},
   "source": [
    "### Plotting prediction vs true values \n"
   ]
  },
  {
   "cell_type": "code",
   "execution_count": 300,
   "metadata": {},
   "outputs": [
    {
     "data": {
      "image/png": "[encoded data removed]",
      "text/plain": [
       "<Figure size 432x288 with 1 Axes>"
      ]
     },
     "metadata": {
      "needs_background": "light"
     },
     "output_type": "display_data"
    }
   ],
   "source": [
    "import matplotlib.pyplot as plt\n",
    "plt.scatter(y_test,predictions, color='green')\n",
    "\n",
    "plt.title('Polynomial Regression',fontweight='bold', fontsize=14) \n",
    "plt.xlabel('True values',fontsize=14)\n",
    "plt.ylabel('Predictions',fontsize=14)\n",
    "\n",
    "plt.savefig('Regression_results.png')\n",
    "plt.show() \n"
   ]
  },
  {
   "cell_type": "markdown",
   "metadata": {},
   "source": [
    "Train and test split it is a good approach to use if it has sufficient data or a slow model to train. "
   ]
  },
  {
   "cell_type": "markdown",
   "metadata": {},
   "source": [
    "### Machine Learning Implementation"
   ]
  },
  {
   "cell_type": "code",
   "execution_count": 443,
   "metadata": {
    "scrolled": true
   },
   "outputs": [
    {
     "name": "stdout",
     "output_type": "stream",
     "text": [
      "Requirement already satisfied: keras in /home/familia/anaconda3/lib/python3.7/site-packages (2.3.1)\n",
      "Requirement already satisfied: pyyaml in /home/familia/anaconda3/lib/python3.7/site-packages (from keras) (5.1)\n",
      "Requirement already satisfied: h5py in /home/familia/anaconda3/lib/python3.7/site-packages (from keras) (2.9.0)\n",
      "Requirement already satisfied: scipy>=0.14 in /home/familia/anaconda3/lib/python3.7/site-packages (from keras) (1.2.1)\n",
      "Requirement already satisfied: keras-preprocessing>=1.0.5 in /home/familia/anaconda3/lib/python3.7/site-packages (from keras) (1.1.0)\n",
      "Requirement already satisfied: numpy>=1.9.1 in /home/familia/anaconda3/lib/python3.7/site-packages (from keras) (1.16.2)\n",
      "Requirement already satisfied: six>=1.9.0 in /home/familia/anaconda3/lib/python3.7/site-packages (from keras) (1.12.0)\n",
      "Requirement already satisfied: keras-applications>=1.0.6 in /home/familia/anaconda3/lib/python3.7/site-packages (from keras) (1.0.8)\n",
      "Note: you may need to restart the kernel to use updated packages.\n"
     ]
    }
   ],
   "source": [
    "%pip install keras"
   ]
  },
  {
   "cell_type": "code",
   "execution_count": 444,
   "metadata": {},
   "outputs": [
    {
     "name": "stdout",
     "output_type": "stream",
     "text": [
      "Requirement already satisfied: xgboost in /home/familia/anaconda3/lib/python3.7/site-packages (1.1.1)\n",
      "Requirement already satisfied: scipy in /home/familia/anaconda3/lib/python3.7/site-packages (from xgboost) (1.2.1)\n",
      "Requirement already satisfied: numpy in /home/familia/anaconda3/lib/python3.7/site-packages (from xgboost) (1.16.2)\n",
      "Note: you may need to restart the kernel to use updated packages.\n"
     ]
    }
   ],
   "source": [
    "pip install xgboost"
   ]
  },
  {
   "cell_type": "code",
   "execution_count": 445,
   "metadata": {
    "scrolled": true
   },
   "outputs": [
    {
     "name": "stdout",
     "output_type": "stream",
     "text": [
      "Requirement already satisfied: vecstack in /home/familia/anaconda3/lib/python3.7/site-packages (0.4.0)\n",
      "Requirement already satisfied: scikit-learn>=0.18 in /home/familia/anaconda3/lib/python3.7/site-packages (from vecstack) (0.23.1)\n",
      "Requirement already satisfied: numpy in /home/familia/anaconda3/lib/python3.7/site-packages (from vecstack) (1.16.2)\n",
      "Requirement already satisfied: scipy in /home/familia/anaconda3/lib/python3.7/site-packages (from vecstack) (1.2.1)\n",
      "Requirement already satisfied: joblib>=0.11 in /home/familia/anaconda3/lib/python3.7/site-packages (from scikit-learn>=0.18->vecstack) (0.15.1)\n",
      "Requirement already satisfied: threadpoolctl>=2.0.0 in /home/familia/anaconda3/lib/python3.7/site-packages (from scikit-learn>=0.18->vecstack) (2.1.0)\n",
      "Note: you may need to restart the kernel to use updated packages.\n"
     ]
    }
   ],
   "source": [
    "pip install vecstack"
   ]
  },
  {
   "cell_type": "code",
   "execution_count": 446,
   "metadata": {},
   "outputs": [
    {
     "name": "stdout",
     "output_type": "stream",
     "text": [
      "Requirement already up-to-date: scikit-learn in /home/familia/anaconda3/lib/python3.7/site-packages (0.23.1)\n",
      "Requirement already satisfied, skipping upgrade: joblib>=0.11 in /home/familia/anaconda3/lib/python3.7/site-packages (from scikit-learn) (0.15.1)\n",
      "Requirement already satisfied, skipping upgrade: numpy>=1.13.3 in /home/familia/anaconda3/lib/python3.7/site-packages (from scikit-learn) (1.16.2)\n",
      "Requirement already satisfied, skipping upgrade: scipy>=0.19.1 in /home/familia/anaconda3/lib/python3.7/site-packages (from scikit-learn) (1.2.1)\n",
      "Requirement already satisfied, skipping upgrade: threadpoolctl>=2.0.0 in /home/familia/anaconda3/lib/python3.7/site-packages (from scikit-learn) (2.1.0)\n",
      "Note: you may need to restart the kernel to use updated packages.\n"
     ]
    }
   ],
   "source": [
    "pip install --upgrade scikit-learn"
   ]
  },
  {
   "cell_type": "code",
   "execution_count": 447,
   "metadata": {},
   "outputs": [
    {
     "name": "stdout",
     "output_type": "stream",
     "text": [
      "Requirement already satisfied: tensorflow in /home/familia/anaconda3/lib/python3.7/site-packages (1.14.0)\n",
      "Requirement already satisfied: wrapt>=1.11.1 in /home/familia/anaconda3/lib/python3.7/site-packages (from tensorflow) (1.11.1)\n",
      "Requirement already satisfied: keras-applications>=1.0.6 in /home/familia/anaconda3/lib/python3.7/site-packages (from tensorflow) (1.0.8)\n",
      "Requirement already satisfied: google-pasta>=0.1.6 in /home/familia/anaconda3/lib/python3.7/site-packages (from tensorflow) (0.2.0)\n",
      "Requirement already satisfied: absl-py>=0.7.0 in /home/familia/anaconda3/lib/python3.7/site-packages (from tensorflow) (0.9.0)\n",
      "Requirement already satisfied: wheel>=0.26 in /home/familia/anaconda3/lib/python3.7/site-packages (from tensorflow) (0.33.1)\n",
      "Requirement already satisfied: gast>=0.2.0 in /home/familia/anaconda3/lib/python3.7/site-packages (from tensorflow) (0.3.3)\n",
      "Requirement already satisfied: six>=1.10.0 in /home/familia/anaconda3/lib/python3.7/site-packages (from tensorflow) (1.12.0)\n",
      "Requirement already satisfied: protobuf>=3.6.1 in /home/familia/anaconda3/lib/python3.7/site-packages (from tensorflow) (3.11.4)\n",
      "Requirement already satisfied: tensorflow-estimator<1.15.0rc0,>=1.14.0rc0 in /home/familia/anaconda3/lib/python3.7/site-packages (from tensorflow) (1.14.0)\n",
      "Requirement already satisfied: tensorboard<1.15.0,>=1.14.0 in /home/familia/anaconda3/lib/python3.7/site-packages (from tensorflow) (1.14.0)\n",
      "Requirement already satisfied: astor>=0.6.0 in /home/familia/anaconda3/lib/python3.7/site-packages (from tensorflow) (0.8.0)\n",
      "Requirement already satisfied: grpcio>=1.8.6 in /home/familia/anaconda3/lib/python3.7/site-packages (from tensorflow) (1.27.2)\n",
      "Requirement already satisfied: numpy<2.0,>=1.14.5 in /home/familia/anaconda3/lib/python3.7/site-packages (from tensorflow) (1.16.2)\n",
      "Requirement already satisfied: keras-preprocessing>=1.0.5 in /home/familia/anaconda3/lib/python3.7/site-packages (from tensorflow) (1.1.0)\n",
      "Requirement already satisfied: termcolor>=1.1.0 in /home/familia/anaconda3/lib/python3.7/site-packages (from tensorflow) (1.1.0)\n",
      "Requirement already satisfied: h5py in /home/familia/anaconda3/lib/python3.7/site-packages (from keras-applications>=1.0.6->tensorflow) (2.9.0)\n",
      "Requirement already satisfied: setuptools in /home/familia/anaconda3/lib/python3.7/site-packages (from protobuf>=3.6.1->tensorflow) (49.1.0)\n",
      "Requirement already satisfied: werkzeug>=0.11.15 in /home/familia/anaconda3/lib/python3.7/site-packages (from tensorboard<1.15.0,>=1.14.0->tensorflow) (0.14.1)\n",
      "Requirement already satisfied: markdown>=2.6.8 in /home/familia/anaconda3/lib/python3.7/site-packages (from tensorboard<1.15.0,>=1.14.0->tensorflow) (3.1.1)\n",
      "Note: you may need to restart the kernel to use updated packages.\n"
     ]
    }
   ],
   "source": [
    "%pip install tensorflow"
   ]
  },
  {
   "cell_type": "code",
   "execution_count": 448,
   "metadata": {},
   "outputs": [
    {
     "name": "stdout",
     "output_type": "stream",
     "text": [
      "Requirement already satisfied: vecstack in /home/familia/anaconda3/lib/python3.7/site-packages (0.4.0)\n",
      "Requirement already satisfied: scipy in /home/familia/anaconda3/lib/python3.7/site-packages (from vecstack) (1.2.1)\n",
      "Requirement already satisfied: scikit-learn>=0.18 in /home/familia/anaconda3/lib/python3.7/site-packages (from vecstack) (0.23.1)\n",
      "Requirement already satisfied: numpy in /home/familia/anaconda3/lib/python3.7/site-packages (from vecstack) (1.16.2)\n",
      "Requirement already satisfied: threadpoolctl>=2.0.0 in /home/familia/anaconda3/lib/python3.7/site-packages (from scikit-learn>=0.18->vecstack) (2.1.0)\n",
      "Requirement already satisfied: joblib>=0.11 in /home/familia/anaconda3/lib/python3.7/site-packages (from scikit-learn>=0.18->vecstack) (0.15.1)\n",
      "Note: you may need to restart the kernel to use updated packages.\n",
      "Collecting https://github.com/vecxoz/vecstack/archive/master.zip\n",
      "  Using cached https://github.com/vecxoz/vecstack/archive/master.zip\n",
      "Building wheels for collected packages: vecstack\n",
      "  Building wheel for vecstack (setup.py) ... \u001b[?25ldone\n",
      "\u001b[?25h  Created wheel for vecstack: filename=vecstack-0.4.0-py3-none-any.whl size=20703 sha256=c802ff1144ba7cd1d197c9b8c84d3bc0f44a06f83ec5c0e02e669a6abf7f202f\n",
      "  Stored in directory: /tmp/pip-ephem-wheel-cache-t45n8quy/wheels/a1/b8/03/3da465207a9496eba3075acc9017feb15daa5a7fd78f5b697f\n",
      "Successfully built vecstack\n",
      "Installing collected packages: vecstack\n",
      "  Attempting uninstall: vecstack\n",
      "    Found existing installation: vecstack 0.4.0\n",
      "    Uninstalling vecstack-0.4.0:\n",
      "      Successfully uninstalled vecstack-0.4.0\n",
      "Successfully installed vecstack-0.4.0\n",
      "Note: you may need to restart the kernel to use updated packages.\n"
     ]
    }
   ],
   "source": [
    "%pip install  --user vecstack\n",
    "%pip install --upgrade --no-deps https://github.com/vecxoz/vecstack/archive/master.zip"
   ]
  },
  {
   "cell_type": "code",
   "execution_count": 473,
   "metadata": {},
   "outputs": [],
   "source": [
    "#let's install the libraries to Machine Learning\n",
    "from sklearn.linear_model import LinearRegression\n",
    "from xgboost import XGBRegressor\n",
    "from sklearn import linear_model\n",
    "from sklearn.ensemble import RandomForestRegressor\n",
    "from sklearn.ensemble import BaggingRegressor\n",
    "from sklearn.neighbors import KNeighborsRegressor\n",
    "from vecstack import stacking  #remembering i will stack the weak learners "
   ]
  },
  {
   "cell_type": "code",
   "execution_count": 474,
   "metadata": {},
   "outputs": [],
   "source": [
    "from sklearn.model_selection import cross_validate, cross_val_predict"
   ]
  },
  {
   "cell_type": "code",
   "execution_count": 508,
   "metadata": {},
   "outputs": [],
   "source": [
    "from sklearn.ensemble import GradientBoostingRegressor\n",
    "from sklearn.svm import SVR\n",
    "from sklearn.ensemble import StackingRegressor\n",
    "from sklearn.metrics import accuracy_score\n",
    "from sklearn.model_selection import RepeatedKFold\n",
    "from sklearn.ensemble import VotingRegressor\n",
    "from sklearn.tree import DecisionTreeRegressor"
   ]
  },
  {
   "cell_type": "code",
   "execution_count": 476,
   "metadata": {},
   "outputs": [],
   "source": [
    "#Dependencies\n",
    "import tensorflow as tf\n",
    "from tensorflow.python.keras.layers import Input, Dense\n",
    "import keras\n",
    "from keras.models import Sequential\n",
    "from sklearn.model_selection import RepeatedStratifiedKFold"
   ]
  },
  {
   "cell_type": "markdown",
   "metadata": {},
   "source": [
    "### Ensemble methods¶\n",
    "(Sklearn documentation)\n",
    "\n",
    "\n",
    "The goal of ensemble methods is to combine the predictions of several base estimators built with a given learning algorithm in order to improve generalizability / robustness over a single estimator.\n",
    "\n",
    "**Boosting methods**, base estimators are built sequentially and one tries to reduce the bias of the combined estimator. The motivation is to combine several weak models to produce a powerful ensemble.\n",
    "\n",
    "Examples: AdaBoost, Gradient Tree Boosting, …"
   ]
  },
  {
   "cell_type": "code",
   "execution_count": 477,
   "metadata": {},
   "outputs": [
    {
     "data": {
      "text/plain": [
       "SVR()"
      ]
     },
     "execution_count": 477,
     "metadata": {},
     "output_type": "execute_result"
    }
   ],
   "source": [
    "svr = SVR()\n",
    "svr.fit(X_train, y_train)"
   ]
  },
  {
   "cell_type": "code",
   "execution_count": 478,
   "metadata": {},
   "outputs": [
    {
     "data": {
      "text/plain": [
       "GradientBoostingRegressor()"
      ]
     },
     "execution_count": 478,
     "metadata": {},
     "output_type": "execute_result"
    }
   ],
   "source": [
    "clf=GradientBoostingRegressor()\n",
    "clf.fit(X_train,y_train)"
   ]
  },
  {
   "cell_type": "code",
   "execution_count": 479,
   "metadata": {},
   "outputs": [],
   "source": [
    "rf=RandomForestRegressor().fit(X_train, y_train)\n",
    "y_hat_pred=rf.predict(X_test)"
   ]
  },
  {
   "cell_type": "code",
   "execution_count": 480,
   "metadata": {},
   "outputs": [],
   "source": [
    "bg=BaggingRegressor()\n",
    "bg.fit(X_train,y_train)\n",
    "y_hat_bg=bg.predict(X_test)"
   ]
  },
  {
   "cell_type": "code",
   "execution_count": 481,
   "metadata": {},
   "outputs": [],
   "source": [
    "knr=KNeighborsRegressor()\n",
    "knr.fit(X_train,y_train)\n",
    "y_hat_knr=knr.predict(X_test)"
   ]
  },
  {
   "cell_type": "code",
   "execution_count": 509,
   "metadata": {},
   "outputs": [
    {
     "data": {
      "text/plain": [
       "DecisionTreeRegressor()"
      ]
     },
     "execution_count": 509,
     "metadata": {},
     "output_type": "execute_result"
    }
   ],
   "source": [
    "dtr = DecisionTreeRegressor()\n",
    "dtr.fit(X_train,y_train)"
   ]
  },
  {
   "cell_type": "code",
   "execution_count": 511,
   "metadata": {},
   "outputs": [],
   "source": [
    "# get a list of models to evaluate then\n",
    "def get_models():\n",
    "    models = dict()\n",
    "    models['svr'] = SVR()\n",
    "    models['clf'] = GradientBoostingRegressor()\n",
    "    models['rf'] = RandomForestRegressor()\n",
    "    models['bg'] = BaggingRegressor()\n",
    "    models['knr'] = KNeighborsRegressor()\n",
    "    models['dtr']=DecisionTreeRegressor()\n",
    "    return models"
   ]
  },
  {
   "cell_type": "markdown",
   "metadata": {},
   "source": [
    "### k-Fold Cross Validation"
   ]
  },
  {
   "cell_type": "markdown",
   "metadata": {},
   "source": [
    "This technique requires more sophistication on estimative of data. k-Fold Cross validations systematically split up the train data into k-folds, fits the model on k-1 folds, evaluated it on the held-out fold, and repeats this process in each fold. Thus k different models have k several predictions and k different skills scores."
   ]
  },
  {
   "cell_type": "code",
   "execution_count": 512,
   "metadata": {},
   "outputs": [
    {
     "name": "stdout",
     "output_type": "stream",
     "text": [
      "Evaluate metric(s) by cross-validation and also record fit/score times for each k fold\n",
      "SVR scores [-285053.7804739  -271777.39365708 -251562.52816508]\n",
      "clf scores [-23127.62314637 -26889.98805314 -21472.75325947]\n",
      "rf scores [-20247.38653756 -21432.37727796 -18425.05228555]\n",
      "bg scores [-21725.19426617 -23796.19331258 -21042.40886675]\n",
      "knr scores [-22677.7500995  -29581.65135741 -25886.90211706]\n",
      "dtr scores [-36117.64054726 -42822.97384807 -34854.08094645]\n"
     ]
    }
   ],
   "source": [
    "#Evaluate metric(s) by cross-validation and also record fit/score times (cv =k)\n",
    "print(\"Evaluate metric(s) by cross-validation and also record fit/score times for each k fold\")\n",
    "\n",
    "scores = cross_validate(svr, X_train,y_train,cv=3,\n",
    "                        scoring=('r2', 'neg_mean_squared_error'),\n",
    "                        return_train_score=True)\n",
    "print(\"SVR scores\",scores['test_neg_mean_squared_error'])\n",
    "\n",
    "scores = cross_validate(clf, X_train,y_train, cv=3,\n",
    "                        scoring=('r2', 'neg_mean_squared_error'),\n",
    "                        return_train_score=True)\n",
    "print(\"clf scores\", scores['test_neg_mean_squared_error'])\n",
    "\n",
    "scores = cross_validate(rf, X_train,y_train, cv=3,\n",
    "                        scoring=('r2', 'neg_mean_squared_error'),\n",
    "                        return_train_score=True)\n",
    "print(\"rf scores\",scores['test_neg_mean_squared_error'])\n",
    "\n",
    "scores = cross_validate(bg, X_train,y_train, cv=3,\n",
    "                        scoring=('r2', 'neg_mean_squared_error'),\n",
    "                        return_train_score=True)\n",
    "print(\"bg scores\",scores['test_neg_mean_squared_error'])\n",
    "\n",
    "scores = cross_validate(knr, X_train,y_train, cv=3,\n",
    "                        scoring=('r2', 'neg_mean_squared_error'),\n",
    "                        return_train_score=True)\n",
    "print(\"knr scores\",scores['test_neg_mean_squared_error'])\n",
    "scores = cross_validate(dtr, X_train,y_train, cv=3,\n",
    "                        scoring=('r2', 'neg_mean_squared_error'),\n",
    "                        return_train_score=True)\n",
    "print(\"dtr scores\",scores['test_neg_mean_squared_error'])"
   ]
  },
  {
   "cell_type": "code",
   "execution_count": 513,
   "metadata": {},
   "outputs": [
    {
     "data": {
      "text/plain": [
       "DecisionTreeRegressor()"
      ]
     },
     "execution_count": 513,
     "metadata": {},
     "output_type": "execute_result"
    }
   ],
   "source": [
    "svr.fit( X_train,y_train)\n",
    "clf.fit( X_train,y_train)\n",
    "rf.fit( X_train,y_train)\n",
    "knr.fit(X_train,y_train)\n",
    "bg.fit(X_train,y_train)\n",
    "dtr.fit(X_train,y_train)"
   ]
  },
  {
   "cell_type": "code",
   "execution_count": 514,
   "metadata": {},
   "outputs": [
    {
     "data": {
      "text/plain": [
       "VotingRegressor(estimators=[('svr', SVR()),\n",
       "                            ('clf', GradientBoostingRegressor()),\n",
       "                            ('rf', RandomForestRegressor()),\n",
       "                            ('bg', BaggingRegressor()),\n",
       "                            ('knr', KNeighborsRegressor()),\n",
       "                            ('dtr', DecisionTreeRegressor())])"
      ]
     },
     "execution_count": 514,
     "metadata": {},
     "output_type": "execute_result"
    }
   ],
   "source": [
    "ereg = VotingRegressor([('svr', svr), ('clf', clf), ('rf', rf),('bg',bg),('knr',knr),('dtr',dtr)])\n",
    "ereg.fit(X_train,y_train)"
   ]
  },
  {
   "cell_type": "code",
   "execution_count": 515,
   "metadata": {},
   "outputs": [
    {
     "data": {
      "image/png": "[encoded data removed]",
      "text/plain": [
       "<Figure size 792x576 with 1 Axes>"
      ]
     },
     "metadata": {
      "needs_background": "light"
     },
     "output_type": "display_data"
    }
   ],
   "source": [
    "xt = X_test[:50]\n",
    "\n",
    "pred1 = svr.predict(xt)\n",
    "pred2 = clf.predict(xt)\n",
    "pred3 = rf.predict(xt)\n",
    "pred4 = bg.predict(xt)\n",
    "pred5 = knr.predict(xt)\n",
    "pred6 = dtr.predict(xt)\n",
    "pred7 = ereg.predict(xt)\n",
    "\n",
    "plt.figure(figsize=(11,8))\n",
    "plt.plot(pred1, 'gd', label='SVR')\n",
    "plt.plot(pred2, 'b^', label='CLF')\n",
    "plt.plot(pred3, 'ys', label='RF')\n",
    "plt.plot(pred4, 'b.', label='BG')\n",
    "plt.plot(pred5, 'go', label='KNR')\n",
    "plt.plot(pred6, 'y*', label='DTR')\n",
    "plt.plot(pred7, 'r*', ms=15, label='VotingRegressor')\n",
    "\n",
    "plt.tick_params(axis='x', which='both', bottom=False, top=False,\n",
    "                labelbottom=False)\n",
    "fontsize = 20\n",
    "fontweight = 'bold'\n",
    "fontproperties = {'weight' : fontweight, 'size' : fontsize}\n",
    "plt.ylabel('Predicted', fontproperties)\n",
    "plt.xlabel('Training samples', fontproperties)\n",
    "legend_properties = {'weight':'bold'}\n",
    "plt.legend(loc=\"best\",prop=legend_properties)\n",
    "plt.title('Regressor predictions and their average', fontproperties)\n",
    "plt.savefig('Regressor_predictions_their_average.png')\n",
    "plt.show()"
   ]
  },
  {
   "cell_type": "code",
   "execution_count": null,
   "metadata": {},
   "outputs": [],
   "source": []
  },
  {
   "cell_type": "markdown",
   "metadata": {},
   "source": [
    "### Implementing Stacking Generalization \n",
    "\n",
    "\"Stacked generalization is a method for combining estimators to reduce their biases. More precisely, the predictions of each individual estimator are stacked together and used as input to a final estimator to compute the prediction. This final estimator is trained through cross-validation.\n",
    "\n",
    "The StackingClassifier and StackingRegressor provide such strategies which can be applied to classification and regression problems.\"\n",
    "[Sklearn documentation](https://scikit-learn.org/stable/modules/ensemble.html)"
   ]
  },
  {
   "cell_type": "markdown",
   "metadata": {},
   "source": [
    ">The architecture of a stacking model involves two or more base models, often referred to as level-0 models, and a meta-model that combines the predictions of the base models, referred to as a level-1 model.\n",
    ">\n",
    ">1. Level-0 Models (**Base-Models**): Models fit on the training data and whose predictions >are compiled.\n",
    ">2. Level-1 Model (**Meta-Model**): Model that learns how to best combine the predictions of the base models.\n",
    ">\n",
    ">The meta-model is trained on the predictions made by base models on out-of-sample data. That is, data not used to train the base models is fed to the base models, predictions >are made, and these predictions, along with the expected outputs, provide the input and output pairs of the training dataset used to fit the meta-model.\n",
    ">\n",
    ">The outputs from the base models used as input to the meta-model may be real value in the case of regression, and probability values, probability like values, or class labels in >the case of classification.\n",
    ">[Textual Reference](https://machinelearningmastery.com/stacking-ensemble-machine-learning-with-python/)"
   ]
  },
  {
   "cell_type": "code",
   "execution_count": 488,
   "metadata": {},
   "outputs": [],
   "source": [
    "from sklearn.base import TransformerMixin\n",
    "from sklearn.datasets import make_regression\n",
    "from sklearn.pipeline import Pipeline, FeatureUnion\n",
    "from sklearn.model_selection import train_test_split\n",
    "from sklearn.ensemble import RandomForestRegressor\n",
    "from sklearn.neighbors import KNeighborsRegressor\n",
    "from sklearn.svm import SVR\n",
    "from sklearn.preprocessing import StandardScaler, PolynomialFeatures\n",
    "from sklearn.linear_model import LinearRegression, Ridge\n"
   ]
  },
  {
   "cell_type": "code",
   "execution_count": 520,
   "metadata": {},
   "outputs": [],
   "source": [
    "class SVRTransformer(SVR, TransformerMixin):\n",
    "\n",
    "    def transform(self, X, *_):\n",
    "        return self.predict(X).reshape(len(X), -1)\n",
    "\n",
    "\n",
    "class GradientBoostingRegressorTransformer(GradientBoostingRegressor, TransformerMixin):\n",
    "\n",
    "    def transform(self, X, *_):\n",
    "        return self.predict(X).reshape(len(X), -1)\n",
    "\n",
    "\n",
    "class BaggingRegressorTransformer(BaggingRegressor, TransformerMixin):\n",
    "\n",
    "    def transform(self, X, *_):\n",
    "        return self.predict(X).reshape(len(X), -1)\n",
    "    \n",
    "class RandomForestRegressorTransformer(RandomForestRegressor, TransformerMixin):\n",
    "\n",
    "    def transform(self, X, *_):\n",
    "        return self.predict(X).reshape(len(X), -1)\n",
    "    \n",
    "class KNeighborsTransformerTransformer(KNeighborsRegressor, TransformerMixin):\n",
    "\n",
    "    def transform(self, X, *_):\n",
    "        return self.predict(X).reshape(len(X), -1)\n",
    "\n",
    "class DecisionTreeRegressorTransformer(DecisionTreeRegressor, TransformerMixin):\n",
    "\n",
    "    def transform(self, X, *_):\n",
    "        return self.predict(X).reshape(len(X), -1)\n",
    "    \n",
    "class RidgeTransformer(Ridge, TransformerMixin):\n",
    "\n",
    "    def transform(self, X, *_):\n",
    "        return self.predict(X).reshape(len(X), -1)"
   ]
  },
  {
   "cell_type": "code",
   "execution_count": 521,
   "metadata": {},
   "outputs": [],
   "source": [
    "def build_model(): \n",
    "    ridge_transformer = Pipeline(steps=[         #Level-1 Model (Meta-Model)\n",
    "        ('scaler', StandardScaler()),\n",
    "        ('poly_feats', PolynomialFeatures()),\n",
    "        ('ridge', RidgeTransformer())\n",
    "    ])\n",
    "#Level-0 Model (Base-Model)\n",
    "\n",
    "    pred_union = FeatureUnion(\n",
    "        transformer_list=[\n",
    "            ('svr', SVRTransformer()),\n",
    "            ('clf',GradientBoostingRegressorTransformer()),\n",
    "            ('bg',BaggingRegressorTransformer()),\n",
    "            ('rf', RandomForestRegressorTransformer()),\n",
    "            ('knr', KNeighborsTransformerTransformer()),\n",
    "            ('dtr',DecisionTreeRegressorTransformer())\n",
    "        ],\n",
    "        n_jobs=8\n",
    "    )\n",
    "\n",
    "    model = Pipeline(steps=[\n",
    "        ('pred_union', pred_union),\n",
    "        ('lin_regr', LinearRegression())])\n",
    "\n",
    "    return model"
   ]
  },
  {
   "cell_type": "code",
   "execution_count": 522,
   "metadata": {},
   "outputs": [
    {
     "name": "stdout",
     "output_type": "stream",
     "text": [
      "Build and fit a model...\n"
     ]
    },
    {
     "data": {
      "text/plain": [
       "Pipeline(steps=[('pred_union',\n",
       "                 FeatureUnion(n_jobs=8,\n",
       "                              transformer_list=[('svr', SVRTransformer()),\n",
       "                                                ('clf',\n",
       "                                                 GradientBoostingRegressorTransformer()),\n",
       "                                                ('bg',\n",
       "                                                 BaggingRegressorTransformer()),\n",
       "                                                ('rf',\n",
       "                                                 RandomForestRegressorTransformer()),\n",
       "                                                ('knr',\n",
       "                                                 KNeighborsTransformerTransformer()),\n",
       "                                                ('dtr',\n",
       "                                                 DecisionTreeRegressorTransformer())])),\n",
       "                ('lin_regr', LinearRegression())])"
      ]
     },
     "execution_count": 522,
     "metadata": {},
     "output_type": "execute_result"
    }
   ],
   "source": [
    "print('Build and fit a model...')\n",
    "\n",
    "model = build_model()\n",
    "model.fit(X_train, y_train)"
   ]
  },
  {
   "cell_type": "code",
   "execution_count": 523,
   "metadata": {},
   "outputs": [],
   "source": [
    "# evaluate a given model using cross-validation\n",
    "def evaluate_model(model):\n",
    "    cv = RepeatedKFold(n_splits=10, n_repeats=3, random_state=1)\n",
    "    scores = cross_val_score(model, X, y, scoring='neg_mean_absolute_error', cv=cv, n_jobs=-1, error_score='raise')\n",
    "    return scores"
   ]
  },
  {
   "cell_type": "code",
   "execution_count": 524,
   "metadata": {},
   "outputs": [
    {
     "name": "stdout",
     "output_type": "stream",
     "text": [
      "['svr', 'clf', 'rf', 'bg', 'knr', 'dtr'] the standard deviation is 0.16622765675653037\n",
      "['svr', 'clf', 'rf', 'bg', 'knr', 'dtr'] the means is -2.2783494745815074\n"
     ]
    }
   ],
   "source": [
    "# get the models to evaluate\n",
    "models = get_models()\n",
    "# evaluate the models and store results\n",
    "results, names = list(), list()\n",
    "\n",
    "for name, model in models.items():\n",
    "    scores = evaluate_model(model)\n",
    "    results.append(scores)\n",
    "    names.append(name)\n",
    "print(names,\"the standard deviation is\",std(scores))\n",
    "print(names,\"the means is\",mean(scores))"
   ]
  },
  {
   "cell_type": "code",
   "execution_count": 525,
   "metadata": {},
   "outputs": [
    {
     "data": {
      "image/png": "[encoded data removed]",
      "text/plain": [
       "<Figure size 792x576 with 1 Axes>"
      ]
     },
     "metadata": {
      "needs_background": "light"
     },
     "output_type": "display_data"
    }
   ],
   "source": [
    "# plot model performance for comparison\n",
    "plt.figure(figsize=(11,8))\n",
    "pyplot.boxplot(results, labels=names, showmeans=True)\n",
    "plt.title(\"Box Plot Model Negative Mean Absolute Error for Regression\",fontweight='bold')\n",
    "plt.savefig(\"boxplot_perform_comp_stacking.png\")\n",
    "pyplot.show()"
   ]
  },
  {
   "cell_type": "code",
   "execution_count": null,
   "metadata": {},
   "outputs": [],
   "source": []
  },
  {
   "cell_type": "code",
   "execution_count": 541,
   "metadata": {},
   "outputs": [
    {
     "name": "stdout",
     "output_type": "stream",
     "text": [
      "Done. R2 Score: 0.97\n"
     ]
    }
   ],
   "source": [
    "score_stack_train = ereg.score(X_train, y_train) \n",
    "score_stack_test = ereg.score(X_test, y_test)\n",
    "\n",
    "y_pred_test=ereg.predict(X_test)\n",
    "y_pred_train=ereg.predict(X_train)\n",
    "\n",
    "print('Done. R2 Score: {:.2f}'.format( score_stack_train))"
   ]
  },
  {
   "cell_type": "code",
   "execution_count": 542,
   "metadata": {},
   "outputs": [],
   "source": [
    "#coming back to dataframe\n",
    "y_pred_train=pd.DataFrame(y_pred_train)\n",
    "y_test=pd.DataFrame(y_test)"
   ]
  },
  {
   "cell_type": "code",
   "execution_count": 543,
   "metadata": {},
   "outputs": [
    {
     "data": {
      "text/html": [
       "<div>\n",
       "<style scoped>\n",
       "    .dataframe tbody tr th:only-of-type {\n",
       "        vertical-align: middle;\n",
       "    }\n",
       "\n",
       "    .dataframe tbody tr th {\n",
       "        vertical-align: top;\n",
       "    }\n",
       "\n",
       "    .dataframe thead th {\n",
       "        text-align: right;\n",
       "    }\n",
       "</style>\n",
       "<table border=\"1\" class=\"dataframe\">\n",
       "  <thead>\n",
       "    <tr style=\"text-align: right;\">\n",
       "      <th></th>\n",
       "      <th>DT</th>\n",
       "    </tr>\n",
       "  </thead>\n",
       "  <tbody>\n",
       "    <tr>\n",
       "      <th>0</th>\n",
       "      <td>942.496442</td>\n",
       "    </tr>\n",
       "    <tr>\n",
       "      <th>1</th>\n",
       "      <td>1469.771653</td>\n",
       "    </tr>\n",
       "    <tr>\n",
       "      <th>2</th>\n",
       "      <td>327.457425</td>\n",
       "    </tr>\n",
       "    <tr>\n",
       "      <th>3</th>\n",
       "      <td>947.242674</td>\n",
       "    </tr>\n",
       "    <tr>\n",
       "      <th>4</th>\n",
       "      <td>1799.026868</td>\n",
       "    </tr>\n",
       "    <tr>\n",
       "      <th>5</th>\n",
       "      <td>1899.786691</td>\n",
       "    </tr>\n",
       "    <tr>\n",
       "      <th>6</th>\n",
       "      <td>556.298129</td>\n",
       "    </tr>\n",
       "    <tr>\n",
       "      <th>7</th>\n",
       "      <td>1782.205487</td>\n",
       "    </tr>\n",
       "    <tr>\n",
       "      <th>8</th>\n",
       "      <td>1395.155044</td>\n",
       "    </tr>\n",
       "    <tr>\n",
       "      <th>9</th>\n",
       "      <td>703.218802</td>\n",
       "    </tr>\n",
       "    <tr>\n",
       "      <th>10</th>\n",
       "      <td>573.555805</td>\n",
       "    </tr>\n",
       "    <tr>\n",
       "      <th>11</th>\n",
       "      <td>1291.141031</td>\n",
       "    </tr>\n",
       "    <tr>\n",
       "      <th>12</th>\n",
       "      <td>1697.009453</td>\n",
       "    </tr>\n",
       "    <tr>\n",
       "      <th>13</th>\n",
       "      <td>598.412932</td>\n",
       "    </tr>\n",
       "    <tr>\n",
       "      <th>14</th>\n",
       "      <td>1489.791289</td>\n",
       "    </tr>\n",
       "    <tr>\n",
       "      <th>15</th>\n",
       "      <td>1530.375147</td>\n",
       "    </tr>\n",
       "    <tr>\n",
       "      <th>16</th>\n",
       "      <td>2036.713359</td>\n",
       "    </tr>\n",
       "    <tr>\n",
       "      <th>17</th>\n",
       "      <td>1968.996491</td>\n",
       "    </tr>\n",
       "    <tr>\n",
       "      <th>18</th>\n",
       "      <td>1840.819604</td>\n",
       "    </tr>\n",
       "    <tr>\n",
       "      <th>19</th>\n",
       "      <td>1325.779753</td>\n",
       "    </tr>\n",
       "    <tr>\n",
       "      <th>20</th>\n",
       "      <td>1853.747454</td>\n",
       "    </tr>\n",
       "    <tr>\n",
       "      <th>21</th>\n",
       "      <td>414.826844</td>\n",
       "    </tr>\n",
       "    <tr>\n",
       "      <th>22</th>\n",
       "      <td>955.079284</td>\n",
       "    </tr>\n",
       "    <tr>\n",
       "      <th>23</th>\n",
       "      <td>1434.692559</td>\n",
       "    </tr>\n",
       "    <tr>\n",
       "      <th>24</th>\n",
       "      <td>1105.544397</td>\n",
       "    </tr>\n",
       "    <tr>\n",
       "      <th>25</th>\n",
       "      <td>1037.897507</td>\n",
       "    </tr>\n",
       "    <tr>\n",
       "      <th>26</th>\n",
       "      <td>384.941459</td>\n",
       "    </tr>\n",
       "    <tr>\n",
       "      <th>27</th>\n",
       "      <td>1142.178550</td>\n",
       "    </tr>\n",
       "    <tr>\n",
       "      <th>28</th>\n",
       "      <td>1158.172399</td>\n",
       "    </tr>\n",
       "    <tr>\n",
       "      <th>29</th>\n",
       "      <td>955.836385</td>\n",
       "    </tr>\n",
       "    <tr>\n",
       "      <th>...</th>\n",
       "      <td>...</td>\n",
       "    </tr>\n",
       "    <tr>\n",
       "      <th>2380</th>\n",
       "      <td>1584.200531</td>\n",
       "    </tr>\n",
       "    <tr>\n",
       "      <th>2381</th>\n",
       "      <td>1416.140479</td>\n",
       "    </tr>\n",
       "    <tr>\n",
       "      <th>2382</th>\n",
       "      <td>1324.637564</td>\n",
       "    </tr>\n",
       "    <tr>\n",
       "      <th>2383</th>\n",
       "      <td>1450.892796</td>\n",
       "    </tr>\n",
       "    <tr>\n",
       "      <th>2384</th>\n",
       "      <td>501.842903</td>\n",
       "    </tr>\n",
       "    <tr>\n",
       "      <th>2385</th>\n",
       "      <td>940.090970</td>\n",
       "    </tr>\n",
       "    <tr>\n",
       "      <th>2386</th>\n",
       "      <td>351.842139</td>\n",
       "    </tr>\n",
       "    <tr>\n",
       "      <th>2387</th>\n",
       "      <td>1766.494589</td>\n",
       "    </tr>\n",
       "    <tr>\n",
       "      <th>2388</th>\n",
       "      <td>1272.398782</td>\n",
       "    </tr>\n",
       "    <tr>\n",
       "      <th>2389</th>\n",
       "      <td>532.180200</td>\n",
       "    </tr>\n",
       "    <tr>\n",
       "      <th>2390</th>\n",
       "      <td>974.481577</td>\n",
       "    </tr>\n",
       "    <tr>\n",
       "      <th>2391</th>\n",
       "      <td>1296.631290</td>\n",
       "    </tr>\n",
       "    <tr>\n",
       "      <th>2392</th>\n",
       "      <td>444.058561</td>\n",
       "    </tr>\n",
       "    <tr>\n",
       "      <th>2393</th>\n",
       "      <td>1757.620081</td>\n",
       "    </tr>\n",
       "    <tr>\n",
       "      <th>2394</th>\n",
       "      <td>953.039366</td>\n",
       "    </tr>\n",
       "    <tr>\n",
       "      <th>2395</th>\n",
       "      <td>418.878478</td>\n",
       "    </tr>\n",
       "    <tr>\n",
       "      <th>2396</th>\n",
       "      <td>569.858669</td>\n",
       "    </tr>\n",
       "    <tr>\n",
       "      <th>2397</th>\n",
       "      <td>368.706825</td>\n",
       "    </tr>\n",
       "    <tr>\n",
       "      <th>2398</th>\n",
       "      <td>1171.893115</td>\n",
       "    </tr>\n",
       "    <tr>\n",
       "      <th>2399</th>\n",
       "      <td>1122.654739</td>\n",
       "    </tr>\n",
       "    <tr>\n",
       "      <th>2400</th>\n",
       "      <td>1943.880728</td>\n",
       "    </tr>\n",
       "    <tr>\n",
       "      <th>2401</th>\n",
       "      <td>1540.281647</td>\n",
       "    </tr>\n",
       "    <tr>\n",
       "      <th>2402</th>\n",
       "      <td>758.129635</td>\n",
       "    </tr>\n",
       "    <tr>\n",
       "      <th>2403</th>\n",
       "      <td>1027.679714</td>\n",
       "    </tr>\n",
       "    <tr>\n",
       "      <th>2404</th>\n",
       "      <td>1139.396862</td>\n",
       "    </tr>\n",
       "    <tr>\n",
       "      <th>2405</th>\n",
       "      <td>1526.450517</td>\n",
       "    </tr>\n",
       "    <tr>\n",
       "      <th>2406</th>\n",
       "      <td>509.725408</td>\n",
       "    </tr>\n",
       "    <tr>\n",
       "      <th>2407</th>\n",
       "      <td>1388.484484</td>\n",
       "    </tr>\n",
       "    <tr>\n",
       "      <th>2408</th>\n",
       "      <td>281.853865</td>\n",
       "    </tr>\n",
       "    <tr>\n",
       "      <th>2409</th>\n",
       "      <td>515.148483</td>\n",
       "    </tr>\n",
       "  </tbody>\n",
       "</table>\n",
       "<p>2410 rows × 1 columns</p>\n",
       "</div>"
      ],
      "text/plain": [
       "               DT\n",
       "0      942.496442\n",
       "1     1469.771653\n",
       "2      327.457425\n",
       "3      947.242674\n",
       "4     1799.026868\n",
       "5     1899.786691\n",
       "6      556.298129\n",
       "7     1782.205487\n",
       "8     1395.155044\n",
       "9      703.218802\n",
       "10     573.555805\n",
       "11    1291.141031\n",
       "12    1697.009453\n",
       "13     598.412932\n",
       "14    1489.791289\n",
       "15    1530.375147\n",
       "16    2036.713359\n",
       "17    1968.996491\n",
       "18    1840.819604\n",
       "19    1325.779753\n",
       "20    1853.747454\n",
       "21     414.826844\n",
       "22     955.079284\n",
       "23    1434.692559\n",
       "24    1105.544397\n",
       "25    1037.897507\n",
       "26     384.941459\n",
       "27    1142.178550\n",
       "28    1158.172399\n",
       "29     955.836385\n",
       "...           ...\n",
       "2380  1584.200531\n",
       "2381  1416.140479\n",
       "2382  1324.637564\n",
       "2383  1450.892796\n",
       "2384   501.842903\n",
       "2385   940.090970\n",
       "2386   351.842139\n",
       "2387  1766.494589\n",
       "2388  1272.398782\n",
       "2389   532.180200\n",
       "2390   974.481577\n",
       "2391  1296.631290\n",
       "2392   444.058561\n",
       "2393  1757.620081\n",
       "2394   953.039366\n",
       "2395   418.878478\n",
       "2396   569.858669\n",
       "2397   368.706825\n",
       "2398  1171.893115\n",
       "2399  1122.654739\n",
       "2400  1943.880728\n",
       "2401  1540.281647\n",
       "2402   758.129635\n",
       "2403  1027.679714\n",
       "2404  1139.396862\n",
       "2405  1526.450517\n",
       "2406   509.725408\n",
       "2407  1388.484484\n",
       "2408   281.853865\n",
       "2409   515.148483\n",
       "\n",
       "[2410 rows x 1 columns]"
      ]
     },
     "execution_count": 543,
     "metadata": {},
     "output_type": "execute_result"
    }
   ],
   "source": [
    "y_pred_train.rename(columns={0:\"DT\"})"
   ]
  },
  {
   "cell_type": "code",
   "execution_count": 544,
   "metadata": {},
   "outputs": [],
   "source": [
    "y_pred_train=pd.DataFrame(y_test,index=y_test.index,copy=True)"
   ]
  },
  {
   "cell_type": "code",
   "execution_count": 545,
   "metadata": {},
   "outputs": [
    {
     "name": "stdout",
     "output_type": "stream",
     "text": [
      "            DT\n",
      "3059  0.265197\n",
      "2130  0.380937\n",
      "567   0.600470\n",
      "2101  0.337835\n",
      "2401  0.294903\n",
      "2824  0.172421\n",
      "936   0.406297\n",
      "2943  0.190693\n",
      "2325  0.241239\n",
      "2702  0.157081\n",
      "2262  0.289105\n",
      "2709  0.164973\n",
      "2240  0.058956\n",
      "866   0.273194\n",
      "1428  0.223197\n",
      "3417  0.208901\n",
      "2733  0.196254\n",
      "1760  0.269448\n",
      "308   0.665903\n",
      "1604  0.478552\n",
      "2131  0.365616\n",
      "3040  0.134896\n",
      "3030  0.057512\n",
      "1487  0.176052\n",
      "882   0.399978\n",
      "1593  0.458755\n",
      "1032  0.454225\n",
      "2836  0.165007\n",
      "1043  0.392651\n",
      "1878  0.455743\n",
      "...        ...\n",
      "1972  0.276342\n",
      "1254  0.010905\n",
      "1059  0.488507\n",
      "743   0.530898\n",
      "476   0.757956\n",
      "1499  0.300430\n",
      "3004  0.116010\n",
      "3277  0.176780\n",
      "1327  0.502321\n",
      "762   0.322409\n",
      "988   0.240367\n",
      "977   0.275543\n",
      "1732  0.339187\n",
      "2680  0.146430\n",
      "1127  0.498853\n",
      "271   0.775012\n",
      "2184  0.221635\n",
      "369   0.793916\n",
      "2248  0.367378\n",
      "3232  0.121749\n",
      "3301  0.175437\n",
      "1457  0.431520\n",
      "2509  0.169321\n",
      "672   0.601477\n",
      "2204  0.342070\n",
      "655   0.276438\n",
      "2641  0.135755\n",
      "2151  0.350589\n",
      "700   0.608746\n",
      "1793  0.269224\n",
      "\n",
      "[1034 rows x 1 columns]\n"
     ]
    }
   ],
   "source": [
    "print(y_pred_train)"
   ]
  },
  {
   "cell_type": "code",
   "execution_count": 547,
   "metadata": {},
   "outputs": [
    {
     "data": {
      "image/png": "[encoded data removed]",
      "text/plain": [
       "<Figure size 720x576 with 1 Axes>"
      ]
     },
     "metadata": {
      "needs_background": "light"
     },
     "output_type": "display_data"
    }
   ],
   "source": [
    "import matplotlib.pyplot as plt\n",
    "%matplotlib inline\n",
    "\n",
    "plt.figure(figsize=(10,8))\n",
    "plt.title(\"Velocity prediction\",fontsize=20,fontweight='bold')\n",
    "plt.plot(y_test,'+', markersize=np.sqrt(100.), label='Test') \n",
    "plt.plot(y_pred2,'*',markersize=np.sqrt(14.),label='prediction')\n",
    "plt.xlim(right=4000)\n",
    "\n",
    "plt.ylabel('Depth', fontsize=17)\n",
    "plt.xlabel('Velocity', fontsize=17)\n",
    "\n",
    "plt.legend(fontsize=17)\n",
    "plt.savefig('vel_test_pred_stacked.png')"
   ]
  },
  {
   "cell_type": "code",
   "execution_count": null,
   "metadata": {},
   "outputs": [],
   "source": []
  },
  {
   "cell_type": "markdown",
   "metadata": {},
   "source": [
    "## Deep Neural Network"
   ]
  },
  {
   "cell_type": "markdown",
   "metadata": {},
   "source": [
    "According to  François Chollet in his book Deep Learning with Python, deep learning is defined as:\n",
    "\n",
    "1. Deep learning is a specific subfield of machine learning: a new take on learning representations from data that puts an emphasis on learning successive layers of increasingly meaningful representations.\n",
    "2. How many layers contribute to a model of the data is called the depth of the model. \n",
    "3. Modern deep learning often involves ten or even hundreds of successive layers of representations and they’ve all learned automatically from exposure to train data. Meanwhile, other approaches to machine learning tend to focus on learning only one or two layers of representations of the data; hence,  there’re sometimes called shallow learning."
   ]
  },
  {
   "cell_type": "markdown",
   "metadata": {},
   "source": [
    "Before to construct the DNN it's mister to develop the following steps:\n",
    "\n",
    "1. Preprocess and load data\n",
    "2. Define Model\n",
    "3. Loss and Optimizer\n",
    "4. Tune data\n",
    "5. Fit model\n",
    "6. Evaluate"
   ]
  },
  {
   "cell_type": "markdown",
   "metadata": {},
   "source": [
    "How the DNN is designed?"
   ]
  },
  {
   "cell_type": "markdown",
   "metadata": {},
   "source": [
    "Since each input feature is connected to each neuron in the hidden layer, the total number of connections is the product of the input feature size (m) and the hidden layer size (n). Since each connection is associated with a weight parameter, the number of weight parameters is m x n. Each output neuron is associated with one bias parameter, hence the number of bias parameters is n. The total number of trainable parameters = m x n + n"
   ]
  },
  {
   "cell_type": "markdown",
   "metadata": {},
   "source": [
    "To perform the neural network this Project used Keras library. Keras is open-source designed in Python. Capable to execute under TensorFlow deep neural networks in a fast experimentation focused on being user-friendily, modular and extensible."
   ]
  },
  {
   "cell_type": "markdown",
   "metadata": {},
   "source": [
    "### Evaluate Deep Learning models\n",
    "\n",
    "Let's evaluate using Cross Validation for a multi-layers neural network for the problem. This step is known by **Grid Search**, it's evaluation of different configurations for DNN (deep neural network) model in order to provide the best estimated performance.\n",
    "\n",
    "Using the function KerasClassifier we will pass argumets that will be bundled up and passed on to the fit function called KerasClassifier.\n",
    "\n",
    "After that, the cross validation score will evaluate our model printing the results."
   ]
  },
  {
   "cell_type": "code",
   "execution_count": 563,
   "metadata": {},
   "outputs": [
    {
     "data": {
      "text/html": [
       "<div>\n",
       "<style scoped>\n",
       "    .dataframe tbody tr th:only-of-type {\n",
       "        vertical-align: middle;\n",
       "    }\n",
       "\n",
       "    .dataframe tbody tr th {\n",
       "        vertical-align: top;\n",
       "    }\n",
       "\n",
       "    .dataframe thead th {\n",
       "        text-align: right;\n",
       "    }\n",
       "</style>\n",
       "<table border=\"1\" class=\"dataframe\">\n",
       "  <thead>\n",
       "    <tr style=\"text-align: right;\">\n",
       "      <th></th>\n",
       "      <th>Depth</th>\n",
       "      <th>CALI</th>\n",
       "      <th>DT</th>\n",
       "      <th>GR</th>\n",
       "      <th>NPHI</th>\n",
       "      <th>RHOB</th>\n",
       "      <th>SP</th>\n",
       "      <th>Well</th>\n",
       "    </tr>\n",
       "  </thead>\n",
       "  <tbody>\n",
       "    <tr>\n",
       "      <th>0</th>\n",
       "      <td>1943.1000</td>\n",
       "      <td>8.2527</td>\n",
       "      <td>78.5189</td>\n",
       "      <td>38.6367</td>\n",
       "      <td>0.0913</td>\n",
       "      <td>2.4194</td>\n",
       "      <td>-72.5208</td>\n",
       "      <td>P1</td>\n",
       "    </tr>\n",
       "    <tr>\n",
       "      <th>1</th>\n",
       "      <td>1943.2524</td>\n",
       "      <td>8.2281</td>\n",
       "      <td>80.5339</td>\n",
       "      <td>38.6938</td>\n",
       "      <td>0.1143</td>\n",
       "      <td>2.3749</td>\n",
       "      <td>-71.9375</td>\n",
       "      <td>P1</td>\n",
       "    </tr>\n",
       "    <tr>\n",
       "      <th>2</th>\n",
       "      <td>1943.4048</td>\n",
       "      <td>8.2048</td>\n",
       "      <td>81.0742</td>\n",
       "      <td>38.4738</td>\n",
       "      <td>0.1363</td>\n",
       "      <td>2.3463</td>\n",
       "      <td>-71.5417</td>\n",
       "      <td>P1</td>\n",
       "    </tr>\n",
       "    <tr>\n",
       "      <th>3</th>\n",
       "      <td>1943.5572</td>\n",
       "      <td>8.2054</td>\n",
       "      <td>79.7949</td>\n",
       "      <td>38.8205</td>\n",
       "      <td>0.1543</td>\n",
       "      <td>2.3396</td>\n",
       "      <td>-70.8958</td>\n",
       "      <td>P1</td>\n",
       "    </tr>\n",
       "    <tr>\n",
       "      <th>4</th>\n",
       "      <td>1976.0184</td>\n",
       "      <td>8.6701</td>\n",
       "      <td>81.7513</td>\n",
       "      <td>39.8795</td>\n",
       "      <td>0.1612</td>\n",
       "      <td>2.3118</td>\n",
       "      <td>-68.1667</td>\n",
       "      <td>P1</td>\n",
       "    </tr>\n",
       "  </tbody>\n",
       "</table>\n",
       "</div>"
      ],
      "text/plain": [
       "       Depth    CALI       DT       GR    NPHI    RHOB       SP Well\n",
       "0  1943.1000  8.2527  78.5189  38.6367  0.0913  2.4194 -72.5208   P1\n",
       "1  1943.2524  8.2281  80.5339  38.6938  0.1143  2.3749 -71.9375   P1\n",
       "2  1943.4048  8.2048  81.0742  38.4738  0.1363  2.3463 -71.5417   P1\n",
       "3  1943.5572  8.2054  79.7949  38.8205  0.1543  2.3396 -70.8958   P1\n",
       "4  1976.0184  8.6701  81.7513  39.8795  0.1612  2.3118 -68.1667   P1"
      ]
     },
     "execution_count": 563,
     "metadata": {},
     "output_type": "execute_result"
    }
   ],
   "source": [
    "all_wells_dropped.head() "
   ]
  },
  {
   "cell_type": "code",
   "execution_count": 564,
   "metadata": {},
   "outputs": [],
   "source": [
    "import numpy as np\n",
    "\n",
    "dataset= all_wells_dropped \n",
    "dataset.head()\n",
    "\n",
    "#normalizing the data\n",
    "from sklearn.preprocessing import MinMaxScaler\n",
    "\n",
    "X = dataset.drop(['DT','Well'],axis=1) #it has been normalized\n",
    "y = dataset['DT']"
   ]
  },
  {
   "cell_type": "markdown",
   "metadata": {},
   "source": [
    "Now the data set it's read to train and split"
   ]
  },
  {
   "cell_type": "code",
   "execution_count": 593,
   "metadata": {},
   "outputs": [],
   "source": [
    "X_train2,X_test2,y_train2,y_test2=train_test_split(X,y,test_size=0.3)"
   ]
  },
  {
   "cell_type": "code",
   "execution_count": 594,
   "metadata": {},
   "outputs": [],
   "source": [
    "from keras.models import Sequential\n",
    "from keras.layers import Dense\n",
    "from keras.wrappers.scikit_learn import KerasRegressor\n",
    "from sklearn.model_selection import GridSearchCV\n",
    "from keras.utils import np_utils\n",
    "import keras\n",
    "import tensorflow"
   ]
  },
  {
   "cell_type": "markdown",
   "metadata": {},
   "source": [
    "**create_model()**  function is defined to take two arguments optimizer and init, both of which must have default values. This will allow us to evaluate the effect of using different optimization algorithms and weight initialization schemes for our network"
   ]
  },
  {
   "cell_type": "markdown",
   "metadata": {},
   "source": [
    "Regression neural networks the metrics adopted was **RMSE**.\n",
    "\n",
    "Root Mean Squared Error (RMSE) measures the average magnitude of the error by taking the square root of the average of squared differences between prediction and actual observation."
   ]
  },
  {
   "cell_type": "code",
   "execution_count": 595,
   "metadata": {},
   "outputs": [],
   "source": [
    "# Function to create model, required for KerasClassifier\n",
    "def create_model(optimizer='rmsprop', init='glorot_uniform'):\n",
    "    \n",
    "    # create model\n",
    "    model = Sequential()\n",
    "    model.add(Dense(9, input_dim=6, kernel_initializer='normal', activation='relu'))\n",
    "    model.add(Dense(100, kernel_initializer=init, activation='relu'))\n",
    "    model.add(Dense(1, kernel_initializer=init, activation='linear'))\n",
    "    \n",
    "    # Compile model\n",
    "    model.compile(loss='mae', optimizer=optimizer, metrics=['acc','mean_squared_error'])\n",
    "    return model\n",
    " "
   ]
  },
  {
   "cell_type": "code",
   "execution_count": 596,
   "metadata": {},
   "outputs": [],
   "source": [
    "# create model\n",
    "model = KerasRegressor(build_fn=create_model, verbose=0)\n",
    "\n",
    "# define the grid search parameters\n",
    "optimizers = ['rmsprop', 'adam']\n",
    "init = ['glorot_uniform', 'normal', 'uniform']\n",
    "\n",
    "batch_size = [64]\n",
    "epochs = [100,500]\n",
    "param_grid = dict(optimizer=optimizers,batch_size=batch_size, epochs=epochs, init=init)\n",
    "\n",
    "grid = GridSearchCV(estimator=model, param_grid=param_grid, n_jobs=1, cv=3)\n",
    "grid_result = grid.fit(X_train2, y_train2)"
   ]
  },
  {
   "cell_type": "code",
   "execution_count": 597,
   "metadata": {},
   "outputs": [
    {
     "name": "stdout",
     "output_type": "stream",
     "text": [
      "Best: -4.935424 using {'batch_size': 64, 'epochs': 500, 'init': 'glorot_uniform', 'optimizer': 'adam'}\n",
      "-8.185643 (0.805661) with: {'batch_size': 64, 'epochs': 100, 'init': 'glorot_uniform', 'optimizer': 'rmsprop'}\n",
      "-7.650828 (0.365414) with: {'batch_size': 64, 'epochs': 100, 'init': 'glorot_uniform', 'optimizer': 'adam'}\n",
      "-11.280364 (4.091083) with: {'batch_size': 64, 'epochs': 100, 'init': 'normal', 'optimizer': 'rmsprop'}\n",
      "-7.453739 (0.103954) with: {'batch_size': 64, 'epochs': 100, 'init': 'normal', 'optimizer': 'adam'}\n",
      "-9.017598 (1.494678) with: {'batch_size': 64, 'epochs': 100, 'init': 'uniform', 'optimizer': 'rmsprop'}\n",
      "-7.216012 (0.281105) with: {'batch_size': 64, 'epochs': 100, 'init': 'uniform', 'optimizer': 'adam'}\n",
      "-6.459193 (0.387861) with: {'batch_size': 64, 'epochs': 500, 'init': 'glorot_uniform', 'optimizer': 'rmsprop'}\n",
      "-4.935424 (0.422798) with: {'batch_size': 64, 'epochs': 500, 'init': 'glorot_uniform', 'optimizer': 'adam'}\n",
      "-7.865696 (0.922632) with: {'batch_size': 64, 'epochs': 500, 'init': 'normal', 'optimizer': 'rmsprop'}\n",
      "-5.953878 (0.694426) with: {'batch_size': 64, 'epochs': 500, 'init': 'normal', 'optimizer': 'adam'}\n",
      "-6.900872 (0.725555) with: {'batch_size': 64, 'epochs': 500, 'init': 'uniform', 'optimizer': 'rmsprop'}\n",
      "-5.359283 (0.244097) with: {'batch_size': 64, 'epochs': 500, 'init': 'uniform', 'optimizer': 'adam'}\n"
     ]
    }
   ],
   "source": [
    "# summarize results\n",
    "print(\"Best: %f using %s\" % (grid_result.best_score_, grid_result.best_params_))\n",
    "means = grid_result.cv_results_['mean_test_score']\n",
    "stds = grid_result.cv_results_['std_test_score']\n",
    "params = grid_result.cv_results_['params']\n",
    "for mean, stdev, param in zip(means, stds, params):\n",
    "    print(\"%f (%f) with: %r\" % (mean, stdev, param))"
   ]
  },
  {
   "cell_type": "markdown",
   "metadata": {},
   "source": [
    "Best: -4.821093 using {'batch_size': 64, 'epochs': 500, 'init': 'normal', 'optimizer': 'adam'}"
   ]
  },
  {
   "cell_type": "markdown",
   "metadata": {},
   "source": [
    "The input is 8 values in total but I want to predict only one.... so the DNN will be:"
   ]
  },
  {
   "cell_type": "code",
   "execution_count": 598,
   "metadata": {},
   "outputs": [],
   "source": [
    "optimizer_final='rmsprop'\n",
    "epochs_final=500\n",
    "batch_size_final=64"
   ]
  },
  {
   "cell_type": "code",
   "execution_count": 599,
   "metadata": {},
   "outputs": [],
   "source": [
    "import keras\n",
    "from keras.models import Sequential\n",
    "from keras.layers import Dense\n",
    "\n",
    "model=Sequential()\n",
    "model.add(Dense(200,input_dim=6,activation='relu'))\n",
    "model.add(Dense(500,activation='relu'))\n",
    "model.add(Dense(1,activation='linear'))"
   ]
  },
  {
   "cell_type": "code",
   "execution_count": 600,
   "metadata": {},
   "outputs": [
    {
     "name": "stdout",
     "output_type": "stream",
     "text": [
      "Model: \"sequential_229\"\n",
      "_________________________________________________________________\n",
      "Layer (type)                 Output Shape              Param #   \n",
      "=================================================================\n",
      "dense_682 (Dense)            (None, 200)               1400      \n",
      "_________________________________________________________________\n",
      "dense_683 (Dense)            (None, 500)               100500    \n",
      "_________________________________________________________________\n",
      "dense_684 (Dense)            (None, 1)                 501       \n",
      "=================================================================\n",
      "Total params: 102,401\n",
      "Trainable params: 102,401\n",
      "Non-trainable params: 0\n",
      "_________________________________________________________________\n"
     ]
    }
   ],
   "source": [
    "model.summary()"
   ]
  },
  {
   "cell_type": "code",
   "execution_count": 601,
   "metadata": {},
   "outputs": [],
   "source": [
    "from keras.optimizers import SGD\n",
    "# Compile model\n",
    "epochs = 500\n",
    "learning_rate = 0.01\n",
    "decay_rate = learning_rate / epochs\n",
    "momentum = 0.8\n",
    "sgd = SGD(lr=learning_rate, momentum=momentum, decay=decay_rate, nesterov=False)"
   ]
  },
  {
   "cell_type": "code",
   "execution_count": 602,
   "metadata": {},
   "outputs": [],
   "source": [
    "from keras.utils import to_categorical\n",
    "model.compile(optimizer='adam',loss='mae',metrics=['acc','mean_squared_error'])\n",
    "y_train2=y_train2.squeeze()"
   ]
  },
  {
   "cell_type": "markdown",
   "metadata": {},
   "source": [
    "**Training model**"
   ]
  },
  {
   "cell_type": "code",
   "execution_count": 603,
   "metadata": {},
   "outputs": [
    {
     "name": "stdout",
     "output_type": "stream",
     "text": [
      "Train on 2410 samples, validate on 1034 samples\n",
      "Epoch 1/500\n",
      "2410/2410 [==============================] - 4s 2ms/step - loss: 61.8691 - acc: 0.0000e+00 - mean_squared_error: 5843.8843 - val_loss: 54.2067 - val_acc: 0.0000e+00 - val_mean_squared_error: 4306.4844\n",
      "Epoch 2/500\n",
      "2410/2410 [==============================] - 1s 525us/step - loss: 30.1417 - acc: 0.0000e+00 - mean_squared_error: 1460.8021 - val_loss: 24.4744 - val_acc: 0.0000e+00 - val_mean_squared_error: 870.0527\n",
      "Epoch 3/500\n",
      "2410/2410 [==============================] - 1s 588us/step - loss: 22.7492 - acc: 0.0000e+00 - mean_squared_error: 769.8104 - val_loss: 22.6769 - val_acc: 0.0000e+00 - val_mean_squared_error: 725.3687\n",
      "Epoch 4/500\n",
      "2410/2410 [==============================] - 1s 569us/step - loss: 18.0390 - acc: 0.0000e+00 - mean_squared_error: 489.2648 - val_loss: 15.9670 - val_acc: 0.0000e+00 - val_mean_squared_error: 375.1529\n",
      "Epoch 5/500\n",
      "2410/2410 [==============================] - 1s 511us/step - loss: 17.1138 - acc: 0.0000e+00 - mean_squared_error: 445.1237 - val_loss: 14.0508 - val_acc: 0.0000e+00 - val_mean_squared_error: 285.3261\n",
      "Epoch 6/500\n",
      "2410/2410 [==============================] - 1s 479us/step - loss: 23.2260 - acc: 0.0000e+00 - mean_squared_error: 838.7136 - val_loss: 12.1898 - val_acc: 0.0000e+00 - val_mean_squared_error: 233.5103\n",
      "Epoch 7/500\n",
      "2410/2410 [==============================] - 1s 512us/step - loss: 12.5569 - acc: 4.1494e-04 - mean_squared_error: 242.7800 - val_loss: 10.9059 - val_acc: 9.6712e-04 - val_mean_squared_error: 184.4013\n",
      "Epoch 8/500\n",
      "2410/2410 [==============================] - 1s 576us/step - loss: 15.4584 - acc: 0.0012 - mean_squared_error: 378.1643 - val_loss: 10.2069 - val_acc: 0.0000e+00 - val_mean_squared_error: 162.4908\n",
      "Epoch 9/500\n",
      "2410/2410 [==============================] - 1s 594us/step - loss: 14.4766 - acc: 0.0000e+00 - mean_squared_error: 315.9339 - val_loss: 14.8811 - val_acc: 0.0000e+00 - val_mean_squared_error: 329.2209\n",
      "Epoch 10/500\n",
      "2410/2410 [==============================] - 1s 597us/step - loss: 11.7630 - acc: 8.2988e-04 - mean_squared_error: 214.3455 - val_loss: 8.8587 - val_acc: 0.0000e+00 - val_mean_squared_error: 122.0443\n",
      "Epoch 11/500\n",
      "2410/2410 [==============================] - 1s 538us/step - loss: 12.6596 - acc: 0.0021 - mean_squared_error: 243.8457 - val_loss: 9.2216 - val_acc: 0.0000e+00 - val_mean_squared_error: 134.1193\n",
      "Epoch 12/500\n",
      "2410/2410 [==============================] - 1s 514us/step - loss: 13.8978 - acc: 0.0000e+00 - mean_squared_error: 299.4340 - val_loss: 18.0844 - val_acc: 0.0000e+00 - val_mean_squared_error: 488.5612\n",
      "Epoch 13/500\n",
      "2410/2410 [==============================] - 1s 488us/step - loss: 11.5134 - acc: 0.0000e+00 - mean_squared_error: 204.0321 - val_loss: 8.8063 - val_acc: 0.0000e+00 - val_mean_squared_error: 122.9879\n",
      "Epoch 14/500\n",
      "2410/2410 [==============================] - 1s 466us/step - loss: 13.8661 - acc: 0.0000e+00 - mean_squared_error: 307.8949 - val_loss: 8.0110 - val_acc: 0.0000e+00 - val_mean_squared_error: 103.6919\n",
      "Epoch 15/500\n",
      "2410/2410 [==============================] - 1s 372us/step - loss: 9.2926 - acc: 0.0000e+00 - mean_squared_error: 135.8575 - val_loss: 10.8925 - val_acc: 0.0000e+00 - val_mean_squared_error: 172.7319\n",
      "Epoch 16/500\n",
      "2410/2410 [==============================] - 1s 480us/step - loss: 9.9855 - acc: 8.2988e-04 - mean_squared_error: 160.3338 - val_loss: 8.3722 - val_acc: 0.0000e+00 - val_mean_squared_error: 109.0561\n",
      "Epoch 17/500\n",
      "2410/2410 [==============================] - 1s 589us/step - loss: 10.3908 - acc: 0.0012 - mean_squared_error: 171.2790 - val_loss: 8.0535 - val_acc: 0.0000e+00 - val_mean_squared_error: 101.1721\n",
      "Epoch 18/500\n",
      "2410/2410 [==============================] - 1s 510us/step - loss: 11.9131 - acc: 0.0000e+00 - mean_squared_error: 231.7956 - val_loss: 10.2943 - val_acc: 0.0000e+00 - val_mean_squared_error: 165.7581\n",
      "Epoch 19/500\n",
      "2410/2410 [==============================] - 1s 609us/step - loss: 9.7563 - acc: 0.0017 - mean_squared_error: 149.2755 - val_loss: 11.2011 - val_acc: 0.0000e+00 - val_mean_squared_error: 195.1407\n",
      "Epoch 20/500\n",
      "2410/2410 [==============================] - 1s 495us/step - loss: 11.0508 - acc: 4.1494e-04 - mean_squared_error: 190.2913 - val_loss: 10.4807 - val_acc: 0.0000e+00 - val_mean_squared_error: 168.8834\n",
      "Epoch 21/500\n",
      "2410/2410 [==============================] - 1s 527us/step - loss: 12.6497 - acc: 8.2988e-04 - mean_squared_error: 243.9293 - val_loss: 7.7799 - val_acc: 0.0000e+00 - val_mean_squared_error: 93.7791\n",
      "Epoch 22/500\n",
      "2410/2410 [==============================] - 1s 517us/step - loss: 10.4540 - acc: 0.0021 - mean_squared_error: 167.1736 - val_loss: 12.1019 - val_acc: 0.0000e+00 - val_mean_squared_error: 225.9032\n",
      "Epoch 23/500\n",
      "2410/2410 [==============================] - 1s 428us/step - loss: 10.2943 - acc: 4.1494e-04 - mean_squared_error: 165.3440 - val_loss: 7.8655 - val_acc: 0.0000e+00 - val_mean_squared_error: 95.6926\n",
      "Epoch 24/500\n",
      "2410/2410 [==============================] - 1s 458us/step - loss: 9.4143 - acc: 4.1494e-04 - mean_squared_error: 138.3077 - val_loss: 7.8534 - val_acc: 0.0000e+00 - val_mean_squared_error: 100.8307\n",
      "Epoch 25/500\n",
      "2410/2410 [==============================] - 1s 405us/step - loss: 14.6630 - acc: 0.0000e+00 - mean_squared_error: 360.8416 - val_loss: 9.1941 - val_acc: 9.6712e-04 - val_mean_squared_error: 130.7773\n",
      "Epoch 26/500\n",
      "2410/2410 [==============================] - 1s 528us/step - loss: 11.1464 - acc: 0.0000e+00 - mean_squared_error: 189.9274 - val_loss: 10.6756 - val_acc: 0.0000e+00 - val_mean_squared_error: 162.7954\n",
      "Epoch 27/500\n",
      "2410/2410 [==============================] - 1s 475us/step - loss: 9.5400 - acc: 8.2988e-04 - mean_squared_error: 146.8219 - val_loss: 11.8431 - val_acc: 0.0000e+00 - val_mean_squared_error: 214.1378\n",
      "Epoch 28/500\n",
      "2410/2410 [==============================] - 1s 454us/step - loss: 13.7673 - acc: 4.1494e-04 - mean_squared_error: 302.6650 - val_loss: 11.8326 - val_acc: 0.0000e+00 - val_mean_squared_error: 212.4163\n",
      "Epoch 29/500\n",
      "2410/2410 [==============================] - 1s 519us/step - loss: 10.4675 - acc: 0.0000e+00 - mean_squared_error: 171.7198 - val_loss: 10.5503 - val_acc: 0.0000e+00 - val_mean_squared_error: 173.1395\n",
      "Epoch 30/500\n",
      "2410/2410 [==============================] - 1s 581us/step - loss: 12.8642 - acc: 0.0000e+00 - mean_squared_error: 259.7905 - val_loss: 11.3621 - val_acc: 0.0000e+00 - val_mean_squared_error: 180.6491\n",
      "Epoch 31/500\n",
      "2410/2410 [==============================] - 1s 477us/step - loss: 10.7191 - acc: 8.2988e-04 - mean_squared_error: 181.4455 - val_loss: 7.5633 - val_acc: 0.0000e+00 - val_mean_squared_error: 89.4069\n",
      "Epoch 32/500\n",
      "2410/2410 [==============================] - 1s 457us/step - loss: 8.4254 - acc: 8.2988e-04 - mean_squared_error: 113.6782 - val_loss: 8.5551 - val_acc: 9.6712e-04 - val_mean_squared_error: 111.0172\n",
      "Epoch 33/500\n",
      "2410/2410 [==============================] - 1s 484us/step - loss: 9.0458 - acc: 4.1494e-04 - mean_squared_error: 128.6888 - val_loss: 8.0702 - val_acc: 9.6712e-04 - val_mean_squared_error: 103.9353\n",
      "Epoch 34/500\n",
      "2410/2410 [==============================] - 1s 586us/step - loss: 8.5942 - acc: 0.0012 - mean_squared_error: 119.0609 - val_loss: 7.2027 - val_acc: 0.0000e+00 - val_mean_squared_error: 82.3613\n",
      "Epoch 35/500\n",
      "2410/2410 [==============================] - 1s 558us/step - loss: 9.9144 - acc: 0.0000e+00 - mean_squared_error: 149.8130 - val_loss: 8.4006 - val_acc: 9.6712e-04 - val_mean_squared_error: 110.2768\n",
      "Epoch 36/500\n",
      "2410/2410 [==============================] - 2s 694us/step - loss: 8.1533 - acc: 8.2988e-04 - mean_squared_error: 107.1835 - val_loss: 7.6682 - val_acc: 0.0000e+00 - val_mean_squared_error: 91.3013\n",
      "Epoch 37/500\n",
      "2410/2410 [==============================] - 1s 459us/step - loss: 8.6339 - acc: 8.2988e-04 - mean_squared_error: 117.2292 - val_loss: 7.1775 - val_acc: 0.0000e+00 - val_mean_squared_error: 83.6097\n",
      "Epoch 38/500\n",
      "2410/2410 [==============================] - 1s 491us/step - loss: 8.9701 - acc: 0.0000e+00 - mean_squared_error: 127.9588 - val_loss: 8.4739 - val_acc: 0.0000e+00 - val_mean_squared_error: 113.1465\n",
      "Epoch 39/500\n"
     ]
    },
    {
     "name": "stdout",
     "output_type": "stream",
     "text": [
      "2410/2410 [==============================] - 1s 510us/step - loss: 9.7270 - acc: 4.1494e-04 - mean_squared_error: 148.2891 - val_loss: 8.2596 - val_acc: 9.6712e-04 - val_mean_squared_error: 108.7358\n",
      "Epoch 40/500\n",
      "2410/2410 [==============================] - 1s 432us/step - loss: 8.3739 - acc: 8.2988e-04 - mean_squared_error: 112.5621 - val_loss: 8.2575 - val_acc: 9.6712e-04 - val_mean_squared_error: 108.2395\n",
      "Epoch 41/500\n",
      "2410/2410 [==============================] - 1s 484us/step - loss: 8.6327 - acc: 8.2988e-04 - mean_squared_error: 117.0830 - val_loss: 7.5757 - val_acc: 9.6712e-04 - val_mean_squared_error: 93.3112\n",
      "Epoch 42/500\n",
      "2410/2410 [==============================] - 1s 498us/step - loss: 9.2310 - acc: 0.0000e+00 - mean_squared_error: 133.0715 - val_loss: 7.1256 - val_acc: 0.0000e+00 - val_mean_squared_error: 79.3964\n",
      "Epoch 43/500\n",
      "2410/2410 [==============================] - 1s 448us/step - loss: 8.7498 - acc: 4.1494e-04 - mean_squared_error: 120.8508 - val_loss: 7.0062 - val_acc: 0.0000e+00 - val_mean_squared_error: 78.9218\n",
      "Epoch 44/500\n",
      "2410/2410 [==============================] - 1s 474us/step - loss: 8.7982 - acc: 8.2988e-04 - mean_squared_error: 124.4194 - val_loss: 8.8323 - val_acc: 9.6712e-04 - val_mean_squared_error: 115.5346\n",
      "Epoch 45/500\n",
      "2410/2410 [==============================] - 1s 482us/step - loss: 9.8333 - acc: 0.0000e+00 - mean_squared_error: 149.6639 - val_loss: 7.1316 - val_acc: 0.0000e+00 - val_mean_squared_error: 80.3849\n",
      "Epoch 46/500\n",
      "2410/2410 [==============================] - 1s 585us/step - loss: 8.7696 - acc: 0.0012 - mean_squared_error: 121.8776 - val_loss: 7.9819 - val_acc: 0.0000e+00 - val_mean_squared_error: 97.4689\n",
      "Epoch 47/500\n",
      "2410/2410 [==============================] - 1s 572us/step - loss: 8.4985 - acc: 4.1494e-04 - mean_squared_error: 114.5388 - val_loss: 7.5266 - val_acc: 0.0000e+00 - val_mean_squared_error: 87.5578\n",
      "Epoch 48/500\n",
      "2410/2410 [==============================] - 1s 561us/step - loss: 7.8673 - acc: 4.1494e-04 - mean_squared_error: 101.4905 - val_loss: 7.0394 - val_acc: 0.0000e+00 - val_mean_squared_error: 81.5082\n",
      "Epoch 49/500\n",
      "2410/2410 [==============================] - 1s 482us/step - loss: 8.5194 - acc: 0.0017 - mean_squared_error: 116.2078 - val_loss: 11.2422 - val_acc: 0.0000e+00 - val_mean_squared_error: 177.4818\n",
      "Epoch 50/500\n",
      "2410/2410 [==============================] - 1s 518us/step - loss: 9.4636 - acc: 8.2988e-04 - mean_squared_error: 141.4090 - val_loss: 8.7989 - val_acc: 0.0000e+00 - val_mean_squared_error: 120.5315\n",
      "Epoch 51/500\n",
      "2410/2410 [==============================] - 2s 658us/step - loss: 8.0115 - acc: 4.1494e-04 - mean_squared_error: 102.9226 - val_loss: 7.8262 - val_acc: 9.6712e-04 - val_mean_squared_error: 99.4940\n",
      "Epoch 52/500\n",
      "2410/2410 [==============================] - 1s 492us/step - loss: 9.2570 - acc: 0.0000e+00 - mean_squared_error: 135.4286 - val_loss: 7.3210 - val_acc: 0.0000e+00 - val_mean_squared_error: 81.9163\n",
      "Epoch 53/500\n",
      "2410/2410 [==============================] - 1s 481us/step - loss: 8.7252 - acc: 0.0017 - mean_squared_error: 121.6772 - val_loss: 7.2490 - val_acc: 0.0000e+00 - val_mean_squared_error: 81.1119\n",
      "Epoch 54/500\n",
      "2410/2410 [==============================] - 1s 497us/step - loss: 8.7584 - acc: 8.2988e-04 - mean_squared_error: 124.8396 - val_loss: 9.5372 - val_acc: 0.0000e+00 - val_mean_squared_error: 132.6013\n",
      "Epoch 55/500\n",
      "2410/2410 [==============================] - 1s 419us/step - loss: 9.9419 - acc: 0.0000e+00 - mean_squared_error: 156.7394 - val_loss: 7.2464 - val_acc: 0.0019 - val_mean_squared_error: 86.4392\n",
      "Epoch 56/500\n",
      "2410/2410 [==============================] - 1s 575us/step - loss: 9.6972 - acc: 0.0000e+00 - mean_squared_error: 149.5011 - val_loss: 6.9291 - val_acc: 0.0000e+00 - val_mean_squared_error: 75.3678\n",
      "Epoch 57/500\n",
      "2410/2410 [==============================] - 1s 476us/step - loss: 7.6574 - acc: 4.1494e-04 - mean_squared_error: 94.6280 - val_loss: 7.0456 - val_acc: 0.0000e+00 - val_mean_squared_error: 77.4824\n",
      "Epoch 58/500\n",
      "2410/2410 [==============================] - 1s 464us/step - loss: 7.9543 - acc: 0.0000e+00 - mean_squared_error: 100.8526 - val_loss: 6.7503 - val_acc: 0.0000e+00 - val_mean_squared_error: 74.5642\n",
      "Epoch 59/500\n",
      "2410/2410 [==============================] - 1s 508us/step - loss: 7.9449 - acc: 0.0000e+00 - mean_squared_error: 102.5494 - val_loss: 8.4665 - val_acc: 0.0000e+00 - val_mean_squared_error: 113.6571\n",
      "Epoch 60/500\n",
      "2410/2410 [==============================] - 1s 399us/step - loss: 8.1752 - acc: 0.0000e+00 - mean_squared_error: 107.3375 - val_loss: 9.7937 - val_acc: 0.0000e+00 - val_mean_squared_error: 139.2536\n",
      "Epoch 61/500\n",
      "2410/2410 [==============================] - 1s 596us/step - loss: 10.2651 - acc: 4.1494e-04 - mean_squared_error: 170.4956 - val_loss: 7.1345 - val_acc: 0.0000e+00 - val_mean_squared_error: 79.8936\n",
      "Epoch 62/500\n",
      "2410/2410 [==============================] - 1s 526us/step - loss: 8.7731 - acc: 0.0000e+00 - mean_squared_error: 120.5013 - val_loss: 6.7623 - val_acc: 0.0000e+00 - val_mean_squared_error: 71.8750\n",
      "Epoch 63/500\n",
      "2410/2410 [==============================] - 1s 534us/step - loss: 9.2869 - acc: 0.0000e+00 - mean_squared_error: 135.7466 - val_loss: 6.9390 - val_acc: 9.6712e-04 - val_mean_squared_error: 78.6033\n",
      "Epoch 64/500\n",
      "2410/2410 [==============================] - 1s 470us/step - loss: 7.9529 - acc: 0.0000e+00 - mean_squared_error: 101.3216 - val_loss: 7.5128 - val_acc: 0.0019 - val_mean_squared_error: 90.2596\n",
      "Epoch 65/500\n",
      "2410/2410 [==============================] - 1s 494us/step - loss: 8.1693 - acc: 4.1494e-04 - mean_squared_error: 106.4529 - val_loss: 7.1074 - val_acc: 9.6712e-04 - val_mean_squared_error: 82.7562\n",
      "Epoch 66/500\n",
      "2410/2410 [==============================] - 1s 464us/step - loss: 8.3260 - acc: 0.0021 - mean_squared_error: 109.7397 - val_loss: 9.9786 - val_acc: 0.0000e+00 - val_mean_squared_error: 152.3203\n",
      "Epoch 67/500\n",
      "2410/2410 [==============================] - 1s 375us/step - loss: 9.7033 - acc: 0.0000e+00 - mean_squared_error: 147.7814 - val_loss: 8.8207 - val_acc: 0.0135 - val_mean_squared_error: 115.7915\n",
      "Epoch 68/500\n",
      "2410/2410 [==============================] - 1s 538us/step - loss: 8.5372 - acc: 0.0012 - mean_squared_error: 114.2507 - val_loss: 7.6017 - val_acc: 9.6712e-04 - val_mean_squared_error: 88.6801\n",
      "Epoch 69/500\n",
      "2410/2410 [==============================] - 1s 515us/step - loss: 8.2151 - acc: 4.1494e-04 - mean_squared_error: 107.8772 - val_loss: 6.6969 - val_acc: 0.0000e+00 - val_mean_squared_error: 74.0852\n",
      "Epoch 70/500\n",
      "2410/2410 [==============================] - 1s 464us/step - loss: 8.3141 - acc: 4.1494e-04 - mean_squared_error: 109.8235 - val_loss: 6.9948 - val_acc: 0.0000e+00 - val_mean_squared_error: 81.3256\n",
      "Epoch 71/500\n",
      "2410/2410 [==============================] - 1s 479us/step - loss: 10.0191 - acc: 4.1494e-04 - mean_squared_error: 163.9870 - val_loss: 14.0461 - val_acc: 0.0000e+00 - val_mean_squared_error: 293.7328\n",
      "Epoch 72/500\n",
      "2410/2410 [==============================] - 1s 511us/step - loss: 9.3847 - acc: 4.1494e-04 - mean_squared_error: 140.5120 - val_loss: 6.8735 - val_acc: 0.0000e+00 - val_mean_squared_error: 78.0397\n",
      "Epoch 73/500\n",
      "2410/2410 [==============================] - 1s 454us/step - loss: 8.4842 - acc: 4.1494e-04 - mean_squared_error: 113.7002 - val_loss: 7.5111 - val_acc: 0.0019 - val_mean_squared_error: 91.0398\n",
      "Epoch 74/500\n",
      "2410/2410 [==============================] - 1s 413us/step - loss: 8.1078 - acc: 8.2988e-04 - mean_squared_error: 103.9169 - val_loss: 6.8037 - val_acc: 0.0000e+00 - val_mean_squared_error: 74.8465\n",
      "Epoch 75/500\n",
      "2410/2410 [==============================] - 1s 470us/step - loss: 7.5042 - acc: 0.0000e+00 - mean_squared_error: 91.4281 - val_loss: 9.3333 - val_acc: 0.0000e+00 - val_mean_squared_error: 126.3812\n",
      "Epoch 76/500\n",
      "2410/2410 [==============================] - 1s 586us/step - loss: 7.9286 - acc: 8.2988e-04 - mean_squared_error: 101.2333 - val_loss: 9.6114 - val_acc: 0.0000e+00 - val_mean_squared_error: 133.1406\n",
      "Epoch 77/500\n",
      "2410/2410 [==============================] - 1s 478us/step - loss: 8.2722 - acc: 4.1494e-04 - mean_squared_error: 106.8485 - val_loss: 7.0363 - val_acc: 9.6712e-04 - val_mean_squared_error: 77.3976\n"
     ]
    },
    {
     "name": "stdout",
     "output_type": "stream",
     "text": [
      "Epoch 78/500\n",
      "2410/2410 [==============================] - 1s 487us/step - loss: 7.3207 - acc: 8.2988e-04 - mean_squared_error: 85.4189 - val_loss: 6.5097 - val_acc: 0.0000e+00 - val_mean_squared_error: 67.4612\n",
      "Epoch 79/500\n",
      "2410/2410 [==============================] - 1s 545us/step - loss: 7.6023 - acc: 0.0000e+00 - mean_squared_error: 92.9893 - val_loss: 6.4063 - val_acc: 0.0000e+00 - val_mean_squared_error: 66.7469\n",
      "Epoch 80/500\n",
      "2410/2410 [==============================] - 1s 541us/step - loss: 7.3416 - acc: 0.0012 - mean_squared_error: 87.3215 - val_loss: 8.0980 - val_acc: 0.0000e+00 - val_mean_squared_error: 104.0623\n",
      "Epoch 81/500\n",
      "2410/2410 [==============================] - 1s 520us/step - loss: 7.9152 - acc: 4.1494e-04 - mean_squared_error: 99.6506 - val_loss: 8.1030 - val_acc: 0.0000e+00 - val_mean_squared_error: 103.8385\n",
      "Epoch 82/500\n",
      "2410/2410 [==============================] - 1s 548us/step - loss: 7.6386 - acc: 8.2988e-04 - mean_squared_error: 96.0080 - val_loss: 7.8191 - val_acc: 0.0000e+00 - val_mean_squared_error: 92.4669\n",
      "Epoch 83/500\n",
      "2410/2410 [==============================] - 1s 403us/step - loss: 10.2809 - acc: 0.0012 - mean_squared_error: 164.5809 - val_loss: 11.1813 - val_acc: 0.0000e+00 - val_mean_squared_error: 169.9604\n",
      "Epoch 84/500\n",
      "2410/2410 [==============================] - 1s 491us/step - loss: 8.3024 - acc: 0.0017 - mean_squared_error: 109.4184 - val_loss: 8.2234 - val_acc: 0.0019 - val_mean_squared_error: 105.5171\n",
      "Epoch 85/500\n",
      "2410/2410 [==============================] - 1s 493us/step - loss: 7.3675 - acc: 8.2988e-04 - mean_squared_error: 86.9812 - val_loss: 6.2533 - val_acc: 0.0000e+00 - val_mean_squared_error: 64.1262\n",
      "Epoch 86/500\n",
      "2410/2410 [==============================] - 1s 533us/step - loss: 6.9859 - acc: 0.0000e+00 - mean_squared_error: 79.6482 - val_loss: 6.6153 - val_acc: 0.0000e+00 - val_mean_squared_error: 71.3232\n",
      "Epoch 87/500\n",
      "2410/2410 [==============================] - 1s 553us/step - loss: 7.0960 - acc: 8.2988e-04 - mean_squared_error: 82.2135 - val_loss: 6.3608 - val_acc: 0.0000e+00 - val_mean_squared_error: 66.6052\n",
      "Epoch 88/500\n",
      "2410/2410 [==============================] - 1s 436us/step - loss: 7.9716 - acc: 0.0000e+00 - mean_squared_error: 102.5820 - val_loss: 7.6612 - val_acc: 0.0000e+00 - val_mean_squared_error: 85.2851\n",
      "Epoch 89/500\n",
      "2410/2410 [==============================] - 1s 470us/step - loss: 7.0120 - acc: 4.1494e-04 - mean_squared_error: 79.4076 - val_loss: 6.3258 - val_acc: 0.0000e+00 - val_mean_squared_error: 66.6347\n",
      "Epoch 90/500\n",
      "2410/2410 [==============================] - 1s 477us/step - loss: 7.6145 - acc: 4.1494e-04 - mean_squared_error: 93.2965 - val_loss: 6.2532 - val_acc: 0.0000e+00 - val_mean_squared_error: 63.3485\n",
      "Epoch 91/500\n",
      "2410/2410 [==============================] - 1s 530us/step - loss: 7.4000 - acc: 0.0017 - mean_squared_error: 88.5519 - val_loss: 6.5730 - val_acc: 0.0000e+00 - val_mean_squared_error: 71.3664\n",
      "Epoch 92/500\n",
      "2410/2410 [==============================] - 1s 520us/step - loss: 8.1633 - acc: 0.0000e+00 - mean_squared_error: 104.9665 - val_loss: 6.2234 - val_acc: 9.6712e-04 - val_mean_squared_error: 64.3463\n",
      "Epoch 93/500\n",
      "2410/2410 [==============================] - 1s 548us/step - loss: 7.2963 - acc: 4.1494e-04 - mean_squared_error: 87.2930 - val_loss: 7.5461 - val_acc: 0.0000e+00 - val_mean_squared_error: 88.1228\n",
      "Epoch 94/500\n",
      "2410/2410 [==============================] - 1s 547us/step - loss: 7.2945 - acc: 8.2988e-04 - mean_squared_error: 87.2945 - val_loss: 8.7646 - val_acc: 0.0000e+00 - val_mean_squared_error: 119.4764\n",
      "Epoch 95/500\n",
      "2410/2410 [==============================] - 1s 423us/step - loss: 7.5115 - acc: 4.1494e-04 - mean_squared_error: 90.3569 - val_loss: 6.3975 - val_acc: 9.6712e-04 - val_mean_squared_error: 66.7400\n",
      "Epoch 96/500\n",
      "2410/2410 [==============================] - 1s 472us/step - loss: 6.9445 - acc: 4.1494e-04 - mean_squared_error: 78.5665 - val_loss: 9.6401 - val_acc: 0.0000e+00 - val_mean_squared_error: 130.6220\n",
      "Epoch 97/500\n",
      "2410/2410 [==============================] - 1s 435us/step - loss: 8.3409 - acc: 0.0000e+00 - mean_squared_error: 110.1038 - val_loss: 7.3220 - val_acc: 9.6712e-04 - val_mean_squared_error: 82.6505\n",
      "Epoch 98/500\n",
      "2410/2410 [==============================] - 1s 499us/step - loss: 6.8052 - acc: 0.0000e+00 - mean_squared_error: 76.0562 - val_loss: 6.0510 - val_acc: 0.0000e+00 - val_mean_squared_error: 59.7989\n",
      "Epoch 99/500\n",
      "2410/2410 [==============================] - 1s 568us/step - loss: 9.2570 - acc: 0.0000e+00 - mean_squared_error: 138.0582 - val_loss: 9.2887 - val_acc: 0.0000e+00 - val_mean_squared_error: 121.3125\n",
      "Epoch 100/500\n",
      "2410/2410 [==============================] - 1s 528us/step - loss: 9.0468 - acc: 0.0000e+00 - mean_squared_error: 127.0957 - val_loss: 6.1429 - val_acc: 9.6712e-04 - val_mean_squared_error: 60.9641\n",
      "Epoch 101/500\n",
      "2410/2410 [==============================] - 1s 485us/step - loss: 6.7319 - acc: 8.2988e-04 - mean_squared_error: 74.8118 - val_loss: 6.3165 - val_acc: 0.0000e+00 - val_mean_squared_error: 62.2626\n",
      "Epoch 102/500\n",
      "2410/2410 [==============================] - 1s 553us/step - loss: 6.5727 - acc: 4.1494e-04 - mean_squared_error: 71.3398 - val_loss: 6.0486 - val_acc: 0.0000e+00 - val_mean_squared_error: 60.6410\n",
      "Epoch 103/500\n",
      "2410/2410 [==============================] - 1s 485us/step - loss: 6.9138 - acc: 8.2988e-04 - mean_squared_error: 78.4691 - val_loss: 6.2135 - val_acc: 0.0000e+00 - val_mean_squared_error: 61.9965\n",
      "Epoch 104/500\n",
      "2410/2410 [==============================] - 1s 547us/step - loss: 7.0741 - acc: 0.0000e+00 - mean_squared_error: 82.1626 - val_loss: 6.3579 - val_acc: 9.6712e-04 - val_mean_squared_error: 63.2064\n",
      "Epoch 105/500\n",
      "2410/2410 [==============================] - 1s 445us/step - loss: 7.2440 - acc: 0.0000e+00 - mean_squared_error: 85.3463 - val_loss: 6.9111 - val_acc: 0.0000e+00 - val_mean_squared_error: 75.4882\n",
      "Epoch 106/500\n",
      "2410/2410 [==============================] - 1s 492us/step - loss: 6.6377 - acc: 0.0017 - mean_squared_error: 72.6990 - val_loss: 6.0344 - val_acc: 0.0000e+00 - val_mean_squared_error: 59.3724\n",
      "Epoch 107/500\n",
      "2410/2410 [==============================] - 1s 574us/step - loss: 7.2405 - acc: 0.0012 - mean_squared_error: 85.2685 - val_loss: 6.0004 - val_acc: 0.0000e+00 - val_mean_squared_error: 57.6712\n",
      "Epoch 108/500\n",
      "2410/2410 [==============================] - 1s 546us/step - loss: 6.7379 - acc: 0.0000e+00 - mean_squared_error: 74.7531 - val_loss: 6.6798 - val_acc: 0.0135 - val_mean_squared_error: 69.5187\n",
      "Epoch 109/500\n",
      "2410/2410 [==============================] - 2s 652us/step - loss: 6.6886 - acc: 0.0012 - mean_squared_error: 73.4309 - val_loss: 6.6425 - val_acc: 9.6712e-04 - val_mean_squared_error: 67.2727\n",
      "Epoch 110/500\n",
      "2410/2410 [==============================] - 1s 496us/step - loss: 6.6187 - acc: 8.2988e-04 - mean_squared_error: 70.5569 - val_loss: 8.4877 - val_acc: 9.6712e-04 - val_mean_squared_error: 113.2335\n",
      "Epoch 111/500\n",
      "2410/2410 [==============================] - 1s 560us/step - loss: 6.8946 - acc: 0.0017 - mean_squared_error: 78.1481 - val_loss: 6.5791 - val_acc: 9.6712e-04 - val_mean_squared_error: 68.9368\n",
      "Epoch 112/500\n",
      "2410/2410 [==============================] - 2s 663us/step - loss: 6.7405 - acc: 4.1494e-04 - mean_squared_error: 74.9821 - val_loss: 6.0931 - val_acc: 0.0000e+00 - val_mean_squared_error: 58.2643\n",
      "Epoch 113/500\n",
      "2410/2410 [==============================] - 1s 484us/step - loss: 6.6149 - acc: 8.2988e-04 - mean_squared_error: 72.6706 - val_loss: 6.6702 - val_acc: 9.6712e-04 - val_mean_squared_error: 71.3030\n",
      "Epoch 114/500\n",
      "2410/2410 [==============================] - 1s 551us/step - loss: 6.3569 - acc: 4.1494e-04 - mean_squared_error: 67.1161 - val_loss: 5.7973 - val_acc: 0.0000e+00 - val_mean_squared_error: 55.5755\n",
      "Epoch 115/500\n",
      "2410/2410 [==============================] - 1s 434us/step - loss: 7.1846 - acc: 0.0017 - mean_squared_error: 82.8983 - val_loss: 11.6860 - val_acc: 0.0000e+00 - val_mean_squared_error: 194.9485\n",
      "Epoch 116/500\n",
      "2410/2410 [==============================] - 1s 486us/step - loss: 7.5636 - acc: 4.1494e-04 - mean_squared_error: 93.0597 - val_loss: 6.1039 - val_acc: 0.0000e+00 - val_mean_squared_error: 61.9680\n",
      "Epoch 117/500\n"
     ]
    },
    {
     "name": "stdout",
     "output_type": "stream",
     "text": [
      "2410/2410 [==============================] - 1s 535us/step - loss: 6.4764 - acc: 0.0025 - mean_squared_error: 69.4598 - val_loss: 6.3333 - val_acc: 0.0068 - val_mean_squared_error: 64.0625\n",
      "Epoch 118/500\n",
      "2410/2410 [==============================] - 1s 541us/step - loss: 7.0376 - acc: 8.2988e-04 - mean_squared_error: 80.8309 - val_loss: 6.3205 - val_acc: 0.0039 - val_mean_squared_error: 62.9939\n",
      "Epoch 119/500\n",
      "2410/2410 [==============================] - 1s 545us/step - loss: 7.0891 - acc: 0.0017 - mean_squared_error: 80.7092 - val_loss: 8.3794 - val_acc: 0.0000e+00 - val_mean_squared_error: 99.8738\n",
      "Epoch 120/500\n",
      "2410/2410 [==============================] - 1s 499us/step - loss: 7.8862 - acc: 8.2988e-04 - mean_squared_error: 97.6760 - val_loss: 6.1601 - val_acc: 0.0019 - val_mean_squared_error: 61.0533\n",
      "Epoch 121/500\n",
      "2410/2410 [==============================] - 1s 509us/step - loss: 6.1853 - acc: 0.0012 - mean_squared_error: 64.3461 - val_loss: 5.7705 - val_acc: 0.0000e+00 - val_mean_squared_error: 54.1475\n",
      "Epoch 122/500\n",
      "2410/2410 [==============================] - 1s 424us/step - loss: 6.3520 - acc: 0.0029 - mean_squared_error: 67.8286 - val_loss: 5.6879 - val_acc: 0.0000e+00 - val_mean_squared_error: 53.1511\n",
      "Epoch 123/500\n",
      "2410/2410 [==============================] - 1s 460us/step - loss: 6.2929 - acc: 0.0017 - mean_squared_error: 65.7503 - val_loss: 6.8206 - val_acc: 9.6712e-04 - val_mean_squared_error: 79.0176\n",
      "Epoch 124/500\n",
      "2410/2410 [==============================] - 1s 405us/step - loss: 6.7086 - acc: 8.2988e-04 - mean_squared_error: 72.9004 - val_loss: 8.9076 - val_acc: 0.0000e+00 - val_mean_squared_error: 108.9192\n",
      "Epoch 125/500\n",
      "2410/2410 [==============================] - 1s 442us/step - loss: 6.9525 - acc: 0.0012 - mean_squared_error: 77.0507 - val_loss: 6.4510 - val_acc: 0.0135 - val_mean_squared_error: 64.1619\n",
      "Epoch 126/500\n",
      "2410/2410 [==============================] - 1s 492us/step - loss: 6.4176 - acc: 8.2988e-04 - mean_squared_error: 67.4565 - val_loss: 5.8542 - val_acc: 9.6712e-04 - val_mean_squared_error: 56.9559\n",
      "Epoch 127/500\n",
      "2410/2410 [==============================] - 1s 465us/step - loss: 6.3610 - acc: 0.0021 - mean_squared_error: 66.5221 - val_loss: 5.5775 - val_acc: 0.0000e+00 - val_mean_squared_error: 51.2239\n",
      "Epoch 128/500\n",
      "2410/2410 [==============================] - 1s 511us/step - loss: 5.9993 - acc: 4.1494e-04 - mean_squared_error: 61.8673 - val_loss: 6.0160 - val_acc: 0.0000e+00 - val_mean_squared_error: 57.9962\n",
      "Epoch 129/500\n",
      "2410/2410 [==============================] - 1s 508us/step - loss: 7.1786 - acc: 8.2988e-04 - mean_squared_error: 83.1644 - val_loss: 6.0594 - val_acc: 0.0000e+00 - val_mean_squared_error: 58.0209\n",
      "Epoch 130/500\n",
      "2410/2410 [==============================] - 1s 567us/step - loss: 6.6446 - acc: 0.0025 - mean_squared_error: 71.8259 - val_loss: 5.6659 - val_acc: 0.0000e+00 - val_mean_squared_error: 53.7103\n",
      "Epoch 131/500\n",
      "2410/2410 [==============================] - 1s 541us/step - loss: 6.2849 - acc: 0.0012 - mean_squared_error: 65.7577 - val_loss: 7.9397 - val_acc: 0.0000e+00 - val_mean_squared_error: 98.1368\n",
      "Epoch 132/500\n",
      "2410/2410 [==============================] - 1s 510us/step - loss: 7.7772 - acc: 4.1494e-04 - mean_squared_error: 95.9611 - val_loss: 8.6977 - val_acc: 0.0000e+00 - val_mean_squared_error: 104.4034\n",
      "Epoch 133/500\n",
      "2410/2410 [==============================] - 1s 485us/step - loss: 6.9391 - acc: 0.0012 - mean_squared_error: 77.5680 - val_loss: 5.8010 - val_acc: 0.0000e+00 - val_mean_squared_error: 54.9454\n",
      "Epoch 134/500\n",
      "2410/2410 [==============================] - 1s 429us/step - loss: 7.1574 - acc: 0.0017 - mean_squared_error: 81.1543 - val_loss: 6.6394 - val_acc: 0.0000e+00 - val_mean_squared_error: 69.5548\n",
      "Epoch 135/500\n",
      "2410/2410 [==============================] - 1s 466us/step - loss: 6.3892 - acc: 0.0000e+00 - mean_squared_error: 67.7394 - val_loss: 5.8728 - val_acc: 0.0135 - val_mean_squared_error: 54.9012\n",
      "Epoch 136/500\n",
      "2410/2410 [==============================] - 1s 449us/step - loss: 6.5698 - acc: 0.0017 - mean_squared_error: 69.7937 - val_loss: 5.4644 - val_acc: 0.0000e+00 - val_mean_squared_error: 49.3243\n",
      "Epoch 137/500\n",
      "2410/2410 [==============================] - 1s 529us/step - loss: 6.4392 - acc: 8.2988e-04 - mean_squared_error: 67.2560 - val_loss: 6.0294 - val_acc: 0.0135 - val_mean_squared_error: 56.3247\n",
      "Epoch 138/500\n",
      "2410/2410 [==============================] - 1s 505us/step - loss: 6.3397 - acc: 0.0017 - mean_squared_error: 64.8113 - val_loss: 8.3185 - val_acc: 0.0000e+00 - val_mean_squared_error: 106.0982\n",
      "Epoch 139/500\n",
      "2410/2410 [==============================] - 1s 488us/step - loss: 7.0802 - acc: 0.0025 - mean_squared_error: 79.5847 - val_loss: 5.4373 - val_acc: 0.0000e+00 - val_mean_squared_error: 48.3305\n",
      "Epoch 140/500\n",
      "2410/2410 [==============================] - 1s 478us/step - loss: 6.6098 - acc: 0.0000e+00 - mean_squared_error: 71.6405 - val_loss: 8.0177 - val_acc: 0.0000e+00 - val_mean_squared_error: 90.1049\n",
      "Epoch 141/500\n",
      "2410/2410 [==============================] - 1s 558us/step - loss: 6.9117 - acc: 8.2988e-04 - mean_squared_error: 75.4653 - val_loss: 6.3523 - val_acc: 0.0029 - val_mean_squared_error: 61.9356\n",
      "Epoch 142/500\n",
      "2410/2410 [==============================] - 1s 503us/step - loss: 5.9618 - acc: 0.0017 - mean_squared_error: 59.4217 - val_loss: 5.3803 - val_acc: 0.0000e+00 - val_mean_squared_error: 47.7107\n",
      "Epoch 143/500\n",
      "2410/2410 [==============================] - 1s 559us/step - loss: 6.1675 - acc: 0.0033 - mean_squared_error: 63.7124 - val_loss: 6.2350 - val_acc: 0.0000e+00 - val_mean_squared_error: 66.0350\n",
      "Epoch 144/500\n",
      "2410/2410 [==============================] - 1s 509us/step - loss: 7.6854 - acc: 8.2988e-04 - mean_squared_error: 93.4379 - val_loss: 8.4039 - val_acc: 0.0000e+00 - val_mean_squared_error: 107.8359\n",
      "Epoch 145/500\n",
      "2410/2410 [==============================] - 1s 513us/step - loss: 6.6580 - acc: 0.0029 - mean_squared_error: 70.5980 - val_loss: 5.6274 - val_acc: 0.0000e+00 - val_mean_squared_error: 52.7407\n",
      "Epoch 146/500\n",
      "2410/2410 [==============================] - 1s 606us/step - loss: 6.1554 - acc: 4.1494e-04 - mean_squared_error: 61.9982 - val_loss: 5.5793 - val_acc: 9.6712e-04 - val_mean_squared_error: 51.1890\n",
      "Epoch 147/500\n",
      "2410/2410 [==============================] - 1s 548us/step - loss: 6.2012 - acc: 8.2988e-04 - mean_squared_error: 62.4357 - val_loss: 5.5185 - val_acc: 0.0135 - val_mean_squared_error: 50.1583\n",
      "Epoch 148/500\n",
      "2410/2410 [==============================] - 1s 560us/step - loss: 6.1837 - acc: 0.0041 - mean_squared_error: 63.9775 - val_loss: 5.6301 - val_acc: 9.6712e-04 - val_mean_squared_error: 52.7786\n",
      "Epoch 149/500\n",
      "2410/2410 [==============================] - 1s 555us/step - loss: 6.0493 - acc: 8.2988e-04 - mean_squared_error: 60.5425 - val_loss: 6.1791 - val_acc: 0.0000e+00 - val_mean_squared_error: 59.2419\n",
      "Epoch 150/500\n",
      "2410/2410 [==============================] - 1s 487us/step - loss: 6.6029 - acc: 0.0012 - mean_squared_error: 69.6454 - val_loss: 7.6362 - val_acc: 0.0000e+00 - val_mean_squared_error: 88.6218\n",
      "Epoch 151/500\n",
      "2410/2410 [==============================] - 1s 524us/step - loss: 6.2174 - acc: 4.1494e-04 - mean_squared_error: 63.8464 - val_loss: 7.2059 - val_acc: 0.0000e+00 - val_mean_squared_error: 84.9725\n",
      "Epoch 152/500\n",
      "2410/2410 [==============================] - 1s 483us/step - loss: 6.3022 - acc: 8.2988e-04 - mean_squared_error: 64.3497 - val_loss: 5.9427 - val_acc: 0.0000e+00 - val_mean_squared_error: 55.4056\n",
      "Epoch 153/500\n",
      "2410/2410 [==============================] - 1s 558us/step - loss: 5.8967 - acc: 0.0029 - mean_squared_error: 59.3140 - val_loss: 5.4799 - val_acc: 9.6712e-04 - val_mean_squared_error: 49.0240\n",
      "Epoch 154/500\n",
      "2410/2410 [==============================] - 1s 590us/step - loss: 6.8066 - acc: 0.0025 - mean_squared_error: 74.8064 - val_loss: 7.5476 - val_acc: 0.0000e+00 - val_mean_squared_error: 87.9571\n",
      "Epoch 155/500\n",
      "2410/2410 [==============================] - 1s 513us/step - loss: 6.0506 - acc: 0.0021 - mean_squared_error: 60.8159 - val_loss: 5.4872 - val_acc: 9.6712e-04 - val_mean_squared_error: 48.7833\n",
      "Epoch 156/500\n"
     ]
    },
    {
     "name": "stdout",
     "output_type": "stream",
     "text": [
      "2410/2410 [==============================] - 1s 530us/step - loss: 5.8566 - acc: 0.0012 - mean_squared_error: 58.2416 - val_loss: 6.6050 - val_acc: 0.0000e+00 - val_mean_squared_error: 63.5040\n",
      "Epoch 157/500\n",
      "2410/2410 [==============================] - 1s 490us/step - loss: 5.7380 - acc: 4.1494e-04 - mean_squared_error: 55.8095 - val_loss: 6.5347 - val_acc: 0.0000e+00 - val_mean_squared_error: 67.0315\n",
      "Epoch 158/500\n",
      "2410/2410 [==============================] - 1s 568us/step - loss: 5.7900 - acc: 0.0033 - mean_squared_error: 56.5156 - val_loss: 7.7073 - val_acc: 0.0019 - val_mean_squared_error: 94.7950\n",
      "Epoch 159/500\n",
      "2410/2410 [==============================] - 1s 492us/step - loss: 6.0733 - acc: 8.2988e-04 - mean_squared_error: 62.6407 - val_loss: 5.8416 - val_acc: 0.0000e+00 - val_mean_squared_error: 60.1395\n",
      "Epoch 160/500\n",
      "2410/2410 [==============================] - 1s 538us/step - loss: 6.1005 - acc: 0.0033 - mean_squared_error: 61.9714 - val_loss: 7.3069 - val_acc: 0.0000e+00 - val_mean_squared_error: 74.6951\n",
      "Epoch 161/500\n",
      "2410/2410 [==============================] - 1s 475us/step - loss: 6.0872 - acc: 0.0012 - mean_squared_error: 60.8320 - val_loss: 5.2367 - val_acc: 9.6712e-04 - val_mean_squared_error: 48.2365\n",
      "Epoch 162/500\n",
      "2410/2410 [==============================] - 1s 480us/step - loss: 6.1075 - acc: 0.0017 - mean_squared_error: 61.6649 - val_loss: 5.1147 - val_acc: 0.0145 - val_mean_squared_error: 45.0089\n",
      "Epoch 163/500\n",
      "2410/2410 [==============================] - 1s 481us/step - loss: 6.2102 - acc: 0.0029 - mean_squared_error: 62.5811 - val_loss: 5.2506 - val_acc: 0.0000e+00 - val_mean_squared_error: 44.2879\n",
      "Epoch 164/500\n",
      "2410/2410 [==============================] - 1s 507us/step - loss: 5.4190 - acc: 0.0029 - mean_squared_error: 50.8587 - val_loss: 6.7947 - val_acc: 0.0000e+00 - val_mean_squared_error: 65.6399\n",
      "Epoch 165/500\n",
      "2410/2410 [==============================] - 1s 482us/step - loss: 6.0308 - acc: 0.0012 - mean_squared_error: 59.8581 - val_loss: 5.3107 - val_acc: 0.0000e+00 - val_mean_squared_error: 45.6291\n",
      "Epoch 166/500\n",
      "2410/2410 [==============================] - 1s 502us/step - loss: 5.7857 - acc: 4.1494e-04 - mean_squared_error: 55.8464 - val_loss: 5.7670 - val_acc: 0.0000e+00 - val_mean_squared_error: 58.5985\n",
      "Epoch 167/500\n",
      "2410/2410 [==============================] - 1s 513us/step - loss: 5.4558 - acc: 0.0012 - mean_squared_error: 51.2802 - val_loss: 5.1917 - val_acc: 9.6712e-04 - val_mean_squared_error: 45.9136\n",
      "Epoch 168/500\n",
      "2410/2410 [==============================] - 1s 553us/step - loss: 6.3941 - acc: 0.0012 - mean_squared_error: 67.0642 - val_loss: 5.6122 - val_acc: 0.0000e+00 - val_mean_squared_error: 48.0433\n",
      "Epoch 169/500\n",
      "2410/2410 [==============================] - 1s 478us/step - loss: 7.1758 - acc: 0.0000e+00 - mean_squared_error: 83.3715 - val_loss: 8.4837 - val_acc: 0.0000e+00 - val_mean_squared_error: 97.9732\n",
      "Epoch 170/500\n",
      "2410/2410 [==============================] - 1s 597us/step - loss: 6.3349 - acc: 0.0012 - mean_squared_error: 66.6339 - val_loss: 6.1578 - val_acc: 0.0000e+00 - val_mean_squared_error: 56.9287\n",
      "Epoch 171/500\n",
      "2410/2410 [==============================] - 1s 466us/step - loss: 6.2103 - acc: 0.0037 - mean_squared_error: 63.0694 - val_loss: 5.9655 - val_acc: 0.0000e+00 - val_mean_squared_error: 54.5547\n",
      "Epoch 172/500\n",
      "2410/2410 [==============================] - 1s 557us/step - loss: 5.8120 - acc: 0.0037 - mean_squared_error: 56.2097 - val_loss: 5.7531 - val_acc: 0.0000e+00 - val_mean_squared_error: 50.3940\n",
      "Epoch 173/500\n",
      "2410/2410 [==============================] - 1s 570us/step - loss: 6.8122 - acc: 0.0000e+00 - mean_squared_error: 73.5137 - val_loss: 6.5620 - val_acc: 0.0000e+00 - val_mean_squared_error: 62.9697\n",
      "Epoch 174/500\n",
      "2410/2410 [==============================] - 1s 552us/step - loss: 7.0770 - acc: 0.0017 - mean_squared_error: 79.4527 - val_loss: 6.3855 - val_acc: 0.0000e+00 - val_mean_squared_error: 60.3349\n",
      "Epoch 175/500\n",
      "2410/2410 [==============================] - 1s 395us/step - loss: 6.1232 - acc: 0.0025 - mean_squared_error: 61.2873 - val_loss: 5.0752 - val_acc: 9.6712e-04 - val_mean_squared_error: 43.2571\n",
      "Epoch 176/500\n",
      "2410/2410 [==============================] - 1s 415us/step - loss: 5.9985 - acc: 0.0012 - mean_squared_error: 58.8063 - val_loss: 5.9070 - val_acc: 0.0000e+00 - val_mean_squared_error: 53.3498\n",
      "Epoch 177/500\n",
      "2410/2410 [==============================] - 1s 470us/step - loss: 6.1537 - acc: 8.2988e-04 - mean_squared_error: 60.7941 - val_loss: 5.0334 - val_acc: 0.0000e+00 - val_mean_squared_error: 42.1143\n",
      "Epoch 178/500\n",
      "2410/2410 [==============================] - 1s 495us/step - loss: 5.8342 - acc: 8.2988e-04 - mean_squared_error: 55.7593 - val_loss: 5.1086 - val_acc: 0.0000e+00 - val_mean_squared_error: 42.1688\n",
      "Epoch 179/500\n",
      "2410/2410 [==============================] - 1s 416us/step - loss: 5.5132 - acc: 0.0025 - mean_squared_error: 52.8797 - val_loss: 5.2389 - val_acc: 9.6712e-04 - val_mean_squared_error: 45.0549\n",
      "Epoch 180/500\n",
      "2410/2410 [==============================] - 1s 454us/step - loss: 5.3810 - acc: 0.0025 - mean_squared_error: 49.3904 - val_loss: 5.0276 - val_acc: 9.6712e-04 - val_mean_squared_error: 43.6998\n",
      "Epoch 181/500\n",
      "2410/2410 [==============================] - 1s 507us/step - loss: 6.0872 - acc: 0.0029 - mean_squared_error: 61.6299 - val_loss: 6.3769 - val_acc: 0.0000e+00 - val_mean_squared_error: 62.4577\n",
      "Epoch 182/500\n",
      "2410/2410 [==============================] - 1s 519us/step - loss: 5.3752 - acc: 0.0017 - mean_squared_error: 48.6887 - val_loss: 5.0413 - val_acc: 0.0000e+00 - val_mean_squared_error: 42.3655\n",
      "Epoch 183/500\n",
      "2410/2410 [==============================] - 1s 578us/step - loss: 5.3875 - acc: 0.0025 - mean_squared_error: 48.7918 - val_loss: 6.5249 - val_acc: 0.0000e+00 - val_mean_squared_error: 71.9748\n",
      "Epoch 184/500\n",
      "2410/2410 [==============================] - 1s 470us/step - loss: 6.0862 - acc: 0.0000e+00 - mean_squared_error: 60.8929 - val_loss: 5.1996 - val_acc: 0.0000e+00 - val_mean_squared_error: 43.0416\n",
      "Epoch 185/500\n",
      "2410/2410 [==============================] - 1s 568us/step - loss: 5.5298 - acc: 0.0029 - mean_squared_error: 51.6962 - val_loss: 5.1769 - val_acc: 9.6712e-04 - val_mean_squared_error: 42.7072\n",
      "Epoch 186/500\n",
      "2410/2410 [==============================] - 1s 499us/step - loss: 5.6428 - acc: 0.0000e+00 - mean_squared_error: 53.1261 - val_loss: 4.9226 - val_acc: 0.0000e+00 - val_mean_squared_error: 42.1214\n",
      "Epoch 187/500\n",
      "2410/2410 [==============================] - 1s 555us/step - loss: 5.6018 - acc: 8.2988e-04 - mean_squared_error: 53.5564 - val_loss: 4.8623 - val_acc: 0.0000e+00 - val_mean_squared_error: 40.2024\n",
      "Epoch 188/500\n",
      "2410/2410 [==============================] - 1s 597us/step - loss: 5.2334 - acc: 0.0058 - mean_squared_error: 47.7708 - val_loss: 4.9592 - val_acc: 9.6712e-04 - val_mean_squared_error: 41.5995\n",
      "Epoch 189/500\n",
      "2410/2410 [==============================] - 1s 511us/step - loss: 5.5711 - acc: 0.0021 - mean_squared_error: 53.1547 - val_loss: 5.0841 - val_acc: 0.0000e+00 - val_mean_squared_error: 46.9976\n",
      "Epoch 190/500\n",
      "2410/2410 [==============================] - 1s 435us/step - loss: 5.5622 - acc: 0.0037 - mean_squared_error: 52.4682 - val_loss: 5.9425 - val_acc: 0.0000e+00 - val_mean_squared_error: 52.7822\n",
      "Epoch 191/500\n",
      "2410/2410 [==============================] - 1s 521us/step - loss: 5.2691 - acc: 0.0046 - mean_squared_error: 47.8143 - val_loss: 5.0153 - val_acc: 0.0000e+00 - val_mean_squared_error: 42.7728\n",
      "Epoch 192/500\n",
      "2410/2410 [==============================] - 1s 532us/step - loss: 5.4778 - acc: 0.0017 - mean_squared_error: 50.7465 - val_loss: 5.2202 - val_acc: 0.0019 - val_mean_squared_error: 44.2124\n",
      "Epoch 193/500\n",
      "2410/2410 [==============================] - 1s 550us/step - loss: 5.5295 - acc: 0.0017 - mean_squared_error: 52.0139 - val_loss: 5.6790 - val_acc: 0.0000e+00 - val_mean_squared_error: 51.8240\n",
      "Epoch 194/500\n",
      "2410/2410 [==============================] - 1s 590us/step - loss: 5.8739 - acc: 0.0017 - mean_squared_error: 57.0318 - val_loss: 4.9619 - val_acc: 0.0000e+00 - val_mean_squared_error: 41.3194\n",
      "Epoch 195/500\n"
     ]
    },
    {
     "name": "stdout",
     "output_type": "stream",
     "text": [
      "2410/2410 [==============================] - 1s 536us/step - loss: 6.3620 - acc: 0.0025 - mean_squared_error: 66.7733 - val_loss: 5.9868 - val_acc: 0.0135 - val_mean_squared_error: 54.0867\n",
      "Epoch 196/500\n",
      "2410/2410 [==============================] - 1s 511us/step - loss: 5.7113 - acc: 0.0000e+00 - mean_squared_error: 53.8402 - val_loss: 4.8344 - val_acc: 0.0116 - val_mean_squared_error: 40.4960\n",
      "Epoch 197/500\n",
      "2410/2410 [==============================] - 2s 625us/step - loss: 5.1990 - acc: 0.0062 - mean_squared_error: 46.8809 - val_loss: 5.7160 - val_acc: 0.0000e+00 - val_mean_squared_error: 50.3625\n",
      "Epoch 198/500\n",
      "2410/2410 [==============================] - 1s 521us/step - loss: 5.5947 - acc: 0.0021 - mean_squared_error: 51.8833 - val_loss: 6.5176 - val_acc: 0.0000e+00 - val_mean_squared_error: 66.2964\n",
      "Epoch 199/500\n",
      "2410/2410 [==============================] - 1s 474us/step - loss: 5.3363 - acc: 0.0037 - mean_squared_error: 47.9426 - val_loss: 4.8631 - val_acc: 9.6712e-04 - val_mean_squared_error: 41.5830\n",
      "Epoch 200/500\n",
      "2410/2410 [==============================] - 1s 568us/step - loss: 5.1680 - acc: 0.0033 - mean_squared_error: 46.4134 - val_loss: 4.8380 - val_acc: 0.0019 - val_mean_squared_error: 39.4564\n",
      "Epoch 201/500\n",
      "2410/2410 [==============================] - 1s 514us/step - loss: 5.7203 - acc: 0.0041 - mean_squared_error: 53.5480 - val_loss: 6.6399 - val_acc: 0.0000e+00 - val_mean_squared_error: 69.3358\n",
      "Epoch 202/500\n",
      "2410/2410 [==============================] - 1s 583us/step - loss: 5.7047 - acc: 0.0000e+00 - mean_squared_error: 53.4329 - val_loss: 5.4775 - val_acc: 0.0000e+00 - val_mean_squared_error: 50.5640\n",
      "Epoch 203/500\n",
      "2410/2410 [==============================] - 1s 600us/step - loss: 5.2802 - acc: 0.0033 - mean_squared_error: 47.0722 - val_loss: 5.0869 - val_acc: 9.6712e-04 - val_mean_squared_error: 41.3484\n",
      "Epoch 204/500\n",
      "2410/2410 [==============================] - 1s 519us/step - loss: 5.7103 - acc: 0.0012 - mean_squared_error: 52.9483 - val_loss: 5.1350 - val_acc: 0.0000e+00 - val_mean_squared_error: 43.4562\n",
      "Epoch 205/500\n",
      "2410/2410 [==============================] - 1s 550us/step - loss: 5.4385 - acc: 0.0021 - mean_squared_error: 49.5494 - val_loss: 4.6784 - val_acc: 9.6712e-04 - val_mean_squared_error: 37.3647\n",
      "Epoch 206/500\n",
      "2410/2410 [==============================] - 1s 500us/step - loss: 5.1186 - acc: 8.2988e-04 - mean_squared_error: 44.7410 - val_loss: 5.2531 - val_acc: 0.0000e+00 - val_mean_squared_error: 44.2665\n",
      "Epoch 207/500\n",
      "2410/2410 [==============================] - 1s 464us/step - loss: 5.4855 - acc: 0.0021 - mean_squared_error: 50.4137 - val_loss: 4.7644 - val_acc: 9.6712e-04 - val_mean_squared_error: 38.6858\n",
      "Epoch 208/500\n",
      "2410/2410 [==============================] - 1s 464us/step - loss: 6.0575 - acc: 0.0017 - mean_squared_error: 59.2503 - val_loss: 4.7671 - val_acc: 0.0000e+00 - val_mean_squared_error: 39.7867\n",
      "Epoch 209/500\n",
      "2410/2410 [==============================] - 1s 547us/step - loss: 5.0810 - acc: 4.1494e-04 - mean_squared_error: 45.3167 - val_loss: 6.1728 - val_acc: 0.0000e+00 - val_mean_squared_error: 60.9166\n",
      "Epoch 210/500\n",
      "2410/2410 [==============================] - 1s 594us/step - loss: 5.1491 - acc: 0.0017 - mean_squared_error: 45.5913 - val_loss: 4.6400 - val_acc: 0.0019 - val_mean_squared_error: 37.6078\n",
      "Epoch 211/500\n",
      "2410/2410 [==============================] - 1s 588us/step - loss: 5.7928 - acc: 0.0033 - mean_squared_error: 54.9421 - val_loss: 4.8267 - val_acc: 0.0000e+00 - val_mean_squared_error: 39.6368\n",
      "Epoch 212/500\n",
      "2410/2410 [==============================] - 1s 500us/step - loss: 5.3716 - acc: 0.0012 - mean_squared_error: 49.0323 - val_loss: 5.2196 - val_acc: 0.0135 - val_mean_squared_error: 43.9832\n",
      "Epoch 213/500\n",
      "2410/2410 [==============================] - 1s 542us/step - loss: 5.2085 - acc: 0.0017 - mean_squared_error: 46.1588 - val_loss: 4.8482 - val_acc: 0.0000e+00 - val_mean_squared_error: 41.8687\n",
      "Epoch 214/500\n",
      "2410/2410 [==============================] - 1s 554us/step - loss: 6.1137 - acc: 0.0017 - mean_squared_error: 59.2031 - val_loss: 6.4539 - val_acc: 0.0000e+00 - val_mean_squared_error: 61.1372\n",
      "Epoch 215/500\n",
      "2410/2410 [==============================] - 1s 606us/step - loss: 6.1069 - acc: 0.0012 - mean_squared_error: 60.6163 - val_loss: 5.0032 - val_acc: 0.0000e+00 - val_mean_squared_error: 41.5495\n",
      "Epoch 216/500\n",
      "2410/2410 [==============================] - 1s 597us/step - loss: 5.0020 - acc: 0.0017 - mean_squared_error: 44.3938 - val_loss: 5.0364 - val_acc: 0.0000e+00 - val_mean_squared_error: 40.9036\n",
      "Epoch 217/500\n",
      "2410/2410 [==============================] - 1s 519us/step - loss: 5.2015 - acc: 8.2988e-04 - mean_squared_error: 45.4290 - val_loss: 4.8052 - val_acc: 0.0135 - val_mean_squared_error: 39.4880\n",
      "Epoch 218/500\n",
      "2410/2410 [==============================] - 1s 512us/step - loss: 5.1730 - acc: 0.0017 - mean_squared_error: 45.2300 - val_loss: 5.4406 - val_acc: 0.0000e+00 - val_mean_squared_error: 50.0219\n",
      "Epoch 219/500\n",
      "2410/2410 [==============================] - 1s 485us/step - loss: 5.0870 - acc: 0.0029 - mean_squared_error: 44.4830 - val_loss: 5.5590 - val_acc: 0.0000e+00 - val_mean_squared_error: 48.5495\n",
      "Epoch 220/500\n",
      "2410/2410 [==============================] - 1s 504us/step - loss: 6.0632 - acc: 0.0012 - mean_squared_error: 58.7143 - val_loss: 4.6750 - val_acc: 9.6712e-04 - val_mean_squared_error: 37.3008\n",
      "Epoch 221/500\n",
      "2410/2410 [==============================] - 1s 497us/step - loss: 4.7913 - acc: 0.0046 - mean_squared_error: 41.1729 - val_loss: 5.6540 - val_acc: 0.0000e+00 - val_mean_squared_error: 49.0043\n",
      "Epoch 222/500\n",
      "2410/2410 [==============================] - 1s 525us/step - loss: 5.4045 - acc: 8.2988e-04 - mean_squared_error: 48.8284 - val_loss: 5.1698 - val_acc: 0.0000e+00 - val_mean_squared_error: 43.9880\n",
      "Epoch 223/500\n",
      "2410/2410 [==============================] - 1s 524us/step - loss: 4.9239 - acc: 0.0017 - mean_squared_error: 42.9242 - val_loss: 5.3125 - val_acc: 0.0000e+00 - val_mean_squared_error: 46.1938\n",
      "Epoch 224/500\n",
      "2410/2410 [==============================] - 1s 590us/step - loss: 5.3055 - acc: 0.0017 - mean_squared_error: 47.4244 - val_loss: 5.1829 - val_acc: 0.0000e+00 - val_mean_squared_error: 42.6908\n",
      "Epoch 225/500\n",
      "2410/2410 [==============================] - 1s 481us/step - loss: 5.4332 - acc: 0.0017 - mean_squared_error: 49.0619 - val_loss: 4.5911 - val_acc: 0.0019 - val_mean_squared_error: 37.1915\n",
      "Epoch 226/500\n",
      "2410/2410 [==============================] - 1s 591us/step - loss: 5.1236 - acc: 0.0058 - mean_squared_error: 45.6050 - val_loss: 7.1698 - val_acc: 0.0000e+00 - val_mean_squared_error: 77.8506\n",
      "Epoch 227/500\n",
      "2410/2410 [==============================] - 1s 441us/step - loss: 5.0511 - acc: 0.0046 - mean_squared_error: 44.4185 - val_loss: 4.6429 - val_acc: 9.6712e-04 - val_mean_squared_error: 38.4051\n",
      "Epoch 228/500\n",
      "2410/2410 [==============================] - 1s 465us/step - loss: 5.3425 - acc: 0.0017 - mean_squared_error: 48.2423 - val_loss: 5.4979 - val_acc: 0.0000e+00 - val_mean_squared_error: 52.0716\n",
      "Epoch 229/500\n",
      "2410/2410 [==============================] - 1s 483us/step - loss: 4.9900 - acc: 0.0029 - mean_squared_error: 43.5937 - val_loss: 4.9393 - val_acc: 9.6712e-04 - val_mean_squared_error: 42.0430\n",
      "Epoch 230/500\n",
      "2410/2410 [==============================] - 1s 485us/step - loss: 5.5783 - acc: 8.2988e-04 - mean_squared_error: 50.7735 - val_loss: 8.7947 - val_acc: 0.0000e+00 - val_mean_squared_error: 103.7686\n",
      "Epoch 231/500\n",
      "2410/2410 [==============================] - 1s 538us/step - loss: 5.7389 - acc: 0.0029 - mean_squared_error: 54.4825 - val_loss: 4.8928 - val_acc: 9.6712e-04 - val_mean_squared_error: 43.7807\n",
      "Epoch 232/500\n",
      "2410/2410 [==============================] - 1s 550us/step - loss: 4.7105 - acc: 0.0058 - mean_squared_error: 40.6446 - val_loss: 5.3398 - val_acc: 0.0000e+00 - val_mean_squared_error: 45.0667\n",
      "Epoch 233/500\n",
      "2410/2410 [==============================] - 1s 471us/step - loss: 5.0931 - acc: 0.0025 - mean_squared_error: 44.4058 - val_loss: 4.7239 - val_acc: 0.0077 - val_mean_squared_error: 39.0611\n",
      "Epoch 234/500\n",
      "2410/2410 [==============================] - 1s 440us/step - loss: 5.1795 - acc: 0.0021 - mean_squared_error: 45.6809 - val_loss: 4.7740 - val_acc: 0.0000e+00 - val_mean_squared_error: 38.3441\n"
     ]
    },
    {
     "name": "stdout",
     "output_type": "stream",
     "text": [
      "Epoch 235/500\n",
      "2410/2410 [==============================] - 1s 566us/step - loss: 5.8419 - acc: 4.1494e-04 - mean_squared_error: 55.8459 - val_loss: 7.8837 - val_acc: 0.0000e+00 - val_mean_squared_error: 91.8758\n",
      "Epoch 236/500\n",
      "2410/2410 [==============================] - 1s 522us/step - loss: 5.3480 - acc: 0.0029 - mean_squared_error: 48.2895 - val_loss: 5.9387 - val_acc: 0.0000e+00 - val_mean_squared_error: 52.5159\n",
      "Epoch 237/500\n",
      "2410/2410 [==============================] - 1s 495us/step - loss: 5.1455 - acc: 0.0021 - mean_squared_error: 44.6813 - val_loss: 6.3556 - val_acc: 0.0000e+00 - val_mean_squared_error: 58.4111\n",
      "Epoch 238/500\n",
      "2410/2410 [==============================] - 1s 558us/step - loss: 5.1436 - acc: 8.2988e-04 - mean_squared_error: 45.2545 - val_loss: 5.2353 - val_acc: 0.0000e+00 - val_mean_squared_error: 43.4937\n",
      "Epoch 239/500\n",
      "2410/2410 [==============================] - 1s 496us/step - loss: 5.2175 - acc: 0.0050 - mean_squared_error: 46.2162 - val_loss: 5.3152 - val_acc: 0.0000e+00 - val_mean_squared_error: 49.1467\n",
      "Epoch 240/500\n",
      "2410/2410 [==============================] - 1s 429us/step - loss: 5.1676 - acc: 0.0025 - mean_squared_error: 45.3314 - val_loss: 7.2287 - val_acc: 0.0000e+00 - val_mean_squared_error: 74.9265\n",
      "Epoch 241/500\n",
      "2410/2410 [==============================] - 1s 590us/step - loss: 5.1120 - acc: 0.0037 - mean_squared_error: 45.6048 - val_loss: 5.1555 - val_acc: 0.0000e+00 - val_mean_squared_error: 44.3435\n",
      "Epoch 242/500\n",
      "2410/2410 [==============================] - 1s 602us/step - loss: 5.4773 - acc: 0.0021 - mean_squared_error: 50.4246 - val_loss: 4.6973 - val_acc: 0.0029 - val_mean_squared_error: 37.7438\n",
      "Epoch 243/500\n",
      "2410/2410 [==============================] - 1s 501us/step - loss: 5.5221 - acc: 0.0033 - mean_squared_error: 50.8131 - val_loss: 5.2523 - val_acc: 0.0000e+00 - val_mean_squared_error: 45.6223\n",
      "Epoch 244/500\n",
      "2410/2410 [==============================] - 1s 559us/step - loss: 4.9311 - acc: 0.0050 - mean_squared_error: 42.6321 - val_loss: 4.9222 - val_acc: 0.0000e+00 - val_mean_squared_error: 40.1938\n",
      "Epoch 245/500\n",
      "2410/2410 [==============================] - 2s 643us/step - loss: 4.8019 - acc: 0.0012 - mean_squared_error: 41.0987 - val_loss: 4.9424 - val_acc: 0.0000e+00 - val_mean_squared_error: 39.7498\n",
      "Epoch 246/500\n",
      "2410/2410 [==============================] - 1s 477us/step - loss: 4.7844 - acc: 0.0029 - mean_squared_error: 40.8604 - val_loss: 4.8842 - val_acc: 0.0019 - val_mean_squared_error: 38.8969\n",
      "Epoch 247/500\n",
      "2410/2410 [==============================] - 1s 529us/step - loss: 5.9744 - acc: 0.0012 - mean_squared_error: 58.0426 - val_loss: 6.3854 - val_acc: 0.0000e+00 - val_mean_squared_error: 61.3091\n",
      "Epoch 248/500\n",
      "2410/2410 [==============================] - 1s 502us/step - loss: 4.9221 - acc: 8.2988e-04 - mean_squared_error: 41.4896 - val_loss: 4.5295 - val_acc: 0.0000e+00 - val_mean_squared_error: 35.7940\n",
      "Epoch 249/500\n",
      "2410/2410 [==============================] - 1s 520us/step - loss: 4.7397 - acc: 0.0046 - mean_squared_error: 39.9206 - val_loss: 4.7971 - val_acc: 9.6712e-04 - val_mean_squared_error: 41.2400\n",
      "Epoch 250/500\n",
      "2410/2410 [==============================] - 1s 460us/step - loss: 4.8290 - acc: 0.0025 - mean_squared_error: 41.4904 - val_loss: 4.4749 - val_acc: 0.0000e+00 - val_mean_squared_error: 35.4322\n",
      "Epoch 251/500\n",
      "2410/2410 [==============================] - 1s 461us/step - loss: 4.9971 - acc: 0.0017 - mean_squared_error: 42.7792 - val_loss: 5.1128 - val_acc: 0.0000e+00 - val_mean_squared_error: 41.3973\n",
      "Epoch 252/500\n",
      "2410/2410 [==============================] - 1s 496us/step - loss: 5.2892 - acc: 0.0029 - mean_squared_error: 47.7716 - val_loss: 5.1798 - val_acc: 0.0000e+00 - val_mean_squared_error: 43.3773\n",
      "Epoch 253/500\n",
      "2410/2410 [==============================] - 1s 538us/step - loss: 4.9884 - acc: 0.0017 - mean_squared_error: 43.0392 - val_loss: 5.8698 - val_acc: 0.0000e+00 - val_mean_squared_error: 59.2112\n",
      "Epoch 254/500\n",
      "2410/2410 [==============================] - 1s 394us/step - loss: 5.1588 - acc: 0.0054 - mean_squared_error: 45.4032 - val_loss: 4.5320 - val_acc: 9.6712e-04 - val_mean_squared_error: 35.3679\n",
      "Epoch 255/500\n",
      "2410/2410 [==============================] - 1s 479us/step - loss: 4.7674 - acc: 0.0017 - mean_squared_error: 40.1324 - val_loss: 5.5124 - val_acc: 0.0000e+00 - val_mean_squared_error: 46.5655\n",
      "Epoch 256/500\n",
      "2410/2410 [==============================] - 1s 501us/step - loss: 4.9658 - acc: 0.0017 - mean_squared_error: 42.9128 - val_loss: 4.6135 - val_acc: 9.6712e-04 - val_mean_squared_error: 36.2237\n",
      "Epoch 257/500\n",
      "2410/2410 [==============================] - 1s 506us/step - loss: 4.9637 - acc: 0.0050 - mean_squared_error: 42.8325 - val_loss: 4.4390 - val_acc: 0.0019 - val_mean_squared_error: 34.9796\n",
      "Epoch 258/500\n",
      "2410/2410 [==============================] - 1s 550us/step - loss: 4.9020 - acc: 0.0012 - mean_squared_error: 42.5722 - val_loss: 5.0235 - val_acc: 0.0000e+00 - val_mean_squared_error: 42.2445\n",
      "Epoch 259/500\n",
      "2410/2410 [==============================] - 1s 479us/step - loss: 5.3470 - acc: 0.0012 - mean_squared_error: 48.4738 - val_loss: 6.0720 - val_acc: 0.0000e+00 - val_mean_squared_error: 60.3574\n",
      "Epoch 260/500\n",
      "2410/2410 [==============================] - 1s 538us/step - loss: 5.2625 - acc: 8.2988e-04 - mean_squared_error: 46.2719 - val_loss: 4.5883 - val_acc: 0.0000e+00 - val_mean_squared_error: 37.4060\n",
      "Epoch 261/500\n",
      "2410/2410 [==============================] - 1s 551us/step - loss: 4.8326 - acc: 0.0029 - mean_squared_error: 40.1070 - val_loss: 4.7530 - val_acc: 9.6712e-04 - val_mean_squared_error: 38.0044\n",
      "Epoch 262/500\n",
      "2410/2410 [==============================] - 1s 546us/step - loss: 5.0868 - acc: 0.0017 - mean_squared_error: 44.7460 - val_loss: 5.9361 - val_acc: 0.0000e+00 - val_mean_squared_error: 53.1430\n",
      "Epoch 263/500\n",
      "2410/2410 [==============================] - 1s 458us/step - loss: 5.5155 - acc: 0.0012 - mean_squared_error: 50.1128 - val_loss: 4.5215 - val_acc: 0.0019 - val_mean_squared_error: 35.4145\n",
      "Epoch 264/500\n",
      "2410/2410 [==============================] - 1s 459us/step - loss: 5.2946 - acc: 4.1494e-04 - mean_squared_error: 47.5508 - val_loss: 7.1568 - val_acc: 0.0000e+00 - val_mean_squared_error: 72.0909\n",
      "Epoch 265/500\n",
      "2410/2410 [==============================] - 1s 517us/step - loss: 4.9388 - acc: 0.0017 - mean_squared_error: 42.2207 - val_loss: 4.9368 - val_acc: 9.6712e-04 - val_mean_squared_error: 43.7217\n",
      "Epoch 266/500\n",
      "2410/2410 [==============================] - 1s 539us/step - loss: 5.0794 - acc: 0.0029 - mean_squared_error: 43.7412 - val_loss: 5.1831 - val_acc: 0.0000e+00 - val_mean_squared_error: 44.6012\n",
      "Epoch 267/500\n",
      "2410/2410 [==============================] - 1s 542us/step - loss: 5.0363 - acc: 0.0029 - mean_squared_error: 42.9925 - val_loss: 5.1059 - val_acc: 0.0000e+00 - val_mean_squared_error: 44.4700\n",
      "Epoch 268/500\n",
      "2410/2410 [==============================] - 1s 483us/step - loss: 5.1174 - acc: 0.0012 - mean_squared_error: 44.6299 - val_loss: 7.5964 - val_acc: 0.0000e+00 - val_mean_squared_error: 80.0788\n",
      "Epoch 269/500\n",
      "2410/2410 [==============================] - 1s 614us/step - loss: 4.7913 - acc: 0.0058 - mean_squared_error: 40.5930 - val_loss: 4.4191 - val_acc: 0.0019 - val_mean_squared_error: 35.4191\n",
      "Epoch 270/500\n",
      "2410/2410 [==============================] - 1s 568us/step - loss: 4.7808 - acc: 0.0037 - mean_squared_error: 40.2051 - val_loss: 6.5388 - val_acc: 0.0000e+00 - val_mean_squared_error: 65.7439\n",
      "Epoch 271/500\n",
      "2410/2410 [==============================] - 1s 548us/step - loss: 5.0696 - acc: 0.0012 - mean_squared_error: 44.0014 - val_loss: 5.9366 - val_acc: 0.0000e+00 - val_mean_squared_error: 52.1461\n",
      "Epoch 272/500\n",
      "2410/2410 [==============================] - 1s 495us/step - loss: 4.8802 - acc: 0.0033 - mean_squared_error: 41.5133 - val_loss: 4.9867 - val_acc: 9.6712e-04 - val_mean_squared_error: 41.1508\n",
      "Epoch 273/500\n",
      "2410/2410 [==============================] - 1s 602us/step - loss: 4.8308 - acc: 0.0058 - mean_squared_error: 40.7160 - val_loss: 4.7739 - val_acc: 0.0000e+00 - val_mean_squared_error: 38.3414\n",
      "Epoch 274/500\n"
     ]
    },
    {
     "name": "stdout",
     "output_type": "stream",
     "text": [
      "2410/2410 [==============================] - 1s 415us/step - loss: 4.9643 - acc: 0.0033 - mean_squared_error: 42.1679 - val_loss: 4.4253 - val_acc: 0.0000e+00 - val_mean_squared_error: 34.5987\n",
      "Epoch 275/500\n",
      "2410/2410 [==============================] - 1s 402us/step - loss: 4.6775 - acc: 0.0033 - mean_squared_error: 38.5367 - val_loss: 4.4201 - val_acc: 0.0106 - val_mean_squared_error: 34.9856\n",
      "Epoch 276/500\n",
      "2410/2410 [==============================] - 1s 501us/step - loss: 5.4087 - acc: 0.0033 - mean_squared_error: 48.4636 - val_loss: 4.5030 - val_acc: 9.6712e-04 - val_mean_squared_error: 35.6640\n",
      "Epoch 277/500\n",
      "2410/2410 [==============================] - 1s 528us/step - loss: 5.2804 - acc: 0.0021 - mean_squared_error: 46.0246 - val_loss: 6.9837 - val_acc: 0.0000e+00 - val_mean_squared_error: 68.2980\n",
      "Epoch 278/500\n",
      "2410/2410 [==============================] - 1s 467us/step - loss: 5.3451 - acc: 0.0025 - mean_squared_error: 48.0520 - val_loss: 4.5668 - val_acc: 0.0135 - val_mean_squared_error: 36.9491\n",
      "Epoch 279/500\n",
      "2410/2410 [==============================] - 1s 508us/step - loss: 4.5519 - acc: 0.0062 - mean_squared_error: 37.5728 - val_loss: 4.5723 - val_acc: 9.6712e-04 - val_mean_squared_error: 36.8026\n",
      "Epoch 280/500\n",
      "2410/2410 [==============================] - 1s 501us/step - loss: 4.9538 - acc: 0.0017 - mean_squared_error: 41.6609 - val_loss: 5.5939 - val_acc: 0.0000e+00 - val_mean_squared_error: 48.4553\n",
      "Epoch 281/500\n",
      "2410/2410 [==============================] - 1s 508us/step - loss: 5.3126 - acc: 0.0058 - mean_squared_error: 47.2593 - val_loss: 4.6451 - val_acc: 0.0019 - val_mean_squared_error: 36.7861\n",
      "Epoch 282/500\n",
      "2410/2410 [==============================] - 1s 483us/step - loss: 5.0876 - acc: 0.0037 - mean_squared_error: 44.0768 - val_loss: 4.8254 - val_acc: 0.0000e+00 - val_mean_squared_error: 41.4434\n",
      "Epoch 283/500\n",
      "2410/2410 [==============================] - 1s 488us/step - loss: 5.2095 - acc: 0.0012 - mean_squared_error: 46.0148 - val_loss: 4.9552 - val_acc: 0.0058 - val_mean_squared_error: 40.7956\n",
      "Epoch 284/500\n",
      "2410/2410 [==============================] - 1s 493us/step - loss: 4.5606 - acc: 0.0066 - mean_squared_error: 37.4709 - val_loss: 4.6170 - val_acc: 9.6712e-04 - val_mean_squared_error: 35.9736\n",
      "Epoch 285/500\n",
      "2410/2410 [==============================] - 1s 459us/step - loss: 5.0453 - acc: 0.0037 - mean_squared_error: 43.6652 - val_loss: 7.4328 - val_acc: 0.0000e+00 - val_mean_squared_error: 81.9447\n",
      "Epoch 286/500\n",
      "2410/2410 [==============================] - 1s 470us/step - loss: 4.8221 - acc: 0.0046 - mean_squared_error: 40.2338 - val_loss: 4.9416 - val_acc: 9.6712e-04 - val_mean_squared_error: 40.5497\n",
      "Epoch 287/500\n",
      "2410/2410 [==============================] - 1s 510us/step - loss: 4.5691 - acc: 0.0050 - mean_squared_error: 37.6714 - val_loss: 4.4965 - val_acc: 0.0048 - val_mean_squared_error: 35.9669\n",
      "Epoch 288/500\n",
      "2410/2410 [==============================] - 1s 542us/step - loss: 4.7448 - acc: 0.0046 - mean_squared_error: 39.5142 - val_loss: 5.0183 - val_acc: 0.0000e+00 - val_mean_squared_error: 41.7184\n",
      "Epoch 289/500\n",
      "2410/2410 [==============================] - 1s 418us/step - loss: 4.7901 - acc: 0.0033 - mean_squared_error: 40.0192 - val_loss: 5.1003 - val_acc: 0.0000e+00 - val_mean_squared_error: 43.4616\n",
      "Epoch 290/500\n",
      "2410/2410 [==============================] - 1s 503us/step - loss: 4.6441 - acc: 0.0025 - mean_squared_error: 38.5439 - val_loss: 4.9241 - val_acc: 0.0000e+00 - val_mean_squared_error: 40.6940\n",
      "Epoch 291/500\n",
      "2410/2410 [==============================] - 1s 496us/step - loss: 4.9225 - acc: 8.2988e-04 - mean_squared_error: 41.4355 - val_loss: 4.8964 - val_acc: 0.0000e+00 - val_mean_squared_error: 38.9400\n",
      "Epoch 292/500\n",
      "2410/2410 [==============================] - 1s 557us/step - loss: 4.7952 - acc: 0.0029 - mean_squared_error: 40.4758 - val_loss: 5.5920 - val_acc: 0.0000e+00 - val_mean_squared_error: 47.9429\n",
      "Epoch 293/500\n",
      "2410/2410 [==============================] - 1s 556us/step - loss: 4.7945 - acc: 0.0033 - mean_squared_error: 40.7532 - val_loss: 4.7520 - val_acc: 0.0000e+00 - val_mean_squared_error: 37.2725\n",
      "Epoch 294/500\n",
      "2410/2410 [==============================] - 1s 577us/step - loss: 4.7805 - acc: 0.0021 - mean_squared_error: 39.6296 - val_loss: 6.0347 - val_acc: 0.0000e+00 - val_mean_squared_error: 55.1134\n",
      "Epoch 295/500\n",
      "2410/2410 [==============================] - 1s 447us/step - loss: 5.1826 - acc: 0.0029 - mean_squared_error: 44.9631 - val_loss: 4.6705 - val_acc: 0.0019 - val_mean_squared_error: 40.7916\n",
      "Epoch 296/500\n",
      "2410/2410 [==============================] - 1s 389us/step - loss: 4.6666 - acc: 0.0041 - mean_squared_error: 38.2164 - val_loss: 6.1061 - val_acc: 0.0000e+00 - val_mean_squared_error: 57.8681\n",
      "Epoch 297/500\n",
      "2410/2410 [==============================] - 1s 549us/step - loss: 5.2102 - acc: 0.0037 - mean_squared_error: 46.7888 - val_loss: 5.2488 - val_acc: 0.0000e+00 - val_mean_squared_error: 45.9658\n",
      "Epoch 298/500\n",
      "2410/2410 [==============================] - 1s 473us/step - loss: 4.5610 - acc: 0.0041 - mean_squared_error: 36.9980 - val_loss: 4.3275 - val_acc: 0.0000e+00 - val_mean_squared_error: 32.8818\n",
      "Epoch 299/500\n",
      "2410/2410 [==============================] - 1s 409us/step - loss: 4.7563 - acc: 0.0017 - mean_squared_error: 39.8515 - val_loss: 5.3646 - val_acc: 0.0000e+00 - val_mean_squared_error: 45.3462\n",
      "Epoch 300/500\n",
      "2410/2410 [==============================] - 1s 448us/step - loss: 5.2765 - acc: 0.0041 - mean_squared_error: 46.4081 - val_loss: 5.0115 - val_acc: 9.6712e-04 - val_mean_squared_error: 41.3385\n",
      "Epoch 301/500\n",
      "2410/2410 [==============================] - 1s 555us/step - loss: 4.7513 - acc: 0.0021 - mean_squared_error: 40.2118 - val_loss: 4.3464 - val_acc: 0.0019 - val_mean_squared_error: 33.3241\n",
      "Epoch 302/500\n",
      "2410/2410 [==============================] - 1s 570us/step - loss: 4.6754 - acc: 0.0012 - mean_squared_error: 38.9643 - val_loss: 6.0026 - val_acc: 0.0000e+00 - val_mean_squared_error: 53.7767\n",
      "Epoch 303/500\n",
      "2410/2410 [==============================] - 1s 580us/step - loss: 4.9339 - acc: 0.0033 - mean_squared_error: 41.7703 - val_loss: 5.3048 - val_acc: 0.0000e+00 - val_mean_squared_error: 45.0431\n",
      "Epoch 304/500\n",
      "2410/2410 [==============================] - 1s 491us/step - loss: 4.8360 - acc: 0.0012 - mean_squared_error: 40.7156 - val_loss: 4.4220 - val_acc: 0.0000e+00 - val_mean_squared_error: 36.5712\n",
      "Epoch 305/500\n",
      "2410/2410 [==============================] - 1s 537us/step - loss: 5.5862 - acc: 0.0000e+00 - mean_squared_error: 50.9603 - val_loss: 5.7260 - val_acc: 9.6712e-04 - val_mean_squared_error: 51.8716\n",
      "Epoch 306/500\n",
      "2410/2410 [==============================] - 1s 537us/step - loss: 5.5061 - acc: 0.0012 - mean_squared_error: 50.4642 - val_loss: 5.6950 - val_acc: 0.0000e+00 - val_mean_squared_error: 49.6951\n",
      "Epoch 307/500\n",
      "2410/2410 [==============================] - 1s 391us/step - loss: 4.5408 - acc: 0.0058 - mean_squared_error: 36.9245 - val_loss: 6.5181 - val_acc: 0.0000e+00 - val_mean_squared_error: 68.6712\n",
      "Epoch 308/500\n",
      "2410/2410 [==============================] - 1s 470us/step - loss: 4.9463 - acc: 4.1494e-04 - mean_squared_error: 42.1463 - val_loss: 4.4530 - val_acc: 0.0000e+00 - val_mean_squared_error: 35.6976\n",
      "Epoch 309/500\n",
      "2410/2410 [==============================] - 1s 522us/step - loss: 4.4598 - acc: 0.0033 - mean_squared_error: 35.4978 - val_loss: 4.4872 - val_acc: 9.6712e-04 - val_mean_squared_error: 37.3047\n",
      "Epoch 310/500\n",
      "2410/2410 [==============================] - 1s 503us/step - loss: 4.7197 - acc: 0.0017 - mean_squared_error: 39.3204 - val_loss: 5.0972 - val_acc: 0.0000e+00 - val_mean_squared_error: 41.4942\n",
      "Epoch 311/500\n",
      "2410/2410 [==============================] - 1s 514us/step - loss: 4.7936 - acc: 0.0037 - mean_squared_error: 40.1075 - val_loss: 4.5342 - val_acc: 0.0000e+00 - val_mean_squared_error: 36.3572\n",
      "Epoch 312/500\n",
      "2410/2410 [==============================] - 1s 453us/step - loss: 4.7126 - acc: 0.0012 - mean_squared_error: 38.2463 - val_loss: 4.3469 - val_acc: 0.0145 - val_mean_squared_error: 34.2232\n",
      "Epoch 313/500\n",
      "2410/2410 [==============================] - 2s 625us/step - loss: 5.2367 - acc: 0.0017 - mean_squared_error: 45.2500 - val_loss: 5.1927 - val_acc: 0.0000e+00 - val_mean_squared_error: 48.8025\n"
     ]
    },
    {
     "name": "stdout",
     "output_type": "stream",
     "text": [
      "Epoch 314/500\n",
      "2410/2410 [==============================] - 1s 488us/step - loss: 4.9720 - acc: 0.0012 - mean_squared_error: 41.8563 - val_loss: 5.6647 - val_acc: 0.0000e+00 - val_mean_squared_error: 48.7615\n",
      "Epoch 315/500\n",
      "2410/2410 [==============================] - 1s 547us/step - loss: 4.9264 - acc: 0.0029 - mean_squared_error: 42.2246 - val_loss: 4.9273 - val_acc: 9.6712e-04 - val_mean_squared_error: 45.5944\n",
      "Epoch 316/500\n",
      "2410/2410 [==============================] - 1s 490us/step - loss: 5.1397 - acc: 0.0017 - mean_squared_error: 44.2357 - val_loss: 4.5226 - val_acc: 0.0019 - val_mean_squared_error: 35.0239\n",
      "Epoch 317/500\n",
      "2410/2410 [==============================] - 1s 459us/step - loss: 4.7069 - acc: 0.0029 - mean_squared_error: 38.9859 - val_loss: 4.3447 - val_acc: 9.6712e-04 - val_mean_squared_error: 33.5261\n",
      "Epoch 318/500\n",
      "2410/2410 [==============================] - 1s 503us/step - loss: 4.7522 - acc: 0.0017 - mean_squared_error: 39.1267 - val_loss: 4.8645 - val_acc: 0.0000e+00 - val_mean_squared_error: 39.1157\n",
      "Epoch 319/500\n",
      "2410/2410 [==============================] - 1s 494us/step - loss: 4.8629 - acc: 0.0021 - mean_squared_error: 40.3176 - val_loss: 6.2151 - val_acc: 0.0000e+00 - val_mean_squared_error: 62.0162\n",
      "Epoch 320/500\n",
      "2410/2410 [==============================] - 1s 524us/step - loss: 4.9324 - acc: 0.0029 - mean_squared_error: 40.9925 - val_loss: 4.1953 - val_acc: 0.0145 - val_mean_squared_error: 32.1131\n",
      "Epoch 321/500\n",
      "2410/2410 [==============================] - 1s 488us/step - loss: 5.5257 - acc: 0.0025 - mean_squared_error: 50.4047 - val_loss: 4.6691 - val_acc: 0.0000e+00 - val_mean_squared_error: 36.9862\n",
      "Epoch 322/500\n",
      "2410/2410 [==============================] - 1s 433us/step - loss: 4.9159 - acc: 4.1494e-04 - mean_squared_error: 41.4972 - val_loss: 4.3659 - val_acc: 0.0126 - val_mean_squared_error: 33.4624\n",
      "Epoch 323/500\n",
      "2410/2410 [==============================] - 1s 449us/step - loss: 4.7202 - acc: 0.0033 - mean_squared_error: 38.7265 - val_loss: 4.2114 - val_acc: 9.6712e-04 - val_mean_squared_error: 32.1150\n",
      "Epoch 324/500\n",
      "2410/2410 [==============================] - 2s 641us/step - loss: 4.5615 - acc: 0.0021 - mean_squared_error: 36.9864 - val_loss: 4.3304 - val_acc: 9.6712e-04 - val_mean_squared_error: 33.4497\n",
      "Epoch 325/500\n",
      "2410/2410 [==============================] - 1s 411us/step - loss: 4.6013 - acc: 0.0029 - mean_squared_error: 37.4468 - val_loss: 4.4939 - val_acc: 0.0019 - val_mean_squared_error: 34.9039\n",
      "Epoch 326/500\n",
      "2410/2410 [==============================] - 1s 598us/step - loss: 5.0254 - acc: 0.0054 - mean_squared_error: 42.4547 - val_loss: 5.7577 - val_acc: 0.0000e+00 - val_mean_squared_error: 55.6909\n",
      "Epoch 327/500\n",
      "2410/2410 [==============================] - 1s 525us/step - loss: 4.5819 - acc: 0.0029 - mean_squared_error: 36.7315 - val_loss: 4.3324 - val_acc: 9.6712e-04 - val_mean_squared_error: 34.1683\n",
      "Epoch 328/500\n",
      "2410/2410 [==============================] - 1s 523us/step - loss: 4.8093 - acc: 0.0025 - mean_squared_error: 39.1072 - val_loss: 4.7280 - val_acc: 0.0000e+00 - val_mean_squared_error: 37.6669\n",
      "Epoch 329/500\n",
      "2410/2410 [==============================] - 1s 495us/step - loss: 4.6812 - acc: 0.0041 - mean_squared_error: 38.8625 - val_loss: 4.7865 - val_acc: 0.0000e+00 - val_mean_squared_error: 41.9139\n",
      "Epoch 330/500\n",
      "2410/2410 [==============================] - 1s 509us/step - loss: 4.5577 - acc: 8.2988e-04 - mean_squared_error: 36.4964 - val_loss: 4.5601 - val_acc: 9.6712e-04 - val_mean_squared_error: 36.6584\n",
      "Epoch 331/500\n",
      "2410/2410 [==============================] - 1s 545us/step - loss: 5.0923 - acc: 0.0021 - mean_squared_error: 43.7033 - val_loss: 5.5239 - val_acc: 0.0000e+00 - val_mean_squared_error: 50.5136\n",
      "Epoch 332/500\n",
      "2410/2410 [==============================] - 1s 521us/step - loss: 4.7653 - acc: 0.0017 - mean_squared_error: 39.7278 - val_loss: 4.2482 - val_acc: 0.0029 - val_mean_squared_error: 32.5493\n",
      "Epoch 333/500\n",
      "2410/2410 [==============================] - 1s 391us/step - loss: 4.4899 - acc: 0.0083 - mean_squared_error: 35.9504 - val_loss: 4.4489 - val_acc: 9.6712e-04 - val_mean_squared_error: 34.2418\n",
      "Epoch 334/500\n",
      "2410/2410 [==============================] - 1s 615us/step - loss: 4.8918 - acc: 0.0012 - mean_squared_error: 39.9953 - val_loss: 4.6141 - val_acc: 0.0000e+00 - val_mean_squared_error: 40.1976\n",
      "Epoch 335/500\n",
      "2410/2410 [==============================] - 1s 512us/step - loss: 4.9273 - acc: 0.0037 - mean_squared_error: 41.4038 - val_loss: 4.5559 - val_acc: 9.6712e-04 - val_mean_squared_error: 36.7025\n",
      "Epoch 336/500\n",
      "2410/2410 [==============================] - 1s 445us/step - loss: 4.9074 - acc: 0.0025 - mean_squared_error: 40.9901 - val_loss: 4.4044 - val_acc: 0.0077 - val_mean_squared_error: 33.2310\n",
      "Epoch 337/500\n",
      "2410/2410 [==============================] - 1s 568us/step - loss: 4.9505 - acc: 0.0054 - mean_squared_error: 42.3296 - val_loss: 4.5100 - val_acc: 9.6712e-04 - val_mean_squared_error: 35.8705\n",
      "Epoch 338/500\n",
      "2410/2410 [==============================] - 1s 503us/step - loss: 4.6685 - acc: 0.0025 - mean_squared_error: 37.3419 - val_loss: 4.2588 - val_acc: 0.0106 - val_mean_squared_error: 32.6997\n",
      "Epoch 339/500\n",
      "2410/2410 [==============================] - 1s 441us/step - loss: 4.4105 - acc: 0.0033 - mean_squared_error: 34.7561 - val_loss: 5.8840 - val_acc: 0.0000e+00 - val_mean_squared_error: 55.5259\n",
      "Epoch 340/500\n",
      "2410/2410 [==============================] - 1s 586us/step - loss: 4.8256 - acc: 0.0037 - mean_squared_error: 39.9900 - val_loss: 4.4756 - val_acc: 0.0000e+00 - val_mean_squared_error: 34.8641\n",
      "Epoch 341/500\n",
      "2410/2410 [==============================] - 1s 540us/step - loss: 4.5649 - acc: 0.0037 - mean_squared_error: 36.7020 - val_loss: 5.2204 - val_acc: 0.0000e+00 - val_mean_squared_error: 43.4076\n",
      "Epoch 342/500\n",
      "2410/2410 [==============================] - 1s 471us/step - loss: 4.7068 - acc: 0.0012 - mean_squared_error: 38.7887 - val_loss: 7.0798 - val_acc: 0.0000e+00 - val_mean_squared_error: 78.6075\n",
      "Epoch 343/500\n",
      "2410/2410 [==============================] - 1s 405us/step - loss: 5.4128 - acc: 0.0025 - mean_squared_error: 47.7376 - val_loss: 7.9123 - val_acc: 0.0000e+00 - val_mean_squared_error: 85.4693\n",
      "Epoch 344/500\n",
      "2410/2410 [==============================] - 1s 481us/step - loss: 5.0530 - acc: 0.0025 - mean_squared_error: 43.2097 - val_loss: 4.6717 - val_acc: 9.6712e-04 - val_mean_squared_error: 36.0937\n",
      "Epoch 345/500\n",
      "2410/2410 [==============================] - 1s 555us/step - loss: 4.6107 - acc: 0.0041 - mean_squared_error: 37.6728 - val_loss: 4.2158 - val_acc: 0.0135 - val_mean_squared_error: 32.0295\n",
      "Epoch 346/500\n",
      "2410/2410 [==============================] - 1s 584us/step - loss: 4.6268 - acc: 0.0025 - mean_squared_error: 37.3766 - val_loss: 4.9735 - val_acc: 0.0000e+00 - val_mean_squared_error: 39.5586\n",
      "Epoch 347/500\n",
      "2410/2410 [==============================] - 1s 563us/step - loss: 4.5973 - acc: 8.2988e-04 - mean_squared_error: 37.5551 - val_loss: 4.6127 - val_acc: 0.0000e+00 - val_mean_squared_error: 35.4976\n",
      "Epoch 348/500\n",
      "2410/2410 [==============================] - 1s 508us/step - loss: 4.6545 - acc: 0.0041 - mean_squared_error: 37.8405 - val_loss: 4.5976 - val_acc: 0.0000e+00 - val_mean_squared_error: 35.3464\n",
      "Epoch 349/500\n",
      "2410/2410 [==============================] - 1s 547us/step - loss: 4.6529 - acc: 0.0046 - mean_squared_error: 37.1600 - val_loss: 4.4719 - val_acc: 0.0000e+00 - val_mean_squared_error: 35.7159\n",
      "Epoch 350/500\n",
      "2410/2410 [==============================] - 1s 490us/step - loss: 5.2101 - acc: 8.2988e-04 - mean_squared_error: 45.6236 - val_loss: 4.3333 - val_acc: 0.0000e+00 - val_mean_squared_error: 33.5685\n",
      "Epoch 351/500\n",
      "2410/2410 [==============================] - 1s 538us/step - loss: 4.3734 - acc: 0.0037 - mean_squared_error: 34.1957 - val_loss: 4.1835 - val_acc: 0.0029 - val_mean_squared_error: 32.0352\n",
      "Epoch 352/500\n",
      "2410/2410 [==============================] - 1s 569us/step - loss: 4.3826 - acc: 0.0046 - mean_squared_error: 34.2063 - val_loss: 4.2164 - val_acc: 0.0155 - val_mean_squared_error: 33.2208\n",
      "Epoch 353/500\n",
      "2410/2410 [==============================] - 1s 435us/step - loss: 5.1071 - acc: 0.0012 - mean_squared_error: 43.8982 - val_loss: 5.5246 - val_acc: 0.0000e+00 - val_mean_squared_error: 46.7754\n"
     ]
    },
    {
     "name": "stdout",
     "output_type": "stream",
     "text": [
      "Epoch 354/500\n",
      "2410/2410 [==============================] - 1s 570us/step - loss: 4.4766 - acc: 0.0062 - mean_squared_error: 36.0558 - val_loss: 4.2330 - val_acc: 0.0000e+00 - val_mean_squared_error: 32.9305\n",
      "Epoch 355/500\n",
      "2410/2410 [==============================] - 1s 430us/step - loss: 4.3979 - acc: 0.0041 - mean_squared_error: 34.7462 - val_loss: 4.5626 - val_acc: 0.0000e+00 - val_mean_squared_error: 35.0085\n",
      "Epoch 356/500\n",
      "2410/2410 [==============================] - 1s 472us/step - loss: 4.7793 - acc: 8.2988e-04 - mean_squared_error: 39.4056 - val_loss: 4.2783 - val_acc: 0.0019 - val_mean_squared_error: 32.6137\n",
      "Epoch 357/500\n",
      "2410/2410 [==============================] - 1s 461us/step - loss: 4.4675 - acc: 0.0054 - mean_squared_error: 35.7647 - val_loss: 4.1721 - val_acc: 0.0145 - val_mean_squared_error: 31.5825\n",
      "Epoch 358/500\n",
      "2410/2410 [==============================] - 1s 580us/step - loss: 4.4367 - acc: 0.0041 - mean_squared_error: 35.4472 - val_loss: 4.3051 - val_acc: 9.6712e-04 - val_mean_squared_error: 31.9903\n",
      "Epoch 359/500\n",
      "2410/2410 [==============================] - 1s 548us/step - loss: 4.3998 - acc: 0.0041 - mean_squared_error: 34.1094 - val_loss: 4.4664 - val_acc: 0.0000e+00 - val_mean_squared_error: 36.3033\n",
      "Epoch 360/500\n",
      "2410/2410 [==============================] - 1s 435us/step - loss: 4.5634 - acc: 0.0017 - mean_squared_error: 36.4052 - val_loss: 4.6715 - val_acc: 0.0000e+00 - val_mean_squared_error: 36.5495\n",
      "Epoch 361/500\n",
      "2410/2410 [==============================] - 1s 431us/step - loss: 4.3383 - acc: 0.0033 - mean_squared_error: 34.0413 - val_loss: 4.1554 - val_acc: 9.6712e-04 - val_mean_squared_error: 31.4355\n",
      "Epoch 362/500\n",
      "2410/2410 [==============================] - 1s 510us/step - loss: 4.2235 - acc: 0.0021 - mean_squared_error: 32.5313 - val_loss: 4.2787 - val_acc: 0.0000e+00 - val_mean_squared_error: 33.0394\n",
      "Epoch 363/500\n",
      "2410/2410 [==============================] - 1s 486us/step - loss: 4.6952 - acc: 0.0025 - mean_squared_error: 37.8561 - val_loss: 5.7513 - val_acc: 0.0000e+00 - val_mean_squared_error: 50.1302\n",
      "Epoch 364/500\n",
      "2410/2410 [==============================] - 1s 520us/step - loss: 4.5195 - acc: 0.0021 - mean_squared_error: 36.0877 - val_loss: 4.8360 - val_acc: 0.0000e+00 - val_mean_squared_error: 41.2966\n",
      "Epoch 365/500\n",
      "2410/2410 [==============================] - 1s 466us/step - loss: 4.7639 - acc: 0.0000e+00 - mean_squared_error: 38.6197 - val_loss: 4.5393 - val_acc: 0.0000e+00 - val_mean_squared_error: 35.7594\n",
      "Epoch 366/500\n",
      "2410/2410 [==============================] - 1s 584us/step - loss: 4.8607 - acc: 0.0021 - mean_squared_error: 40.1346 - val_loss: 4.1889 - val_acc: 9.6712e-04 - val_mean_squared_error: 31.2288\n",
      "Epoch 367/500\n",
      "2410/2410 [==============================] - 1s 528us/step - loss: 4.8100 - acc: 0.0025 - mean_squared_error: 39.1568 - val_loss: 7.0760 - val_acc: 0.0000e+00 - val_mean_squared_error: 75.1059\n",
      "Epoch 368/500\n",
      "2410/2410 [==============================] - 1s 424us/step - loss: 4.8643 - acc: 0.0046 - mean_squared_error: 40.4646 - val_loss: 4.3610 - val_acc: 9.6712e-04 - val_mean_squared_error: 33.6518\n",
      "Epoch 369/500\n",
      "2410/2410 [==============================] - 1s 583us/step - loss: 4.2688 - acc: 0.0033 - mean_squared_error: 32.9598 - val_loss: 4.2618 - val_acc: 0.0000e+00 - val_mean_squared_error: 32.2588\n",
      "Epoch 370/500\n",
      "2410/2410 [==============================] - 1s 525us/step - loss: 4.3523 - acc: 0.0033 - mean_squared_error: 33.9383 - val_loss: 4.7093 - val_acc: 0.0000e+00 - val_mean_squared_error: 38.2091\n",
      "Epoch 371/500\n",
      "2410/2410 [==============================] - 1s 441us/step - loss: 4.3549 - acc: 0.0050 - mean_squared_error: 34.3374 - val_loss: 4.1535 - val_acc: 9.6712e-04 - val_mean_squared_error: 31.4733\n",
      "Epoch 372/500\n",
      "2410/2410 [==============================] - 1s 596us/step - loss: 4.5709 - acc: 8.2988e-04 - mean_squared_error: 36.6596 - val_loss: 4.3612 - val_acc: 0.0000e+00 - val_mean_squared_error: 33.3849\n",
      "Epoch 373/500\n",
      "2410/2410 [==============================] - 1s 494us/step - loss: 4.4171 - acc: 0.0017 - mean_squared_error: 34.1791 - val_loss: 4.5901 - val_acc: 0.0000e+00 - val_mean_squared_error: 35.4147\n",
      "Epoch 374/500\n",
      "2410/2410 [==============================] - 1s 496us/step - loss: 4.5032 - acc: 0.0021 - mean_squared_error: 36.0240 - val_loss: 4.3105 - val_acc: 0.0000e+00 - val_mean_squared_error: 33.8381\n",
      "Epoch 375/500\n",
      "2410/2410 [==============================] - 1s 607us/step - loss: 4.8169 - acc: 0.0025 - mean_squared_error: 39.8493 - val_loss: 4.2090 - val_acc: 0.0000e+00 - val_mean_squared_error: 31.6812\n",
      "Epoch 376/500\n",
      "2410/2410 [==============================] - 1s 547us/step - loss: 4.8003 - acc: 0.0012 - mean_squared_error: 38.8971 - val_loss: 5.3954 - val_acc: 0.0000e+00 - val_mean_squared_error: 47.8449\n",
      "Epoch 377/500\n",
      "2410/2410 [==============================] - 2s 643us/step - loss: 4.4402 - acc: 0.0029 - mean_squared_error: 34.9236 - val_loss: 5.1687 - val_acc: 0.0000e+00 - val_mean_squared_error: 43.8721\n",
      "Epoch 378/500\n",
      "2410/2410 [==============================] - 1s 553us/step - loss: 4.4108 - acc: 0.0041 - mean_squared_error: 34.7254 - val_loss: 4.1329 - val_acc: 0.0135 - val_mean_squared_error: 32.0146\n",
      "Epoch 379/500\n",
      "2410/2410 [==============================] - 1s 607us/step - loss: 4.4951 - acc: 0.0021 - mean_squared_error: 35.2229 - val_loss: 4.3960 - val_acc: 0.0000e+00 - val_mean_squared_error: 34.6966\n",
      "Epoch 380/500\n",
      "2410/2410 [==============================] - 1s 510us/step - loss: 4.8804 - acc: 0.0017 - mean_squared_error: 40.4995 - val_loss: 4.2588 - val_acc: 0.0000e+00 - val_mean_squared_error: 33.6522\n",
      "Epoch 381/500\n",
      "2410/2410 [==============================] - 1s 512us/step - loss: 4.4511 - acc: 4.1494e-04 - mean_squared_error: 35.6008 - val_loss: 4.7205 - val_acc: 9.6712e-04 - val_mean_squared_error: 36.3470\n",
      "Epoch 382/500\n",
      "2410/2410 [==============================] - 2s 627us/step - loss: 4.8666 - acc: 0.0012 - mean_squared_error: 39.7985 - val_loss: 4.2134 - val_acc: 0.0000e+00 - val_mean_squared_error: 31.8281\n",
      "Epoch 383/500\n",
      "2410/2410 [==============================] - 1s 569us/step - loss: 4.6125 - acc: 0.0050 - mean_squared_error: 36.5403 - val_loss: 4.1370 - val_acc: 0.0155 - val_mean_squared_error: 30.4527\n",
      "Epoch 384/500\n",
      "2410/2410 [==============================] - 1s 548us/step - loss: 4.2682 - acc: 0.0041 - mean_squared_error: 32.4939 - val_loss: 4.2508 - val_acc: 0.0000e+00 - val_mean_squared_error: 32.0175\n",
      "Epoch 385/500\n",
      "2410/2410 [==============================] - 1s 502us/step - loss: 4.4203 - acc: 0.0017 - mean_squared_error: 34.5461 - val_loss: 4.5901 - val_acc: 0.0000e+00 - val_mean_squared_error: 34.8618\n",
      "Epoch 386/500\n",
      "2410/2410 [==============================] - 2s 709us/step - loss: 4.3524 - acc: 0.0041 - mean_squared_error: 33.9868 - val_loss: 4.0886 - val_acc: 0.0106 - val_mean_squared_error: 30.1929\n",
      "Epoch 387/500\n",
      "2410/2410 [==============================] - 1s 503us/step - loss: 4.2439 - acc: 0.0033 - mean_squared_error: 33.2937 - val_loss: 4.1031 - val_acc: 0.0155 - val_mean_squared_error: 31.1315\n",
      "Epoch 388/500\n",
      "2410/2410 [==============================] - 2s 644us/step - loss: 4.5552 - acc: 0.0029 - mean_squared_error: 36.3028 - val_loss: 4.2035 - val_acc: 0.0145 - val_mean_squared_error: 31.7083\n",
      "Epoch 389/500\n",
      "2410/2410 [==============================] - 1s 481us/step - loss: 4.8903 - acc: 0.0025 - mean_squared_error: 40.3122 - val_loss: 4.1682 - val_acc: 9.6712e-04 - val_mean_squared_error: 31.1903\n",
      "Epoch 390/500\n",
      "2410/2410 [==============================] - 1s 467us/step - loss: 4.9872 - acc: 0.0017 - mean_squared_error: 41.3120 - val_loss: 7.6749 - val_acc: 0.0000e+00 - val_mean_squared_error: 85.1962\n",
      "Epoch 391/500\n",
      "2410/2410 [==============================] - 1s 578us/step - loss: 5.1048 - acc: 8.2988e-04 - mean_squared_error: 43.6269 - val_loss: 4.0261 - val_acc: 0.0164 - val_mean_squared_error: 30.5993\n",
      "Epoch 392/500\n",
      "2410/2410 [==============================] - 1s 566us/step - loss: 4.3330 - acc: 0.0033 - mean_squared_error: 33.7556 - val_loss: 4.8233 - val_acc: 9.6712e-04 - val_mean_squared_error: 42.1490\n",
      "Epoch 393/500\n",
      "2410/2410 [==============================] - 1s 549us/step - loss: 4.5712 - acc: 0.0046 - mean_squared_error: 36.4538 - val_loss: 4.3691 - val_acc: 0.0019 - val_mean_squared_error: 32.6832\n"
     ]
    },
    {
     "name": "stdout",
     "output_type": "stream",
     "text": [
      "Epoch 394/500\n",
      "2410/2410 [==============================] - 1s 559us/step - loss: 4.5171 - acc: 8.2988e-04 - mean_squared_error: 35.8792 - val_loss: 4.6535 - val_acc: 0.0000e+00 - val_mean_squared_error: 37.9495\n",
      "Epoch 395/500\n",
      "2410/2410 [==============================] - 1s 524us/step - loss: 4.3903 - acc: 0.0041 - mean_squared_error: 34.2566 - val_loss: 4.1274 - val_acc: 0.0000e+00 - val_mean_squared_error: 31.1027\n",
      "Epoch 396/500\n",
      "2410/2410 [==============================] - 1s 506us/step - loss: 4.3316 - acc: 8.2988e-04 - mean_squared_error: 33.9018 - val_loss: 4.6253 - val_acc: 0.0000e+00 - val_mean_squared_error: 35.7909\n",
      "Epoch 397/500\n",
      "2410/2410 [==============================] - 1s 523us/step - loss: 4.6694 - acc: 0.0025 - mean_squared_error: 37.3095 - val_loss: 4.5996 - val_acc: 0.0000e+00 - val_mean_squared_error: 35.3063\n",
      "Epoch 398/500\n",
      "2410/2410 [==============================] - 1s 587us/step - loss: 4.2765 - acc: 0.0037 - mean_squared_error: 33.0254 - val_loss: 4.2577 - val_acc: 9.6712e-04 - val_mean_squared_error: 33.5001\n",
      "Epoch 399/500\n",
      "2410/2410 [==============================] - 2s 630us/step - loss: 4.4488 - acc: 8.2988e-04 - mean_squared_error: 35.0575 - val_loss: 4.4235 - val_acc: 0.0000e+00 - val_mean_squared_error: 32.9752\n",
      "Epoch 400/500\n",
      "2410/2410 [==============================] - 1s 470us/step - loss: 4.5017 - acc: 0.0029 - mean_squared_error: 35.4001 - val_loss: 4.1675 - val_acc: 9.6712e-04 - val_mean_squared_error: 30.9628\n",
      "Epoch 401/500\n",
      "2410/2410 [==============================] - 1s 457us/step - loss: 4.3146 - acc: 0.0017 - mean_squared_error: 33.3314 - val_loss: 4.1405 - val_acc: 0.0019 - val_mean_squared_error: 32.1463\n",
      "Epoch 402/500\n",
      "2410/2410 [==============================] - 1s 539us/step - loss: 4.3094 - acc: 0.0075 - mean_squared_error: 33.6050 - val_loss: 4.3106 - val_acc: 9.6712e-04 - val_mean_squared_error: 32.5044\n",
      "Epoch 403/500\n",
      "2410/2410 [==============================] - 1s 441us/step - loss: 4.4311 - acc: 0.0041 - mean_squared_error: 34.3136 - val_loss: 4.4208 - val_acc: 9.6712e-04 - val_mean_squared_error: 36.3618\n",
      "Epoch 404/500\n",
      "2410/2410 [==============================] - 1s 437us/step - loss: 4.4484 - acc: 8.2988e-04 - mean_squared_error: 35.2382 - val_loss: 5.8901 - val_acc: 0.0000e+00 - val_mean_squared_error: 54.7411\n",
      "Epoch 405/500\n",
      "2410/2410 [==============================] - 1s 532us/step - loss: 4.9590 - acc: 0.0025 - mean_squared_error: 40.7207 - val_loss: 5.4847 - val_acc: 0.0000e+00 - val_mean_squared_error: 49.1069\n",
      "Epoch 406/500\n",
      "2410/2410 [==============================] - 1s 556us/step - loss: 5.0250 - acc: 0.0012 - mean_squared_error: 43.3365 - val_loss: 5.0142 - val_acc: 9.6712e-04 - val_mean_squared_error: 41.0029\n",
      "Epoch 407/500\n",
      "2410/2410 [==============================] - 1s 441us/step - loss: 4.4510 - acc: 0.0021 - mean_squared_error: 34.4875 - val_loss: 3.9767 - val_acc: 0.0000e+00 - val_mean_squared_error: 29.8603\n",
      "Epoch 408/500\n",
      "2410/2410 [==============================] - 1s 426us/step - loss: 4.0985 - acc: 0.0029 - mean_squared_error: 31.0642 - val_loss: 3.9862 - val_acc: 0.0145 - val_mean_squared_error: 28.9636\n",
      "Epoch 409/500\n",
      "2410/2410 [==============================] - 1s 538us/step - loss: 4.4297 - acc: 0.0046 - mean_squared_error: 34.3552 - val_loss: 4.2625 - val_acc: 9.6712e-04 - val_mean_squared_error: 31.9937\n",
      "Epoch 410/500\n",
      "2410/2410 [==============================] - 1s 450us/step - loss: 4.1669 - acc: 0.0017 - mean_squared_error: 31.4140 - val_loss: 3.9977 - val_acc: 0.0145 - val_mean_squared_error: 29.8240\n",
      "Epoch 411/500\n",
      "2410/2410 [==============================] - 1s 433us/step - loss: 4.1829 - acc: 0.0029 - mean_squared_error: 31.6961 - val_loss: 5.2795 - val_acc: 0.0000e+00 - val_mean_squared_error: 46.8891\n",
      "Epoch 412/500\n",
      "2410/2410 [==============================] - 1s 524us/step - loss: 4.4613 - acc: 0.0033 - mean_squared_error: 35.0244 - val_loss: 4.3981 - val_acc: 0.0000e+00 - val_mean_squared_error: 32.6695\n",
      "Epoch 413/500\n",
      "2410/2410 [==============================] - 1s 515us/step - loss: 4.0582 - acc: 0.0041 - mean_squared_error: 30.2379 - val_loss: 4.7461 - val_acc: 0.0000e+00 - val_mean_squared_error: 39.1871\n",
      "Epoch 414/500\n",
      "2410/2410 [==============================] - 1s 494us/step - loss: 4.2593 - acc: 0.0033 - mean_squared_error: 32.7638 - val_loss: 4.6395 - val_acc: 9.6712e-04 - val_mean_squared_error: 41.8218\n",
      "Epoch 415/500\n",
      "2410/2410 [==============================] - 1s 487us/step - loss: 4.4116 - acc: 0.0025 - mean_squared_error: 34.5718 - val_loss: 4.1248 - val_acc: 0.0000e+00 - val_mean_squared_error: 30.6302\n",
      "Epoch 416/500\n",
      "2410/2410 [==============================] - 1s 541us/step - loss: 4.7673 - acc: 0.0021 - mean_squared_error: 39.0549 - val_loss: 3.9500 - val_acc: 0.0029 - val_mean_squared_error: 29.1990\n",
      "Epoch 417/500\n",
      "2410/2410 [==============================] - 1s 448us/step - loss: 4.6693 - acc: 0.0000e+00 - mean_squared_error: 37.3674 - val_loss: 4.2398 - val_acc: 0.0000e+00 - val_mean_squared_error: 33.5592\n",
      "Epoch 418/500\n",
      "2410/2410 [==============================] - 1s 550us/step - loss: 4.4702 - acc: 0.0037 - mean_squared_error: 35.0894 - val_loss: 4.1667 - val_acc: 0.0000e+00 - val_mean_squared_error: 30.6223\n",
      "Epoch 419/500\n",
      "2410/2410 [==============================] - 1s 464us/step - loss: 4.2395 - acc: 0.0041 - mean_squared_error: 32.6622 - val_loss: 4.5646 - val_acc: 0.0029 - val_mean_squared_error: 35.4019\n",
      "Epoch 420/500\n",
      "2410/2410 [==============================] - 1s 581us/step - loss: 4.2796 - acc: 0.0029 - mean_squared_error: 32.7422 - val_loss: 3.9710 - val_acc: 0.0000e+00 - val_mean_squared_error: 29.2318\n",
      "Epoch 421/500\n",
      "2410/2410 [==============================] - 1s 550us/step - loss: 4.6684 - acc: 8.2988e-04 - mean_squared_error: 37.9976 - val_loss: 5.2044 - val_acc: 0.0000e+00 - val_mean_squared_error: 42.0809\n",
      "Epoch 422/500\n",
      "2410/2410 [==============================] - 1s 513us/step - loss: 4.2988 - acc: 0.0079 - mean_squared_error: 33.0955 - val_loss: 4.0538 - val_acc: 9.6712e-04 - val_mean_squared_error: 29.3373\n",
      "Epoch 423/500\n",
      "2410/2410 [==============================] - 1s 529us/step - loss: 4.1836 - acc: 0.0058 - mean_squared_error: 31.7085 - val_loss: 4.4808 - val_acc: 0.0000e+00 - val_mean_squared_error: 35.3782\n",
      "Epoch 424/500\n",
      "2410/2410 [==============================] - 1s 540us/step - loss: 4.1118 - acc: 0.0037 - mean_squared_error: 30.5796 - val_loss: 4.0735 - val_acc: 0.0000e+00 - val_mean_squared_error: 31.6920\n",
      "Epoch 425/500\n",
      "2410/2410 [==============================] - 1s 537us/step - loss: 4.0110 - acc: 0.0025 - mean_squared_error: 29.9504 - val_loss: 5.4414 - val_acc: 0.0000e+00 - val_mean_squared_error: 46.0332\n",
      "Epoch 426/500\n",
      "2410/2410 [==============================] - 1s 513us/step - loss: 5.1181 - acc: 8.2988e-04 - mean_squared_error: 44.6990 - val_loss: 4.4346 - val_acc: 0.0000e+00 - val_mean_squared_error: 35.0309\n",
      "Epoch 427/500\n",
      "2410/2410 [==============================] - 1s 466us/step - loss: 4.1068 - acc: 0.0041 - mean_squared_error: 30.5706 - val_loss: 4.1121 - val_acc: 9.6712e-04 - val_mean_squared_error: 32.0617\n",
      "Epoch 428/500\n",
      "2410/2410 [==============================] - 1s 530us/step - loss: 4.1915 - acc: 0.0050 - mean_squared_error: 31.6965 - val_loss: 3.8843 - val_acc: 0.0164 - val_mean_squared_error: 28.1364\n",
      "Epoch 429/500\n",
      "2410/2410 [==============================] - 1s 462us/step - loss: 4.1599 - acc: 0.0046 - mean_squared_error: 31.2538 - val_loss: 4.0457 - val_acc: 0.0000e+00 - val_mean_squared_error: 30.0102\n",
      "Epoch 430/500\n",
      "2410/2410 [==============================] - 1s 533us/step - loss: 4.1037 - acc: 0.0029 - mean_squared_error: 30.5452 - val_loss: 3.9728 - val_acc: 0.0000e+00 - val_mean_squared_error: 30.0772\n",
      "Epoch 431/500\n",
      "2410/2410 [==============================] - 1s 504us/step - loss: 4.2321 - acc: 0.0029 - mean_squared_error: 31.7269 - val_loss: 3.9712 - val_acc: 9.6712e-04 - val_mean_squared_error: 28.6267\n",
      "Epoch 432/500\n",
      "2410/2410 [==============================] - 1s 517us/step - loss: 4.0813 - acc: 0.0046 - mean_squared_error: 30.6669 - val_loss: 4.0102 - val_acc: 0.0000e+00 - val_mean_squared_error: 29.7539\n",
      "Epoch 433/500\n"
     ]
    },
    {
     "name": "stdout",
     "output_type": "stream",
     "text": [
      "2410/2410 [==============================] - 1s 454us/step - loss: 4.0409 - acc: 0.0050 - mean_squared_error: 30.0218 - val_loss: 4.2651 - val_acc: 0.0000e+00 - val_mean_squared_error: 34.6485\n",
      "Epoch 434/500\n",
      "2410/2410 [==============================] - 1s 565us/step - loss: 4.1454 - acc: 0.0033 - mean_squared_error: 31.1224 - val_loss: 3.8481 - val_acc: 0.0155 - val_mean_squared_error: 27.6288\n",
      "Epoch 435/500\n",
      "2410/2410 [==============================] - 1s 447us/step - loss: 4.2987 - acc: 0.0037 - mean_squared_error: 32.9282 - val_loss: 4.3484 - val_acc: 0.0097 - val_mean_squared_error: 36.6290\n",
      "Epoch 436/500\n",
      "2410/2410 [==============================] - 1s 515us/step - loss: 4.6057 - acc: 0.0021 - mean_squared_error: 37.1461 - val_loss: 4.0372 - val_acc: 0.0155 - val_mean_squared_error: 29.6101\n",
      "Epoch 437/500\n",
      "2410/2410 [==============================] - 1s 477us/step - loss: 4.3022 - acc: 0.0017 - mean_squared_error: 32.1828 - val_loss: 4.0217 - val_acc: 0.0097 - val_mean_squared_error: 29.5370\n",
      "Epoch 438/500\n",
      "2410/2410 [==============================] - 1s 606us/step - loss: 4.0567 - acc: 0.0083 - mean_squared_error: 30.4573 - val_loss: 4.1564 - val_acc: 0.0000e+00 - val_mean_squared_error: 31.6208\n",
      "Epoch 439/500\n",
      "2410/2410 [==============================] - 2s 652us/step - loss: 4.5379 - acc: 8.2988e-04 - mean_squared_error: 35.2391 - val_loss: 4.3408 - val_acc: 0.0000e+00 - val_mean_squared_error: 33.9104\n",
      "Epoch 440/500\n",
      "2410/2410 [==============================] - 2s 707us/step - loss: 4.3047 - acc: 0.0046 - mean_squared_error: 33.1403 - val_loss: 3.9506 - val_acc: 9.6712e-04 - val_mean_squared_error: 30.3794\n",
      "Epoch 441/500\n",
      "2410/2410 [==============================] - 1s 520us/step - loss: 4.2262 - acc: 0.0041 - mean_squared_error: 32.1503 - val_loss: 4.0739 - val_acc: 0.0145 - val_mean_squared_error: 30.8648\n",
      "Epoch 442/500\n",
      "2410/2410 [==============================] - 1s 526us/step - loss: 4.5005 - acc: 0.0025 - mean_squared_error: 35.7781 - val_loss: 4.3850 - val_acc: 0.0000e+00 - val_mean_squared_error: 32.9386\n",
      "Epoch 443/500\n",
      "2410/2410 [==============================] - 2s 666us/step - loss: 3.9642 - acc: 0.0041 - mean_squared_error: 28.9781 - val_loss: 4.1610 - val_acc: 0.0000e+00 - val_mean_squared_error: 30.3265\n",
      "Epoch 444/500\n",
      "2410/2410 [==============================] - 1s 521us/step - loss: 4.2282 - acc: 0.0021 - mean_squared_error: 31.8444 - val_loss: 4.0522 - val_acc: 0.0000e+00 - val_mean_squared_error: 30.9486\n",
      "Epoch 445/500\n",
      "2410/2410 [==============================] - 2s 701us/step - loss: 3.9713 - acc: 0.0054 - mean_squared_error: 29.1476 - val_loss: 4.6284 - val_acc: 0.0000e+00 - val_mean_squared_error: 39.5782\n",
      "Epoch 446/500\n",
      "2410/2410 [==============================] - 2s 675us/step - loss: 4.2448 - acc: 0.0058 - mean_squared_error: 32.6404 - val_loss: 5.0641 - val_acc: 0.0000e+00 - val_mean_squared_error: 39.7176\n",
      "Epoch 447/500\n",
      "2410/2410 [==============================] - 2s 673us/step - loss: 5.6599 - acc: 0.0012 - mean_squared_error: 51.6636 - val_loss: 4.1818 - val_acc: 0.0000e+00 - val_mean_squared_error: 31.1180\n",
      "Epoch 448/500\n",
      "2410/2410 [==============================] - 1s 509us/step - loss: 4.6906 - acc: 0.0033 - mean_squared_error: 37.8734 - val_loss: 3.8762 - val_acc: 9.6712e-04 - val_mean_squared_error: 27.3488\n",
      "Epoch 449/500\n",
      "2410/2410 [==============================] - 1s 493us/step - loss: 4.3327 - acc: 0.0083 - mean_squared_error: 33.0804 - val_loss: 3.8863 - val_acc: 9.6712e-04 - val_mean_squared_error: 27.9068\n",
      "Epoch 450/500\n",
      "2410/2410 [==============================] - 1s 564us/step - loss: 4.4353 - acc: 0.0041 - mean_squared_error: 34.4313 - val_loss: 4.1493 - val_acc: 0.0000e+00 - val_mean_squared_error: 31.3115\n",
      "Epoch 451/500\n",
      "2410/2410 [==============================] - 1s 556us/step - loss: 4.5156 - acc: 0.0029 - mean_squared_error: 35.4014 - val_loss: 3.8983 - val_acc: 0.0000e+00 - val_mean_squared_error: 28.0367\n",
      "Epoch 452/500\n",
      "2410/2410 [==============================] - 1s 542us/step - loss: 4.0155 - acc: 0.0041 - mean_squared_error: 29.0956 - val_loss: 4.5037 - val_acc: 0.0000e+00 - val_mean_squared_error: 32.9051\n",
      "Epoch 453/500\n",
      "2410/2410 [==============================] - 1s 450us/step - loss: 4.3157 - acc: 0.0037 - mean_squared_error: 32.3828 - val_loss: 4.4663 - val_acc: 0.0000e+00 - val_mean_squared_error: 34.8111\n",
      "Epoch 454/500\n",
      "2410/2410 [==============================] - 1s 560us/step - loss: 4.1146 - acc: 0.0029 - mean_squared_error: 30.0300 - val_loss: 3.9650 - val_acc: 0.0087 - val_mean_squared_error: 28.4092\n",
      "Epoch 455/500\n",
      "2410/2410 [==============================] - 1s 572us/step - loss: 3.9196 - acc: 0.0037 - mean_squared_error: 28.4744 - val_loss: 4.4785 - val_acc: 0.0000e+00 - val_mean_squared_error: 35.6769\n",
      "Epoch 456/500\n",
      "2410/2410 [==============================] - 1s 558us/step - loss: 4.2299 - acc: 0.0054 - mean_squared_error: 31.7711 - val_loss: 4.8523 - val_acc: 0.0000e+00 - val_mean_squared_error: 38.8049\n",
      "Epoch 457/500\n",
      "2410/2410 [==============================] - 1s 561us/step - loss: 4.4412 - acc: 0.0017 - mean_squared_error: 33.8145 - val_loss: 3.9164 - val_acc: 0.0000e+00 - val_mean_squared_error: 28.1842\n",
      "Epoch 458/500\n",
      "2410/2410 [==============================] - 1s 401us/step - loss: 4.1614 - acc: 0.0029 - mean_squared_error: 31.1418 - val_loss: 3.9254 - val_acc: 0.0000e+00 - val_mean_squared_error: 28.6139\n",
      "Epoch 459/500\n",
      "2410/2410 [==============================] - 1s 505us/step - loss: 3.9982 - acc: 0.0025 - mean_squared_error: 29.2131 - val_loss: 3.9251 - val_acc: 9.6712e-04 - val_mean_squared_error: 27.8177\n",
      "Epoch 460/500\n",
      "2410/2410 [==============================] - 1s 536us/step - loss: 4.6096 - acc: 0.0017 - mean_squared_error: 36.9004 - val_loss: 4.2829 - val_acc: 0.0019 - val_mean_squared_error: 31.9125\n",
      "Epoch 461/500\n",
      "2410/2410 [==============================] - 1s 581us/step - loss: 4.2028 - acc: 0.0041 - mean_squared_error: 31.4443 - val_loss: 3.8483 - val_acc: 0.0000e+00 - val_mean_squared_error: 28.4023\n",
      "Epoch 462/500\n",
      "2410/2410 [==============================] - 1s 449us/step - loss: 4.0215 - acc: 0.0021 - mean_squared_error: 29.0301 - val_loss: 3.9222 - val_acc: 9.6712e-04 - val_mean_squared_error: 29.0261\n",
      "Epoch 463/500\n",
      "2410/2410 [==============================] - 2s 625us/step - loss: 4.1415 - acc: 0.0058 - mean_squared_error: 31.1712 - val_loss: 4.1743 - val_acc: 0.0000e+00 - val_mean_squared_error: 33.8319\n",
      "Epoch 464/500\n",
      "2410/2410 [==============================] - 1s 503us/step - loss: 4.1148 - acc: 0.0050 - mean_squared_error: 30.7671 - val_loss: 4.2976 - val_acc: 0.0000e+00 - val_mean_squared_error: 32.1847\n",
      "Epoch 465/500\n",
      "2410/2410 [==============================] - 1s 465us/step - loss: 4.8362 - acc: 0.0012 - mean_squared_error: 39.3108 - val_loss: 5.6517 - val_acc: 0.0000e+00 - val_mean_squared_error: 50.9109\n",
      "Epoch 466/500\n",
      "2410/2410 [==============================] - 1s 560us/step - loss: 4.5102 - acc: 0.0033 - mean_squared_error: 34.5591 - val_loss: 4.2631 - val_acc: 0.0135 - val_mean_squared_error: 31.9566\n",
      "Epoch 467/500\n",
      "2410/2410 [==============================] - 1s 563us/step - loss: 4.0114 - acc: 0.0058 - mean_squared_error: 29.7556 - val_loss: 4.1879 - val_acc: 0.0145 - val_mean_squared_error: 30.3609\n",
      "Epoch 468/500\n",
      "2410/2410 [==============================] - 1s 553us/step - loss: 4.4152 - acc: 0.0025 - mean_squared_error: 33.6191 - val_loss: 4.2769 - val_acc: 0.0000e+00 - val_mean_squared_error: 33.0320\n",
      "Epoch 469/500\n",
      "2410/2410 [==============================] - 1s 496us/step - loss: 4.1488 - acc: 0.0054 - mean_squared_error: 30.9358 - val_loss: 3.8245 - val_acc: 0.0126 - val_mean_squared_error: 28.1296\n",
      "Epoch 470/500\n",
      "2410/2410 [==============================] - 1s 607us/step - loss: 4.0020 - acc: 0.0050 - mean_squared_error: 29.3521 - val_loss: 3.9717 - val_acc: 0.0087 - val_mean_squared_error: 29.3266\n",
      "Epoch 471/500\n",
      "2410/2410 [==============================] - 1s 487us/step - loss: 3.9912 - acc: 0.0037 - mean_squared_error: 29.0995 - val_loss: 3.8958 - val_acc: 0.0000e+00 - val_mean_squared_error: 27.5152\n",
      "Epoch 472/500\n",
      "2410/2410 [==============================] - 1s 499us/step - loss: 4.1340 - acc: 0.0037 - mean_squared_error: 30.9117 - val_loss: 3.8687 - val_acc: 0.0164 - val_mean_squared_error: 27.6370\n"
     ]
    },
    {
     "name": "stdout",
     "output_type": "stream",
     "text": [
      "Epoch 473/500\n",
      "2410/2410 [==============================] - 1s 506us/step - loss: 4.1316 - acc: 0.0037 - mean_squared_error: 30.6956 - val_loss: 3.8663 - val_acc: 0.0155 - val_mean_squared_error: 29.3308\n",
      "Epoch 474/500\n",
      "2410/2410 [==============================] - 1s 505us/step - loss: 4.0954 - acc: 0.0058 - mean_squared_error: 30.6129 - val_loss: 6.1589 - val_acc: 0.0000e+00 - val_mean_squared_error: 57.8130\n",
      "Epoch 475/500\n",
      "2410/2410 [==============================] - 1s 473us/step - loss: 4.3596 - acc: 0.0041 - mean_squared_error: 32.7467 - val_loss: 4.7749 - val_acc: 0.0000e+00 - val_mean_squared_error: 37.9132\n",
      "Epoch 476/500\n",
      "2410/2410 [==============================] - 1s 472us/step - loss: 4.6785 - acc: 0.0046 - mean_squared_error: 38.0701 - val_loss: 3.8343 - val_acc: 0.0000e+00 - val_mean_squared_error: 26.4395\n",
      "Epoch 477/500\n",
      "2410/2410 [==============================] - 1s 410us/step - loss: 4.2021 - acc: 0.0046 - mean_squared_error: 31.2465 - val_loss: 4.2105 - val_acc: 0.0000e+00 - val_mean_squared_error: 33.3238\n",
      "Epoch 478/500\n",
      "2410/2410 [==============================] - 1s 480us/step - loss: 4.0627 - acc: 0.0046 - mean_squared_error: 29.4871 - val_loss: 3.7579 - val_acc: 0.0019 - val_mean_squared_error: 27.5176\n",
      "Epoch 479/500\n",
      "2410/2410 [==============================] - 1s 502us/step - loss: 4.3348 - acc: 0.0025 - mean_squared_error: 33.1805 - val_loss: 3.7750 - val_acc: 0.0000e+00 - val_mean_squared_error: 26.9051\n",
      "Epoch 480/500\n",
      "2410/2410 [==============================] - 2s 626us/step - loss: 4.1232 - acc: 0.0041 - mean_squared_error: 30.3993 - val_loss: 4.0325 - val_acc: 0.0019 - val_mean_squared_error: 31.5579\n",
      "Epoch 481/500\n",
      "2410/2410 [==============================] - 1s 559us/step - loss: 4.2317 - acc: 0.0062 - mean_squared_error: 32.0726 - val_loss: 4.2821 - val_acc: 0.0000e+00 - val_mean_squared_error: 32.3175\n",
      "Epoch 482/500\n",
      "2410/2410 [==============================] - 1s 501us/step - loss: 4.1202 - acc: 0.0033 - mean_squared_error: 30.5550 - val_loss: 3.8514 - val_acc: 0.0029 - val_mean_squared_error: 27.2515\n",
      "Epoch 483/500\n",
      "2410/2410 [==============================] - 1s 514us/step - loss: 4.1337 - acc: 0.0058 - mean_squared_error: 30.4328 - val_loss: 3.8671 - val_acc: 9.6712e-04 - val_mean_squared_error: 27.1476\n",
      "Epoch 484/500\n",
      "2410/2410 [==============================] - 1s 489us/step - loss: 3.9435 - acc: 0.0071 - mean_squared_error: 28.4409 - val_loss: 3.6964 - val_acc: 0.0000e+00 - val_mean_squared_error: 26.3624\n",
      "Epoch 485/500\n",
      "2410/2410 [==============================] - 1s 436us/step - loss: 4.0752 - acc: 0.0025 - mean_squared_error: 30.0283 - val_loss: 4.0720 - val_acc: 9.6712e-04 - val_mean_squared_error: 29.7032\n",
      "Epoch 486/500\n",
      "2410/2410 [==============================] - 1s 600us/step - loss: 4.0011 - acc: 0.0050 - mean_squared_error: 28.9453 - val_loss: 4.8890 - val_acc: 0.0000e+00 - val_mean_squared_error: 41.2608\n",
      "Epoch 487/500\n",
      "2410/2410 [==============================] - 1s 510us/step - loss: 3.9349 - acc: 0.0058 - mean_squared_error: 28.0752 - val_loss: 3.8357 - val_acc: 0.0000e+00 - val_mean_squared_error: 27.6806\n",
      "Epoch 488/500\n",
      "2410/2410 [==============================] - 1s 567us/step - loss: 3.8461 - acc: 0.0095 - mean_squared_error: 27.5410 - val_loss: 3.8017 - val_acc: 0.0000e+00 - val_mean_squared_error: 25.7691\n",
      "Epoch 489/500\n",
      "2410/2410 [==============================] - 1s 528us/step - loss: 4.1932 - acc: 0.0029 - mean_squared_error: 31.5368 - val_loss: 3.8506 - val_acc: 0.0000e+00 - val_mean_squared_error: 26.7940\n",
      "Epoch 490/500\n",
      "2410/2410 [==============================] - 1s 452us/step - loss: 4.1850 - acc: 0.0083 - mean_squared_error: 31.7782 - val_loss: 4.4212 - val_acc: 0.0000e+00 - val_mean_squared_error: 34.8547\n",
      "Epoch 491/500\n",
      "2410/2410 [==============================] - 1s 531us/step - loss: 4.0576 - acc: 0.0037 - mean_squared_error: 29.8142 - val_loss: 3.8069 - val_acc: 0.0097 - val_mean_squared_error: 26.2358\n",
      "Epoch 492/500\n",
      "2410/2410 [==============================] - 1s 485us/step - loss: 4.1756 - acc: 0.0033 - mean_squared_error: 30.9522 - val_loss: 3.8491 - val_acc: 0.0135 - val_mean_squared_error: 29.0467\n",
      "Epoch 493/500\n",
      "2410/2410 [==============================] - 1s 412us/step - loss: 3.9816 - acc: 0.0037 - mean_squared_error: 28.5545 - val_loss: 3.6973 - val_acc: 0.0164 - val_mean_squared_error: 26.3608\n",
      "Epoch 494/500\n",
      "2410/2410 [==============================] - 1s 479us/step - loss: 4.0697 - acc: 0.0066 - mean_squared_error: 29.6549 - val_loss: 3.7842 - val_acc: 0.0000e+00 - val_mean_squared_error: 26.4669\n",
      "Epoch 495/500\n",
      "2410/2410 [==============================] - 1s 521us/step - loss: 4.2583 - acc: 0.0041 - mean_squared_error: 31.8406 - val_loss: 3.8347 - val_acc: 0.0155 - val_mean_squared_error: 27.2712\n",
      "Epoch 496/500\n",
      "2410/2410 [==============================] - 1s 450us/step - loss: 4.0831 - acc: 0.0050 - mean_squared_error: 29.9886 - val_loss: 3.7136 - val_acc: 0.0000e+00 - val_mean_squared_error: 26.3158\n",
      "Epoch 497/500\n",
      "2410/2410 [==============================] - 1s 489us/step - loss: 4.1663 - acc: 0.0033 - mean_squared_error: 30.9426 - val_loss: 3.8440 - val_acc: 0.0155 - val_mean_squared_error: 26.9094\n",
      "Epoch 498/500\n",
      "2410/2410 [==============================] - 1s 466us/step - loss: 4.1693 - acc: 0.0058 - mean_squared_error: 30.3109 - val_loss: 5.9355 - val_acc: 0.0000e+00 - val_mean_squared_error: 55.3995\n",
      "Epoch 499/500\n",
      "2410/2410 [==============================] - 1s 470us/step - loss: 4.2448 - acc: 0.0079 - mean_squared_error: 32.0719 - val_loss: 4.5054 - val_acc: 0.0000e+00 - val_mean_squared_error: 36.5440\n",
      "Epoch 500/500\n",
      "2410/2410 [==============================] - 1s 532us/step - loss: 4.3949 - acc: 0.0017 - mean_squared_error: 33.4537 - val_loss: 4.0222 - val_acc: 0.0000e+00 - val_mean_squared_error: 29.8521\n"
     ]
    }
   ],
   "source": [
    "history=model.fit(X_train2,y_train2,validation_data=(X_test2, y_test2),epochs=epochs_final,batch_size=batch_size_final)"
   ]
  },
  {
   "cell_type": "markdown",
   "metadata": {},
   "source": [
    "**Now we have collected the history, returned from training the model.**"
   ]
  },
  {
   "cell_type": "code",
   "execution_count": 604,
   "metadata": {},
   "outputs": [
    {
     "name": "stdout",
     "output_type": "stream",
     "text": [
      "dict_keys(['val_loss', 'val_acc', 'val_mean_squared_error', 'loss', 'acc', 'mean_squared_error'])\n"
     ]
    }
   ],
   "source": [
    "print(history.history.keys())"
   ]
  },
  {
   "cell_type": "code",
   "execution_count": 613,
   "metadata": {},
   "outputs": [
    {
     "data": {
      "image/png": "[encoded data removed]",
      "text/plain": [
       "<Figure size 720x432 with 1 Axes>"
      ]
     },
     "metadata": {
      "needs_background": "light"
     },
     "output_type": "display_data"
    }
   ],
   "source": [
    "import matplotlib.pyplot as plt\n",
    "\n",
    "plt.figure(figsize=(10,6))\n",
    "\n",
    "plt.plot(history.history['mean_squared_error'])\n",
    "plt.plot(history.history['val_mean_squared_error'])\n",
    "\n",
    "plt.title('Model Error',fontsize=17,fontweight = 'bold'\n",
    ")\n",
    "plt.xlabel('Epoch',fontsize=14)\n",
    "plt.ylabel('MSE',fontsize=14)\n",
    "\n",
    "plt.legend(['Train','Test'],loc='best',fontsize=14)\n",
    "plt.savefig('Model_error.png')\n",
    "plt.show()\n"
   ]
  },
  {
   "cell_type": "markdown",
   "metadata": {},
   "source": [
    "**A plot of accuracy on the training and validation datasets over training epochs.**"
   ]
  },
  {
   "cell_type": "code",
   "execution_count": 614,
   "metadata": {},
   "outputs": [
    {
     "data": {
      "image/png": "[encoded data removed]",
      "text/plain": [
       "<Figure size 720x432 with 1 Axes>"
      ]
     },
     "metadata": {
      "needs_background": "light"
     },
     "output_type": "display_data"
    }
   ],
   "source": [
    "\n",
    "plt.figure(figsize=(10,6))\n",
    "plt.plot(history.history['loss'])\n",
    "plt.plot(history.history['val_loss'])\n",
    "plt.title('Model Loss',fontsize=17,fontweight = 'bold'\n",
    ")\n",
    "plt.xlabel('Epoch',fontsize=14)\n",
    "plt.ylabel('Loss',fontsize=14)\n",
    "plt.legend(['Train','Test'],loc='best',fontsize=14)\n",
    "plt.savefig('Mod_Loss.png')\n",
    "plt.show()"
   ]
  },
  {
   "cell_type": "markdown",
   "metadata": {},
   "source": [
    "**A plot of loss on the training and validation datasets over training epochs.**"
   ]
  },
  {
   "cell_type": "markdown",
   "metadata": {},
   "source": [
    "### **Checking model's prediction on test data**"
   ]
  },
  {
   "cell_type": "code",
   "execution_count": 653,
   "metadata": {},
   "outputs": [
    {
     "name": "stdout",
     "output_type": "stream",
     "text": [
      "RMSE value on test data:5.46\n"
     ]
    }
   ],
   "source": [
    "pred2=model.predict(X_test2)\n",
    "\n",
    "score_test=np.sqrt(mean_squared_error(y_test2,pred2))\n",
    "print(\"RMSE value on test data:{:.2f}\".format(score_test))"
   ]
  },
  {
   "cell_type": "code",
   "execution_count": 636,
   "metadata": {},
   "outputs": [
    {
     "data": {
      "text/plain": [
       "(1034,)"
      ]
     },
     "execution_count": 636,
     "metadata": {},
     "output_type": "execute_result"
    }
   ],
   "source": [
    "y_test2.shape"
   ]
  },
  {
   "cell_type": "code",
   "execution_count": 637,
   "metadata": {},
   "outputs": [
    {
     "data": {
      "text/plain": [
       "(1034, 1)"
      ]
     },
     "execution_count": 637,
     "metadata": {},
     "output_type": "execute_result"
    }
   ],
   "source": [
    "pred2.shape"
   ]
  },
  {
   "cell_type": "code",
   "execution_count": 656,
   "metadata": {},
   "outputs": [
    {
     "name": "stdout",
     "output_type": "stream",
     "text": [
      "[87.6    68.8727 75.7667 ... 76.7417 83.2167 85.0376]\n"
     ]
    }
   ],
   "source": [
    "#Editions to plot correctly\n",
    "y_test2_ed=y_test2.to_numpy()\n",
    "print(teste_Y.transpose())"
   ]
  },
  {
   "cell_type": "markdown",
   "metadata": {},
   "source": [
    "### Ploting logs"
   ]
  },
  {
   "cell_type": "code",
   "execution_count": 676,
   "metadata": {},
   "outputs": [
    {
     "data": {
      "image/png": "[encoded data removed]",
      "text/plain": [
       "<Figure size 1512x1080 with 1 Axes>"
      ]
     },
     "metadata": {
      "needs_background": "light"
     },
     "output_type": "display_data"
    }
   ],
   "source": [
    "\n",
    "plt.figure(figsize=(21,15))\n",
    "plt.title(\"Velocity prediction\",fontsize=25)\n",
    "plt.plot(y_test2_ed,'.' ,markersize=np.sqrt(400.), label='Test' ) \n",
    "plt.plot(pred2,'*',markersize=np.sqrt(44.),label='Prediction')\n",
    "pyplot.xlim(right=1100)\n",
    "prop_legend= {'weight':'bold'}\n",
    "plt.legend(loc=\"best\",prop=prop_legend)\n",
    "pyplot.legend()\n",
    "plt.savefig('Regressor_predictions_DNN.png')\n",
    "plt.show()"
   ]
  },
  {
   "cell_type": "markdown",
   "metadata": {},
   "source": [
    "\n",
    "## References"
   ]
  },
  {
   "cell_type": "markdown",
   "metadata": {},
   "source": [
    "[1]https://www.ga.gov.au/scientific-topics/energy/province-sedimentary-basin-geology/petroleum/offshore-southern-australia/otway , visited in Jun/2020."
   ]
  },
  {
   "cell_type": "markdown",
   "metadata": {},
   "source": [
    "[2]https://en.wikipedia.org/wiki/Otway_Basin, visited in Jun/2020."
   ]
  },
  {
   "cell_type": "markdown",
   "metadata": {},
   "source": [
    "[3]https://www.spec2000.net, visited in Jun/2020."
   ]
  },
  {
   "cell_type": "markdown",
   "metadata": {},
   "source": [
    "[4]http://www.energymining.sa.gov.au/petroleum/prospectivity/otway_basin, visited in Jun/2020."
   ]
  },
  {
   "cell_type": "markdown",
   "metadata": {},
   "source": [
    "[5]https://readthedocs.org/projects/lasio/downloads/pdf/latest/"
   ]
  },
  {
   "cell_type": "markdown",
   "metadata": {},
   "source": [
    "[6]https://wiki.aapg.org/Well_log_analysis_for_reservoir_characterization "
   ]
  }
 ],
 "metadata": {
  "kernelspec": {
   "display_name": "Python 3",
   "language": "python",
   "name": "python3"
  },
  "language_info": {
   "codemirror_mode": {
    "name": "ipython",
    "version": 3
   },
   "file_extension": ".py",
   "mimetype": "text/x-python",
   "name": "python",
   "nbconvert_exporter": "python",
   "pygments_lexer": "ipython3",
   "version": "3.7.3"
  }
 },
 "nbformat": 4,
 "nbformat_minor": 4
}
